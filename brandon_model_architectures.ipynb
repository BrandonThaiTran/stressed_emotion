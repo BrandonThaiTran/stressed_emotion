{
 "cells": [
  {
   "cell_type": "code",
   "execution_count": 3,
   "id": "attractive-authority",
   "metadata": {},
   "outputs": [],
   "source": [
    "import torch\n",
    "import torch.nn as nn\n",
    "import numpy as np"
   ]
  },
  {
   "cell_type": "markdown",
   "id": "fundamental-going",
   "metadata": {},
   "source": [
    "# Master branch"
   ]
  },
  {
   "cell_type": "code",
   "execution_count": 4,
   "id": "selected-ethics",
   "metadata": {},
   "outputs": [],
   "source": [
    "class MasterNet(nn.Module):\n",
    "    def __init__(self):\n",
    "        super(MasterNet, self).__init__()\n",
    "        \n",
    "    def forward(self,x):\n",
    "        return x"
   ]
  },
  {
   "cell_type": "markdown",
   "id": "fuzzy-iceland",
   "metadata": {},
   "source": [
    "# Acoustic Branch"
   ]
  },
  {
   "cell_type": "code",
   "execution_count": 11,
   "id": "written-smoke",
   "metadata": {},
   "outputs": [],
   "source": [
    "class AcousticNet(nn.Module):\n",
    "    def __init__(self, num_conv_layers = 3, kernel_size = 2, conv_width = 32):\n",
    "        super(AcousticNet, self).__init__()\n",
    "        self.conv = nn.Conv1d(in_channels=1, out_channels=conv_width, kernel_size=kernel_size)\n",
    "        self.maxpool = nn.MaxPool1d(kernel_size = 2)\n",
    "        self.relu = nn.ReLU()\n",
    "        self.gru = nn.GRU(input_size=19,hidden_size=32,num_layers=2)\n",
    "        self.mean_pool = nn.AvgPool1d(kernel_size=2)\n",
    "        \n",
    "    def forward(self, x):\n",
    "        x = self.conv(x)\n",
    "        print('conv', x.shape)\n",
    "        x = self.maxpool(x)\n",
    "        print('max pool', x.shape)\n",
    "        x = self.relu(x)\n",
    "        print('relu', x.shape)\n",
    "        x, _ = self.gru(x)\n",
    "        print('gru', x.shape)\n",
    "        x = self.mean_pool(x)\n",
    "        print('mean pool', x.shape)\n",
    "        return x"
   ]
  },
  {
   "cell_type": "code",
   "execution_count": 12,
   "id": "banned-florist",
   "metadata": {},
   "outputs": [
    {
     "name": "stdout",
     "output_type": "stream",
     "text": [
      "conv torch.Size([10, 32, 39])\n",
      "max pool torch.Size([10, 32, 19])\n",
      "relu torch.Size([10, 32, 19])\n",
      "gru torch.Size([10, 32, 32])\n",
      "mean pool torch.Size([10, 32, 16])\n",
      "Shape of output: torch.Size([10, 32, 16])\n"
     ]
    }
   ],
   "source": [
    "# Test dummy input\n",
    "net = AcousticNet()\n",
    "test_vec = torch.randn(10, 1, 40)\n",
    "output = net(test_vec)\n",
    "print(f'Shape of output: {output.shape}')\n",
    "# assert output.shape[-1] == 16"
   ]
  },
  {
   "cell_type": "markdown",
   "id": "genetic-disabled",
   "metadata": {},
   "source": [
    "# Lexical Branch"
   ]
  },
  {
   "cell_type": "code",
   "execution_count": 5,
   "id": "grateful-broadcasting",
   "metadata": {},
   "outputs": [],
   "source": [
    "# implement GRU (or transformer)\n",
    "class LexicalNet(nn.Module):\n",
    "    def __init__(self, num_gru_layers = 2):\n",
    "        super(LexicalNet, self).__init__()\n",
    "        # implement GRU (or transformer)\n",
    "        self.gru = nn.GRU(input_size=300,hidden_size=32,num_layers=num_gru_layers)\n",
    "        self.mean_pool = nn.AvgPool1d(kernel_size=2)\n",
    "        \n",
    "    def forward(self, x):\n",
    "        x, _ = self.gru(x)\n",
    "        x = self.mean_pool(x)\n",
    "        return x"
   ]
  },
  {
   "cell_type": "code",
   "execution_count": 6,
   "id": "executed-transsexual",
   "metadata": {},
   "outputs": [],
   "source": [
    "# Test dummy input\n",
    "net = LexicalNet(num_gru_layers = 3)\n",
    "test_vec = torch.randn(10, 1, 300)\n",
    "output = net(test_vec)\n",
    "assert output.shape[-1] == 16"
   ]
  },
  {
   "cell_type": "code",
   "execution_count": null,
   "id": "fewer-light",
   "metadata": {},
   "outputs": [],
   "source": []
  }
 ],
 "metadata": {
  "kernelspec": {
   "display_name": "Python 3",
   "language": "python",
   "name": "python3"
  },
  "language_info": {
   "codemirror_mode": {
    "name": "ipython",
    "version": 3
   },
   "file_extension": ".py",
   "mimetype": "text/x-python",
   "name": "python",
   "nbconvert_exporter": "python",
   "pygments_lexer": "ipython3",
   "version": "3.8.6"
  }
 },
 "nbformat": 4,
 "nbformat_minor": 5
}
