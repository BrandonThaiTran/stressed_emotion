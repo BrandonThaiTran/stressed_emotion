{
 "cells": [
  {
   "cell_type": "code",
   "execution_count": 1,
   "id": "close-stand",
   "metadata": {},
   "outputs": [],
   "source": [
    "import torch\n",
    "import torch.nn as nn\n",
    "import numpy as np\n",
    "import torch.nn.functional as F\n",
    "import itertools\n",
    "import matplotlib.pyplot as plt\n",
    "\n",
    "import sampler\n",
    "import datasets\n",
    "from earlystopping import EarlyStopping\n",
    "\n",
    "from sklearn.metrics import accuracy_score, recall_score\n",
    "from torch.autograd  import  Function"
   ]
  },
  {
   "cell_type": "markdown",
   "id": "colonial-intellectual",
   "metadata": {},
   "source": [
    "# Acoustic Branch"
   ]
  },
  {
   "cell_type": "markdown",
   "id": "virgin-banner",
   "metadata": {},
   "source": [
    "Inputs for acoustic branch will be N x 40 where N [1,33]  \n",
    "Time step: (2, 10) (seconds?)  \n",
    "N: relative duration after feature extraction"
   ]
  },
  {
   "cell_type": "code",
   "execution_count": 2,
   "id": "elect-brunswick",
   "metadata": {},
   "outputs": [],
   "source": [
    "class AcousticNet(nn.Module):\n",
    "    def __init__(self, num_conv_layers = 3, kernel_size = 2, conv_width = 32, num_gru_layers = 2):\n",
    "        super(AcousticNet, self).__init__()\n",
    "        self.num_conv_layers = num_conv_layers\n",
    "        self.conv1 = nn.Conv1d(in_channels=40, out_channels=conv_width, kernel_size=kernel_size, padding = kernel_size - 1)\n",
    "        self.conv2 = nn.Conv1d(in_channels=conv_width, out_channels=conv_width, kernel_size=kernel_size, padding = kernel_size - 1)\n",
    "        self.conv3 = nn.Conv1d(in_channels=conv_width, out_channels=conv_width, kernel_size=kernel_size, padding = kernel_size - 1)\n",
    "        self.conv4 = nn.Conv1d(in_channels=conv_width, out_channels=conv_width, kernel_size=kernel_size, padding = kernel_size - 1)\n",
    "        self.convs = [self.conv1, self.conv2, self.conv3, self.conv4]\n",
    "        self.max_pool = nn.MaxPool1d(kernel_size = 2)\n",
    "        self.relu = nn.ReLU()\n",
    "        \n",
    "        self.gru = nn.GRU(input_size=conv_width,hidden_size=32,num_layers=num_gru_layers) # 19 is hardcoded\n",
    "        self.mean_pool = nn.AvgPool1d(kernel_size=2)\n",
    "        \n",
    "    def forward(self, x):\n",
    "        x = torch.transpose(x, 1, 2) \n",
    "#         print(x.shape)\n",
    "        for i in range(self.num_conv_layers):\n",
    "            x = self.relu(self.max_pool(self.convs[i](x)))\n",
    "        x = torch.transpose(x, 1, 2) \n",
    "        x, _ = self.gru(x)\n",
    "        x = torch.transpose(x, 1, 2)\n",
    "        x = F.adaptive_avg_pool1d(x,1)[:, :, -1]\n",
    "#         x = self.mean_pool(x)\n",
    "        return x"
   ]
  },
  {
   "cell_type": "code",
   "execution_count": 3,
   "id": "ultimate-header",
   "metadata": {},
   "outputs": [
    {
     "name": "stdout",
     "output_type": "stream",
     "text": [
      "Shape of output: torch.Size([8, 32])\n"
     ]
    }
   ],
   "source": [
    "# Test dummy input\n",
    "net = AcousticNet(num_conv_layers = 3, kernel_size = 2, conv_width = 32, num_gru_layers = 2)\n",
    "batch_size = 8\n",
    "n_acoustic_channels = 40\n",
    "duration_acoustic = 1232\n",
    "test_vec = torch.randn(batch_size, duration_acoustic, n_acoustic_channels) # samples x features (or channels) x N (relative duration)\n",
    "output = net(test_vec)\n",
    "print(f'Shape of output: {output.shape}')\n",
    "# assert output.shape[-1] == 16"
   ]
  },
  {
   "cell_type": "markdown",
   "id": "elementary-graham",
   "metadata": {},
   "source": [
    "# Lexical Branch"
   ]
  },
  {
   "cell_type": "code",
   "execution_count": 4,
   "id": "vanilla-juvenile",
   "metadata": {},
   "outputs": [],
   "source": [
    "# implement GRU (or transformer)\n",
    "class LexicalNet(nn.Module):\n",
    "    def __init__(self, num_gru_layers = 2):\n",
    "        super(LexicalNet, self).__init__()\n",
    "        # implement GRU (or transformer)\n",
    "        self.gru = nn.GRU(input_size=768,hidden_size=32,num_layers=num_gru_layers)\n",
    "        self.mean_pool = nn.AvgPool1d(kernel_size=2) \n",
    "        self.flatten = nn.Flatten()\n",
    "        \n",
    "    def forward(self, x):\n",
    "        x, _ = self.gru(x)\n",
    "#         x = self.mean_pool(x)\n",
    "        x = self.flatten(x)\n",
    "#         print(x.shape)\n",
    "        return x"
   ]
  },
  {
   "cell_type": "code",
   "execution_count": 5,
   "id": "artistic-exposure",
   "metadata": {},
   "outputs": [],
   "source": [
    "# Test dummy input\n",
    "net = LexicalNet(num_gru_layers = 2)\n",
    "batch_size = 8\n",
    "test_vec = torch.randn(batch_size, 1, 768)\n",
    "output = net(test_vec)\n",
    "# assert output.shape[-1] == 16"
   ]
  },
  {
   "cell_type": "markdown",
   "id": "naked-commander",
   "metadata": {},
   "source": [
    "# Master branch"
   ]
  },
  {
   "cell_type": "code",
   "execution_count": 6,
   "id": "tribal-contractor",
   "metadata": {},
   "outputs": [],
   "source": [
    "# class GRL(Function):\n",
    "#     @staticmethod\n",
    "#     def forward(self,x):\n",
    "#         return x\n",
    "#     @staticmethod\n",
    "#     def backward(self,grad_output):\n",
    "#         grad_input = grad_output.neg()\n",
    "#         return grad_input"
   ]
  },
  {
   "cell_type": "code",
   "execution_count": 7,
   "id": "analyzed-county",
   "metadata": {},
   "outputs": [],
   "source": [
    "class GradientReversalFunction(Function):\n",
    "    \"\"\"\n",
    "    Gradient Reversal Layer from:\n",
    "    Unsupervised Domain Adaptation by Backpropagation (Ganin & Lempitsky, 2015)\n",
    "    Forward pass is the identity function. In the backward pass,\n",
    "    the upstream gradients are multiplied by -lambda (i.e. gradient is reversed)\n",
    "    \"\"\"\n",
    "\n",
    "    @staticmethod\n",
    "    def forward(ctx, x, lambda_):\n",
    "        ctx.lambda_ = lambda_\n",
    "        return x.clone()\n",
    "\n",
    "    @staticmethod\n",
    "    def backward(ctx, grads):\n",
    "        lambda_ = ctx.lambda_\n",
    "        lambda_ = grads.new_tensor(lambda_)\n",
    "        dx = -lambda_ * grads\n",
    "        return dx, None\n",
    "    \n",
    "class GradientReversal(torch.nn.Module):\n",
    "    def __init__(self, lambda_=1):\n",
    "        super(GradientReversal, self).__init__()\n",
    "        self.lambda_ = lambda_\n",
    "        print(self.lambda_)\n",
    "\n",
    "    def forward(self, x):\n",
    "        return GradientReversalFunction.apply(x, self.lambda_)"
   ]
  },
  {
   "cell_type": "code",
   "execution_count": 8,
   "id": "immediate-trout",
   "metadata": {},
   "outputs": [],
   "source": [
    "class MasterNet(nn.Module):\n",
    "    def __init__(self, acoustic_modality = True, lexical_modality = True, visual_modality = False,\n",
    "                 num_conv_layers = 3, kernel_size = 2, conv_width = 32, num_gru_layers = 2,\n",
    "                 num_dense_layers = 1, dense_layer_width = 32, grl_lambda = .3):\n",
    "        super(MasterNet, self).__init__()\n",
    "        \n",
    "        self.acoustic_modality = acoustic_modality\n",
    "        self.lexical_modality = lexical_modality\n",
    "        self.visual_modality = visual_modality\n",
    "        \n",
    "        self.acoustic_model = AcousticNet(num_conv_layers = num_conv_layers, kernel_size = kernel_size, \n",
    "                                     conv_width = conv_width, num_gru_layers = num_gru_layers)\n",
    "        self.lexical_model = LexicalNet(num_gru_layers = 2)\n",
    "        \n",
    "        # emotion classifier\n",
    "#         self.dense1_emo = nn.Linear()\n",
    "#         self.dense2_emo = nn.Linear()\n",
    "        \n",
    "        width = 0 # width of the FC layers\n",
    "        if self.acoustic_modality:\n",
    "            width += 32\n",
    "        if self.visual_modality:\n",
    "            width += 0 # to implement\n",
    "        if self.lexical_modality:\n",
    "            width += 32\n",
    "            \n",
    "        self.fc_1 = nn.Linear(width, dense_layer_width)\n",
    "        self.fc_2 = nn.Linear(dense_layer_width, 3)\n",
    "        self.softmax = nn.Softmax(dim=1)\n",
    "\n",
    "        self.relu = nn.ReLU()\n",
    "#         # To implement   \n",
    "#         if num_dense_layers == 2:\n",
    "#             self.fc = nn.Sequential()\n",
    "#             self.linear_1 = nn.Linear(width, dense_layer_width)\n",
    "#         else:\n",
    "#             self.fc = \n",
    "        \n",
    "        # confound classifier -- to implement\n",
    "        self.grl = GradientReversal(lambda_ = grl_lambda)\n",
    "        self.dense_conv = nn.Linear(width, 2)\n",
    "#         self.dense2_con = None\n",
    "        \n",
    "        \n",
    "    def forward_a(self, x_a):\n",
    "        x = x_a\n",
    "        x = self.acoustic_model(x)\n",
    "        return x\n",
    "    \n",
    "    def forward_l(self, x_l):\n",
    "        x = torch.unsqueeze(x_l, dim = 1)\n",
    "        x = self.lexical_model(x)\n",
    "        return x\n",
    "    \n",
    "    def forward_v(self, x_v):\n",
    "        x = x_v\n",
    "        return x\n",
    "    \n",
    "    def encoder(self, x_v, x_a, x_l):\n",
    "        if self.visual_modality:\n",
    "            x_v = self.forward_v(x_v)\n",
    "        if self.acoustic_modality:\n",
    "            x_a = self.forward_a(x_a)\n",
    "        if self.lexical_modality:\n",
    "            x_l = self.forward_l(x_l)\n",
    "        \n",
    "        if self.visual_modality:\n",
    "            if self.acoustic_modality:\n",
    "                if self.lexical_modality:\n",
    "                    x = torch.cat((x_v, x_a, x_l), 1)\n",
    "                else:\n",
    "                    x = torch.cat((x_v, x_a), 1)\n",
    "            else:\n",
    "                if self.lexical_modality:\n",
    "                    x = torch.cat((x_v, x_l), 1)\n",
    "                else:\n",
    "                    x = x_v\n",
    "        else:\n",
    "            if self.acoustic_modality:\n",
    "                if self.lexical_modality:\n",
    "                    x = torch.cat((x_a, x_l), 1)\n",
    "                else:\n",
    "                    x = x_a\n",
    "            else:\n",
    "                x = x_l\n",
    "        return x\n",
    "\n",
    "    def confound_model(self, x):\n",
    "#         x = self.grl.apply(x)\n",
    "        x = self.grl(x)\n",
    "        x = self.dense_conv(x)\n",
    "        x = self.softmax(x)\n",
    "        return x\n",
    "    \n",
    "    # For emotion\n",
    "    def recognizer(self, x):\n",
    "#         print(x.shape)\n",
    "        x = self.relu(self.fc_1(x))\n",
    "        x = self.fc_2(x)\n",
    "        x = self.softmax(x)\n",
    "        return x\n",
    "    \n",
    "    def forward(self, x_v, x_a, x_l):\n",
    "        x = self.encoder(x_v, x_a, x_l)\n",
    "        emotion_output = self.recognizer(x)\n",
    "        confound_output = self.confound_model(x)\n",
    "        \n",
    "        return emotion_output, confound_output"
   ]
  },
  {
   "cell_type": "code",
   "execution_count": 9,
   "id": "wired-cherry",
   "metadata": {},
   "outputs": [
    {
     "name": "stdout",
     "output_type": "stream",
     "text": [
      "0.3\n",
      "Shape of emotion output: torch.Size([8, 3])\n",
      "Shape of stress output: torch.Size([8, 2])\n",
      "tensor([[0.3363, 0.3181, 0.3456],\n",
      "        [0.3385, 0.3371, 0.3243],\n",
      "        [0.3382, 0.3411, 0.3208],\n",
      "        [0.3336, 0.3428, 0.3236],\n",
      "        [0.3397, 0.3404, 0.3199],\n",
      "        [0.3422, 0.3408, 0.3170],\n",
      "        [0.3444, 0.3377, 0.3179],\n",
      "        [0.3293, 0.3382, 0.3325]], grad_fn=<SoftmaxBackward>)\n",
      "tensor([[0.4773, 0.5227],\n",
      "        [0.5110, 0.4890],\n",
      "        [0.5350, 0.4650],\n",
      "        [0.5371, 0.4629],\n",
      "        [0.5495, 0.4505],\n",
      "        [0.5778, 0.4222],\n",
      "        [0.5448, 0.4552],\n",
      "        [0.5421, 0.4579]], grad_fn=<SoftmaxBackward>)\n"
     ]
    }
   ],
   "source": [
    "# Test dummy input\n",
    "net = MasterNet()\n",
    "batch_size = 8\n",
    "n_acoustic_channels = 40\n",
    "duration_acoustic = 1232\n",
    "acoustic_features = torch.randn(batch_size, duration_acoustic, n_acoustic_channels) # samples x features (or channels) x N (relative duration)\n",
    "# lexical_features = torch.randn(batch_size, 1, 300)\n",
    "lexical_features = torch.randn(batch_size, 768)\n",
    "visual_features = None\n",
    "emotion_output, stress_output = net(visual_features, acoustic_features, lexical_features)\n",
    "print(f'Shape of emotion output: {emotion_output.shape}')\n",
    "print(f'Shape of stress output: {stress_output.shape}')\n",
    "print(emotion_output)\n",
    "print(stress_output)\n",
    "# assert output.shape[-1] == 16"
   ]
  },
  {
   "cell_type": "code",
   "execution_count": 10,
   "id": "radical-promise",
   "metadata": {},
   "outputs": [],
   "source": [
    "# Use specific GPU\n",
    "def get_device():\n",
    "    if torch.cuda.is_available():  \n",
    "        dev = \"cuda:0\" \n",
    "    else:  \n",
    "        dev = \"cpu\"  \n",
    "    return torch.device(dev)\n",
    "device = get_device()"
   ]
  },
  {
   "cell_type": "code",
   "execution_count": 11,
   "id": "lightweight-trader",
   "metadata": {},
   "outputs": [],
   "source": [
    "def train_one_folder(model, folder = 0, epochs = 1, verbose = False, learning_rate = 1e-4, patience = 5):\n",
    "    # Use specific GPU\n",
    "    device = get_device()\n",
    "\n",
    "    # Dataloaders    \n",
    "    train_dataset_file_path = '../dataset/IEMOCAP/' + str(folder) + '/train.csv'\n",
    "    train_loader = datasets.get_dataloader(train_dataset_file_path, 'train')\n",
    "    test_dataset_file_path = '../dataset/IEMOCAP/' + str(folder) + '/test.csv'\n",
    "    test_loader = datasets.get_dataloader(test_dataset_file_path, 'test')\n",
    "\n",
    "    # Model, optimizer and loss function\n",
    "    init_weights(model)\n",
    "    for param in emotion_recognizer.parameters():\n",
    "        param.requires_grad = True\n",
    "    model.to(device)\n",
    "\n",
    "    optimizer = torch.optim.Adam(model.parameters(), lr=learning_rate)\n",
    "    lr_schedule = torch.optim.lr_scheduler.ReduceLROnPlateau(optimizer, patience=1)\n",
    "\n",
    "    criterion = torch.nn.CrossEntropyLoss()\n",
    "\n",
    "    best_acc = 0.\n",
    "    best_uar = 0.\n",
    "    es = EarlyStopping(patience=patience)\n",
    "\n",
    "    # Train and validate\n",
    "    for epoch in range(epochs):\n",
    "        if verbose:\n",
    "            print('epoch: {}/{}'.format(epoch + 1, epochs))\n",
    "\n",
    "        train_loss, train_acc = train(train_loader, model,\n",
    "                                        optimizer, criterion, device)\n",
    "        test_loss, test_acc, test_uar = test(test_loader, model,\n",
    "                                                criterion, device)\n",
    "\n",
    "        if verbose:\n",
    "            print('train_emotion_loss: {0:.5f}'.format(train_loss['emotion_loss']),\n",
    "                  'train_emotion_acc: {0:.3f}'.format(train_acc['emotion_acc']),\n",
    "                  'train_confound_loss: {0:.5f}'.format(train_loss['confound_loss']),\n",
    "                  'train_confound_acc: {0:.3f}'.format(train_acc['confound_acc']),\n",
    "                  'test_emotion_loss: {0:.5f}'.format(test_loss['emotion_loss']),\n",
    "                  'test_emotion_acc: {0:.3f}'.format(test_acc['emotion_acc']),\n",
    "                  'test_confound_loss: {0:.5f}'.format(test_loss['confound_loss']),\n",
    "                  'test_confound_acc: {0:.3f}'.format(test_acc['confound_acc']),\n",
    "                  'test_emotion_uar: {0:.3f}'.format(test_uar['emotion_uar']),\n",
    "                  'test_confound_uar: {0:.3f}'.format(test_uar['confound_uar']))\n",
    "\n",
    "        lr_schedule.step(test_loss['loss'])\n",
    "\n",
    "#         os.makedirs(os.path.join(opt.logger_path, opt.source_domain), exist_ok=True)\n",
    "\n",
    "#         model_file_name = os.path.join(opt.logger_path, opt.source_domain, 'checkpoint.pth.tar')\n",
    "#         state = {'epoch': epoch+1, 'emotion_recognizer': emotion_recognizer.state_dict(), 'opt': opt}\n",
    "#         torch.save(state, model_file_name)\n",
    "\n",
    "        if test_acc['emotion_acc'] > best_acc:\n",
    "#             model_file_name = os.path.join(opt.logger_path, opt.source_domain, 'model.pth.tar')\n",
    "#             torch.save(state, model_file_name)\n",
    "\n",
    "            best_acc = test_acc['emotion_acc']\n",
    "\n",
    "        if test_uar['emotion_uar'] > best_uar:\n",
    "            best_uar = test_uar['emotion_uar']\n",
    "\n",
    "        if es.step(test_loss['emotion_loss']):\n",
    "            break\n",
    "\n",
    "    return best_acc, best_uar"
   ]
  },
  {
   "cell_type": "code",
   "execution_count": 12,
   "id": "other-berlin",
   "metadata": {},
   "outputs": [],
   "source": [
    "\n",
    "def train_baseline(train_loader, model, optimizer, criterion, device, verbose = False):\n",
    "    model.train()\n",
    "\n",
    "    running_loss = 0.\n",
    "    running_acc = 0.\n",
    "\n",
    "    groundtruth = []\n",
    "    prediction = []\n",
    "\n",
    "    for i, train_data in enumerate(train_loader):\n",
    "        visual_features, _, acoustic_features, _, lexical_features, _, _, a_labels, _, _ = train_data # UPDATE\n",
    "\n",
    "        visual_features = visual_features.to(device)\n",
    "        acoustic_features = acoustic_features.to(device)\n",
    "        lexical_features = lexical_features.to(device)\n",
    "\n",
    "        labels = a_labels.to(device)\n",
    "\n",
    "        optimizer.zero_grad()\n",
    "        \n",
    "        emotion_output, stress_output = model(visual_features, acoustic_features, lexical_features)\n",
    "\n",
    "        emotion_loss = criterion(emotion_output, labels)\n",
    "#         stress_loss = criterion(stress_output, stress_labels)\n",
    "\n",
    "        emotion_loss.backward()\n",
    "#         stress_loss.backward()\n",
    "        \n",
    "        optimizer.step() # do we need two optimizers?\n",
    "        \n",
    "        running_loss += emotion_loss.item()\n",
    "\n",
    "        groundtruth.append(labels.tolist())\n",
    "        predictions = emotion_output.argmax(dim=1, keepdim=True)\n",
    "        prediction.append(predictions.view_as(labels).tolist())\n",
    "\n",
    "        if verbose and i > 0 and int(len(train_loader) / 10) > 0 and i % (int(len(train_loader) / 10)) == 0:\n",
    "            print('.', flush=True, end='')\n",
    "            \n",
    "    train_loss = running_loss / len(train_loader)\n",
    "\n",
    "    groundtruth = list(itertools.chain.from_iterable(groundtruth))\n",
    "    prediction = list(itertools.chain.from_iterable(prediction))\n",
    "\n",
    "    train_acc = accuracy_score(prediction, groundtruth)\n",
    "\n",
    "    return train_loss, train_acc"
   ]
  },
  {
   "cell_type": "code",
   "execution_count": 13,
   "id": "silent-bones",
   "metadata": {},
   "outputs": [],
   "source": [
    "def train(train_loader, model, optimizer, criterion, device, verbose = False):\n",
    "    model.train()\n",
    "\n",
    "    running_loss = 0.\n",
    "    emotion_running_loss = 0.\n",
    "    confound_running_loss = 0.\n",
    "    running_acc = 0.\n",
    "\n",
    "    emotion_groundtruth = []\n",
    "    emotion_prediction = []\n",
    "    \n",
    "    confound_groundtruth = []\n",
    "    confound_prediction = []\n",
    "\n",
    "    for i, train_data in enumerate(train_loader):\n",
    "        visual_features, _, acoustic_features, _, lexical_features, _, _, a_labels, d_labels, s_labels, _ = train_data # UPDATE\n",
    "\n",
    "        visual_features = visual_features.to(device)\n",
    "        acoustic_features = acoustic_features.to(device)\n",
    "        lexical_features = lexical_features.to(device)\n",
    "\n",
    "        emotion_labels = a_labels.to(device)\n",
    "        confound_labels = s_labels.to(device)\n",
    "\n",
    "        optimizer.zero_grad()\n",
    "        \n",
    "        emotion_predictions, confound_predictions = model(visual_features, acoustic_features, lexical_features)\n",
    "\n",
    "        emotion_loss = criterion(emotion_predictions, emotion_labels)\n",
    "        confound_loss = criterion(confound_predictions, confound_labels)\n",
    "        loss = emotion_loss + confound_loss\n",
    "        \n",
    "        loss.backward()\n",
    "#         emotion_loss.backward()\n",
    "#         confound_loss.backward()\n",
    "        \n",
    "        optimizer.step() # do we need two optimizers?\n",
    "        \n",
    "        emotion_running_loss += emotion_loss.item()\n",
    "        confound_running_loss += confound_loss.item()\n",
    "        running_loss += emotion_running_loss + confound_running_loss\n",
    "\n",
    "        emotion_groundtruth.append(emotion_labels.tolist())\n",
    "        emotion_predictions = emotion_predictions.argmax(dim=1, keepdim=True)\n",
    "        emotion_prediction.append(emotion_predictions.view_as(emotion_labels).tolist())\n",
    "        \n",
    "        confound_groundtruth.append(confound_labels.tolist())\n",
    "        confound_predictions = confound_predictions.argmax(dim=1, keepdim=True)\n",
    "        confound_prediction.append(confound_predictions.view_as(confound_labels).tolist())\n",
    "\n",
    "        if verbose and i > 0 and int(len(train_loader) / 10) > 0 and i % (int(len(train_loader) / 10)) == 0:\n",
    "            print('.', flush=True, end='')\n",
    "        \n",
    "    emotion_loss = emotion_running_loss / len(train_loader)\n",
    "    confound_loss = confound_running_loss / len(train_loader)\n",
    "    loss = running_loss / len(train_loader)\n",
    "    train_loss = {'emotion_loss': emotion_loss,\n",
    "                  'confound_loss': confound_loss,\n",
    "                  'loss': loss\n",
    "                 }\n",
    "\n",
    "    emotion_groundtruth = list(itertools.chain.from_iterable(emotion_groundtruth))\n",
    "    emotion_prediction = list(itertools.chain.from_iterable(emotion_prediction))\n",
    "    \n",
    "    confound_groundtruth = list(itertools.chain.from_iterable(confound_groundtruth))\n",
    "    confound_prediction = list(itertools.chain.from_iterable(confound_prediction))\n",
    "\n",
    "    emotion_acc = accuracy_score(emotion_prediction, emotion_groundtruth)\n",
    "    confound_acc = accuracy_score(confound_prediction, confound_groundtruth)\n",
    "    avg_acc = (emotion_acc + confound_acc) / 2\n",
    "    \n",
    "    train_acc = {'emotion_acc': emotion_acc,\n",
    "                  'confound_acc': confound_acc\n",
    "                }\n",
    "\n",
    "    return train_loss, train_acc"
   ]
  },
  {
   "cell_type": "code",
   "execution_count": 14,
   "id": "intended-cosmetic",
   "metadata": {},
   "outputs": [],
   "source": [
    "def test_baseline(test_loader, model, criterion, device):\n",
    "    model.eval()\n",
    "\n",
    "    running_loss = 0.\n",
    "    running_acc = 0.\n",
    "\n",
    "    with torch.no_grad():\n",
    "        groundtruth = []\n",
    "        prediction = []\n",
    "\n",
    "        for i, test_data in enumerate(test_loader):\n",
    "            visual_features, _, acoustic_features, _, lexical_features, _, v_labels, a_labels, d_labels, _ = test_data # UPDATE\n",
    "\n",
    "            visual_features = visual_features.to(device)\n",
    "            acoustic_features = acoustic_features.to(device)\n",
    "            lexical_features = lexical_features.to(device)\n",
    "\n",
    "            labels = a_labels.to(device)\n",
    "\n",
    "            emotion_predictions, confound_predictions = model(visual_features, acoustic_features, lexical_features)\n",
    "            loss = criterion(emotion_predictions, labels)\n",
    "\n",
    "            running_loss += loss.item()\n",
    "\n",
    "            groundtruth.append(labels.tolist())\n",
    "            emotion_predictions = emotion_predictions.argmax(dim=1, keepdim=True)\n",
    "            prediction.append(emotion_predictions.view_as(labels).tolist())\n",
    "\n",
    "        test_loss = running_loss / len(test_loader)\n",
    "\n",
    "        groundtruth = list(itertools.chain.from_iterable(groundtruth))\n",
    "        prediction = list(itertools.chain.from_iterable(prediction))\n",
    "\n",
    "        test_acc = accuracy_score(prediction, groundtruth)\n",
    "        test_uar = recall_score(prediction, groundtruth, average='macro')\n",
    "\n",
    "        return test_loss, test_acc, test_uar"
   ]
  },
  {
   "cell_type": "code",
   "execution_count": 15,
   "id": "olive-christianity",
   "metadata": {},
   "outputs": [],
   "source": [
    "def test(test_loader, model, criterion, device):\n",
    "    model.eval()\n",
    "\n",
    "    running_loss = 0.\n",
    "    emotion_running_loss = 0.\n",
    "    confound_running_loss = 0.\n",
    "    running_acc = 0.\n",
    "\n",
    "    with torch.no_grad():\n",
    "        emotion_groundtruth = []\n",
    "        emotion_prediction = []\n",
    "\n",
    "        confound_groundtruth = []\n",
    "        confound_prediction = []\n",
    "\n",
    "        for i, test_data in enumerate(test_loader):\n",
    "            visual_features, _, acoustic_features, _, lexical_features, _, v_labels, a_labels, d_labels, s_labels, _ = test_data # UPDATE\n",
    "\n",
    "            visual_features = visual_features.to(device)\n",
    "            acoustic_features = acoustic_features.to(device)\n",
    "            lexical_features = lexical_features.to(device)\n",
    "\n",
    "            emotion_labels = a_labels.to(device)\n",
    "            confound_labels = s_labels.to(device)\n",
    "\n",
    "            emotion_predictions, confound_predictions = model(visual_features, acoustic_features, lexical_features)\n",
    "            \n",
    "            emotion_loss = criterion(emotion_predictions, emotion_labels)\n",
    "            confound_loss = criterion(confound_predictions, confound_labels)\n",
    "            loss = emotion_loss + confound_loss\n",
    "\n",
    "            emotion_running_loss += emotion_loss.item()\n",
    "            confound_running_loss += confound_loss.item()\n",
    "            running_loss += emotion_running_loss + confound_running_loss\n",
    "\n",
    "            emotion_groundtruth.append(emotion_labels.tolist())\n",
    "            emotion_predictions = emotion_predictions.argmax(dim=1, keepdim=True)\n",
    "            emotion_prediction.append(emotion_predictions.view_as(emotion_labels).tolist())\n",
    "\n",
    "            confound_groundtruth.append(confound_labels.tolist())\n",
    "            confound_predictions = confound_predictions.argmax(dim=1, keepdim=True)\n",
    "            confound_prediction.append(confound_predictions.view_as(confound_labels).tolist())\n",
    "\n",
    "        emotion_loss = emotion_running_loss / len(train_loader)\n",
    "        confound_loss = confound_running_loss / len(train_loader)\n",
    "        loss = running_loss / len(train_loader)\n",
    "        test_loss = {'emotion_loss': emotion_loss,\n",
    "                     'confound_loss': confound_loss,\n",
    "                     'loss': loss\n",
    "                    }\n",
    "\n",
    "        emotion_groundtruth = list(itertools.chain.from_iterable(emotion_groundtruth))\n",
    "        emotion_prediction = list(itertools.chain.from_iterable(emotion_prediction))\n",
    "\n",
    "        confound_groundtruth = list(itertools.chain.from_iterable(confound_groundtruth))\n",
    "        confound_prediction = list(itertools.chain.from_iterable(confound_prediction))\n",
    "\n",
    "        emotion_acc = accuracy_score(emotion_prediction, emotion_groundtruth)\n",
    "        confound_acc = accuracy_score(confound_prediction, confound_groundtruth)\n",
    "        avg_acc = (emotion_acc + confound_acc) / 2\n",
    "        test_acc = {'emotion_acc': emotion_acc,\n",
    "                    'confound_acc': confound_acc\n",
    "                   }\n",
    "        \n",
    "        emotion_uar = recall_score(emotion_prediction, emotion_groundtruth, average='macro')\n",
    "        confound_uar = recall_score(confound_prediction, confound_groundtruth, average='macro')\n",
    "\n",
    "        test_uar = {'emotion_uar': emotion_uar,\n",
    "                    'confound_uar': confound_uar\n",
    "                   }\n",
    "\n",
    "        return test_loss, test_acc, test_uar"
   ]
  },
  {
   "cell_type": "code",
   "execution_count": 16,
   "id": "hungarian-square",
   "metadata": {},
   "outputs": [],
   "source": [
    "def init_weights(m):\n",
    "    if type(m) == nn.Linear or type(m) == nn.Conv2d:\n",
    "        torch.nn.init.xavier_uniform_(m.weight)\n",
    "        if m.bias is not None:\n",
    "            m.bias.data.fill_(0.01)"
   ]
  },
  {
   "cell_type": "code",
   "execution_count": 17,
   "id": "thirty-mount",
   "metadata": {
    "tags": []
   },
   "outputs": [
    {
     "name": "stdout",
     "output_type": "stream",
     "text": [
      "10\n",
      "Train loss: {'emotion_loss': 1.0988358202379502, 'confound_loss': 0.7081730763504014, 'loss': 928.0696001840241}\n",
      "Train acc: {'emotion_acc': 0.3305352798053528, 'confound_acc': 0.3924574209245742}\n",
      "Train loss: {'emotion_loss': 1.098163539217604, 'confound_loss': 0.699166778518532, 'loss': 926.91729138061}\n",
      "Train acc: {'emotion_acc': 0.3462287104622871, 'confound_acc': 0.43503649635036495}\n",
      "Train loss: {'emotion_loss': 1.0982558062800174, 'confound_loss': 0.6956040889952433, 'loss': 922.4427451606159}\n",
      "Train acc: {'emotion_acc': 0.34330900243309004, 'confound_acc': 0.48905109489051096}\n",
      "Train loss: {'emotion_loss': 1.097254392353941, 'confound_loss': 0.6983531362119816, 'loss': 924.5696680287211}\n",
      "Train acc: {'emotion_acc': 0.3529197080291971, 'confound_acc': 0.4927007299270073}\n",
      "Train loss: {'emotion_loss': 1.0952640565452874, 'confound_loss': 0.6948563582934294, 'loss': 921.2325799479095}\n",
      "Train acc: {'emotion_acc': 0.368978102189781, 'confound_acc': 0.4958637469586375}\n",
      "Train loss: {'emotion_loss': 1.0912311900450562, 'confound_loss': 0.6936219362433319, 'loss': 919.1371140090988}\n",
      "Train acc: {'emotion_acc': 0.3872262773722628, 'confound_acc': 0.4964720194647202}\n",
      "Train loss: {'emotion_loss': 1.0784126268518575, 'confound_loss': 0.6933320371673265, 'loss': 912.7643796202622}\n",
      "Train acc: {'emotion_acc': 0.4263990267639903, 'confound_acc': 0.49598540145985404}\n",
      "Train loss: {'emotion_loss': 1.055741445331722, 'confound_loss': 0.6941047836138581, 'loss': 903.365708810752}\n",
      "Train acc: {'emotion_acc': 0.45778588807785886, 'confound_acc': 0.4891727493917275}\n",
      "Train loss: {'emotion_loss': 1.0315221108583161, 'confound_loss': 0.6931921143939986, 'loss': 889.3254721810614}\n",
      "Train acc: {'emotion_acc': 0.48017031630170315, 'confound_acc': 0.5047445255474453}\n",
      "Train loss: {'emotion_loss': 1.0021784462121675, 'confound_loss': 0.6929588632129046, 'loss': 872.3262617771843}\n",
      "Train acc: {'emotion_acc': 0.5211678832116788, 'confound_acc': 0.5045012165450121}\n",
      "Train loss: {'emotion_loss': 0.9921697804899995, 'confound_loss': 0.6933674153070969, 'loss': 868.1675442918729}\n",
      "Train acc: {'emotion_acc': 0.5334549878345499, 'confound_acc': 0.5007299270072992}\n",
      "Train loss: {'emotion_loss': 0.9760902659090577, 'confound_loss': 0.6924367307572977, 'loss': 858.9764231973933}\n",
      "Train acc: {'emotion_acc': 0.5535279805352799, 'confound_acc': 0.5248175182481751}\n",
      "Train loss: {'emotion_loss': 0.9619026181762784, 'confound_loss': 0.6922080703514559, 'loss': 852.6969936310898}\n",
      "Train acc: {'emotion_acc': 0.5794403892944039, 'confound_acc': 0.524574209245742}\n",
      "Train loss: {'emotion_loss': 0.9547812696328887, 'confound_loss': 0.6923851613752573, 'loss': 848.2889893655647}\n",
      "Train acc: {'emotion_acc': 0.5868613138686132, 'confound_acc': 0.5210462287104622}\n",
      "Train loss: {'emotion_loss': 0.9467262459868123, 'confound_loss': 0.6931708050956986, 'loss': 844.9658475921195}\n",
      "Train acc: {'emotion_acc': 0.591727493917275, 'confound_acc': 0.5100973236009733}\n",
      "Train loss: {'emotion_loss': 0.9373918567070237, 'confound_loss': 0.694504552430216, 'loss': 842.5729167259041}\n",
      "Train acc: {'emotion_acc': 0.6119221411192214, 'confound_acc': 0.4852798053527981}\n",
      "Train loss: {'emotion_loss': 0.9297943075807178, 'confound_loss': 0.6937848895440306, 'loss': 835.2891351101116}\n",
      "Train acc: {'emotion_acc': 0.6131386861313869, 'confound_acc': 0.4947688564476886}\n",
      "Train loss: {'emotion_loss': 0.9201490566540321, 'confound_loss': 0.6937588882933331, 'loss': 832.0922897830895}\n",
      "Train acc: {'emotion_acc': 0.624330900243309, 'confound_acc': 0.49635036496350365}\n",
      "Train loss: {'emotion_loss': 0.9067960862171789, 'confound_loss': 0.6933874492515386, 'loss': 825.3445788206757}\n",
      "Train acc: {'emotion_acc': 0.6385644768856448, 'confound_acc': 0.49939172749391725}\n",
      "Train loss: {'emotion_loss': 0.9015207937139481, 'confound_loss': 0.6937374214022076, 'loss': 822.4350759840429}\n",
      "Train acc: {'emotion_acc': 0.6468369829683698, 'confound_acc': 0.49805352798053526}\n",
      "Train loss: {'emotion_loss': 0.8928890611527031, 'confound_loss': 0.6932631509545248, 'loss': 817.5858465876677}\n",
      "Train acc: {'emotion_acc': 0.6565693430656935, 'confound_acc': 0.5145985401459854}\n",
      "Train loss: {'emotion_loss': 0.8944264147648088, 'confound_loss': 0.6924774927967717, 'loss': 816.9845498195534}\n",
      "Train acc: {'emotion_acc': 0.6535279805352798, 'confound_acc': 0.5118004866180048}\n",
      "Train loss: {'emotion_loss': 0.8730605496274821, 'confound_loss': 0.6939109071567364, 'loss': 805.0307090240693}\n",
      "Train acc: {'emotion_acc': 0.6773722627737226, 'confound_acc': 0.4922141119221411}\n",
      "Train loss: {'emotion_loss': 0.8708487453395755, 'confound_loss': 0.692759060558178, 'loss': 805.3443447263904}\n",
      "Train acc: {'emotion_acc': 0.6824817518248175, 'confound_acc': 0.5222627737226277}\n",
      "Train loss: {'emotion_loss': 0.8699911419983504, 'confound_loss': 0.6935233030801617, 'loss': 805.826832738426}\n",
      "Train acc: {'emotion_acc': 0.6813868613138686, 'confound_acc': 0.4954987834549878}\n",
      "Train loss: {'emotion_loss': 0.8655276427241151, 'confound_loss': 0.6933250888776222, 'loss': 801.5486832684928}\n",
      "Train acc: {'emotion_acc': 0.6819951338199514, 'confound_acc': 0.4982968369829684}\n",
      "Train loss: {'emotion_loss': 0.8525764474261132, 'confound_loss': 0.6937241240582114, 'loss': 796.173089353201}\n",
      "Train acc: {'emotion_acc': 0.6998783454987835, 'confound_acc': 0.4740875912408759}\n",
      "Train loss: {'emotion_loss': 0.8496423766074941, 'confound_loss': 0.6930674927359889, 'loss': 795.0573514250002}\n",
      "Train acc: {'emotion_acc': 0.7004866180048662, 'confound_acc': 0.5047445255474453}\n",
      "Train loss: {'emotion_loss': 0.8480950901248576, 'confound_loss': 0.6932108501400002, 'loss': 795.7283425803662}\n",
      "Train acc: {'emotion_acc': 0.7048661800486618, 'confound_acc': 0.49695863746958635}\n",
      "Train loss: {'emotion_loss': 0.8449628542717329, 'confound_loss': 0.6931072993037302, 'loss': 791.1669413126165}\n",
      "Train acc: {'emotion_acc': 0.7052311435523114, 'confound_acc': 0.5071776155717762}\n",
      "Train loss: {'emotion_loss': 0.831222783846614, 'confound_loss': 0.6933219298894303, 'loss': 784.7659780524004}\n",
      "Train acc: {'emotion_acc': 0.7182481751824817, 'confound_acc': 0.49525547445255474}\n",
      "Train loss: {'emotion_loss': 0.8256245257789523, 'confound_loss': 0.6932926878970884, 'loss': 781.4925462556024}\n",
      "Train acc: {'emotion_acc': 0.7262773722627737, 'confound_acc': 0.5046228710462287}\n",
      "Train loss: {'emotion_loss': 0.8269942148302316, 'confound_loss': 0.6933206537238354, 'loss': 782.6312346921125}\n",
      "Train acc: {'emotion_acc': 0.7278588807785888, 'confound_acc': 0.5001216545012166}\n",
      "Train loss: {'emotion_loss': 0.8303396096489308, 'confound_loss': 0.6934398348925178, 'loss': 783.6827577648228}\n",
      "Train acc: {'emotion_acc': 0.7181265206812653, 'confound_acc': 0.49148418491484186}\n",
      "Train loss: {'emotion_loss': 0.8213207375562609, 'confound_loss': 0.6930551266855767, 'loss': 779.7747347627981}\n",
      "Train acc: {'emotion_acc': 0.7290754257907542, 'confound_acc': 0.5062043795620438}\n",
      "Train loss: {'emotion_loss': 0.8182455540167218, 'confound_loss': 0.6934238298857722, 'loss': 777.7087185558526}\n",
      "Train acc: {'emotion_acc': 0.7329683698296837, 'confound_acc': 0.4982968369829684}\n",
      "Train loss: {'emotion_loss': 0.8182893091602548, 'confound_loss': 0.6934047264811594, 'loss': 780.6438220399015}\n",
      "Train acc: {'emotion_acc': 0.7301703163017031, 'confound_acc': 0.4975669099756691}\n",
      "Train loss: {'emotion_loss': 0.8183065917241434, 'confound_loss': 0.6933600315787913, 'loss': 777.3267462637406}\n",
      "Train acc: {'emotion_acc': 0.7332116788321168, 'confound_acc': 0.4958637469586375}\n",
      "Train loss: {'emotion_loss': 0.7980872147394061, 'confound_loss': 0.6933098968828698, 'loss': 768.2077663766387}\n",
      "Train acc: {'emotion_acc': 0.7532846715328467, 'confound_acc': 0.5018248175182481}\n",
      "Train loss: {'emotion_loss': 0.8021736251125076, 'confound_loss': 0.693168008373869, 'loss': 769.235818656502}\n",
      "Train acc: {'emotion_acc': 0.7485401459854014, 'confound_acc': 0.5091240875912408}\n",
      "Train loss: {'emotion_loss': 0.8091702144665477, 'confound_loss': 0.6933504089075304, 'loss': 773.4795316152188}\n",
      "Train acc: {'emotion_acc': 0.7389294403892944, 'confound_acc': 0.5001216545012166}\n",
      "Train loss: {'emotion_loss': 0.7914840077495761, 'confound_loss': 0.6934036537135158, 'loss': 763.6149339029993}\n",
      "Train acc: {'emotion_acc': 0.7586374695863747, 'confound_acc': 0.49391727493917276}\n",
      "Train loss: {'emotion_loss': 0.8032926253191692, 'confound_loss': 0.6927839991299559, 'loss': 768.4913900380932}\n",
      "Train acc: {'emotion_acc': 0.7464720194647202, 'confound_acc': 0.516058394160584}\n",
      "Train loss: {'emotion_loss': 0.7876077980846746, 'confound_loss': 0.693551575163459, 'loss': 763.821534108733}\n",
      "Train acc: {'emotion_acc': 0.7645985401459854, 'confound_acc': 0.4979318734793187}\n",
      "Train loss: {'emotion_loss': 0.7939900332619708, 'confound_loss': 0.6937757431301161, 'loss': 763.6106949602236}\n",
      "Train acc: {'emotion_acc': 0.754257907542579, 'confound_acc': 0.49318734793187347}\n",
      "Train loss: {'emotion_loss': 0.7862410327919727, 'confound_loss': 0.6927923660449945, 'loss': 762.0092606677852}\n",
      "Train acc: {'emotion_acc': 0.7638686131386861, 'confound_acc': 0.5080291970802919}\n",
      "Train loss: {'emotion_loss': 0.7822148480419983, 'confound_loss': 0.6935217702319186, 'loss': 760.2067813777043}\n",
      "Train acc: {'emotion_acc': 0.7677615571776155, 'confound_acc': 0.48832116788321167}\n",
      "Train loss: {'emotion_loss': 0.787481474389362, 'confound_loss': 0.6933510595142609, 'loss': 764.1447612105177}\n",
      "Train acc: {'emotion_acc': 0.7636253041362531, 'confound_acc': 0.5063260340632604}\n",
      "Train loss: {'emotion_loss': 0.7906498546034445, 'confound_loss': 0.6931205870228518, 'loss': 762.1027061222012}\n",
      "Train acc: {'emotion_acc': 0.7602189781021897, 'confound_acc': 0.5057177615571776}\n",
      "Train loss: {'emotion_loss': 0.7810190721824475, 'confound_loss': 0.6933774839115514, 'loss': 759.4865347733758}\n",
      "Train acc: {'emotion_acc': 0.7697080291970803, 'confound_acc': 0.49562043795620436}\n"
     ]
    },
    {
     "data": {
      "text/plain": [
       "<matplotlib.legend.Legend at 0x7fab087bb8b0>"
      ]
     },
     "execution_count": 17,
     "metadata": {},
     "output_type": "execute_result"
    },
    {
     "data": {
      "image/png": "[encoded data removed]",
      "text/plain": [
       "<Figure size 432x288 with 1 Axes>"
      ]
     },
     "metadata": {
      "needs_background": "light"
     },
     "output_type": "display_data"
    }
   ],
   "source": [
    "emotion_recognizer = MasterNet(acoustic_modality = True, lexical_modality = True, visual_modality = False, grl_lambda = 10)\n",
    "init_weights(emotion_recognizer)\n",
    "for param in emotion_recognizer.parameters():\n",
    "    param.requires_grad = True\n",
    "emotion_recognizer.to(device)\n",
    "\n",
    "learning_rate = 1e-4\n",
    "optimizer = torch.optim.Adam(emotion_recognizer.parameters(), lr=learning_rate)\n",
    "lr_schedule = torch.optim.lr_scheduler.ReduceLROnPlateau(optimizer, patience=1)\n",
    "criterion = torch.nn.CrossEntropyLoss()\n",
    "\n",
    "train_dataset_file_path = '../dataset/IEMOCAP/0/train.csv'\n",
    "train_loader = datasets.get_dataloader(train_dataset_file_path, 'train')\n",
    "test_dataset_file_path = '../dataset/IEMOCAP/0/test.csv'\n",
    "test_loader = datasets.get_dataloader(test_dataset_file_path, 'test')\n",
    "\n",
    "emotion_loss = []\n",
    "confound_loss = []\n",
    "loss = []\n",
    "epochs = 50\n",
    "for epoch in range(epochs):\n",
    "    train_loss, train_acc = train(train_loader, emotion_recognizer, optimizer, criterion, device)\n",
    "    emotion_loss.append(train_loss['emotion_loss'])\n",
    "    confound_loss.append(train_loss['confound_loss'])\n",
    "    loss.append(train_loss['loss'])\n",
    "    print(f'Train loss: {train_loss}')\n",
    "    print(f'Train acc: {train_acc}')\n",
    "\n",
    "# plt.plot(range(epochs), loss, label = 'train loss')\n",
    "plt.plot(range(epochs), emotion_loss, label = 'emotion loss')\n",
    "plt.plot(range(epochs), confound_loss, label = 'confound loss')\n",
    "plt.legend()"
   ]
  },
  {
   "cell_type": "code",
   "execution_count": 18,
   "id": "internal-attempt",
   "metadata": {},
   "outputs": [
    {
     "name": "stdout",
     "output_type": "stream",
     "text": [
      "Test loss: {'emotion_loss': 0.22465833244620595, 'confound_loss': 0.1530652805756966, 'loss': 43.347415473036726}\n",
      "Test acc: {'emotion_acc': 0.5184167124793843, 'confound_acc': 0.5799890049477735}\n",
      "Test uar: {'emotion_uar': 0.5338291261923872, 'confound_uar': 0.4019950890116636}\n"
     ]
    }
   ],
   "source": [
    "test_loss, test_acc, test_uar = test(test_loader, emotion_recognizer, criterion, device)\n",
    "print(f'Test loss: {test_loss}')\n",
    "print(f'Test acc: {test_acc}')\n",
    "print(f'Test uar: {test_uar}')"
   ]
  },
  {
   "cell_type": "code",
   "execution_count": 19,
   "id": "featured-hudson",
   "metadata": {},
   "outputs": [
    {
     "data": {
      "text/plain": [
       "<matplotlib.legend.Legend at 0x7fab9f3f37c0>"
      ]
     },
     "execution_count": 19,
     "metadata": {},
     "output_type": "execute_result"
    },
    {
     "data": {
      "image/png": "[encoded data removed]",
      "text/plain": [
       "<Figure size 432x288 with 1 Axes>"
      ]
     },
     "metadata": {
      "needs_background": "light"
     },
     "output_type": "display_data"
    }
   ],
   "source": [
    "# plt.plot(range(epochs), loss, label = 'train loss')\n",
    "plt.plot(range(epochs), emotion_loss, label = 'emotion loss')\n",
    "plt.plot(range(epochs), confound_loss, label = 'confound loss')\n",
    "plt.legend()"
   ]
  },
  {
   "cell_type": "code",
   "execution_count": 20,
   "id": "antique-absorption",
   "metadata": {},
   "outputs": [],
   "source": [
    "acc = []\n",
    "uar = []"
   ]
  },
  {
   "cell_type": "code",
   "execution_count": 21,
   "id": "regional-crazy",
   "metadata": {},
   "outputs": [
    {
     "name": "stdout",
     "output_type": "stream",
     "text": [
      "0.3\n",
      "epoch: 1/10\n",
      "train_emotion_loss: 1.09418 train_emotion_acc: 0.375 train_confound_loss: 0.70122 train_confound_acc: 0.479 test_emotion_loss: 0.23824 test_emotion_acc: 0.484 test_confound_loss: 0.15995 test_confound_acc: 0.411 test_emotion_uar: 0.444 test_confound_uar: 0.407\n",
      "epoch: 2/10\n",
      "train_emotion_loss: 1.04321 train_emotion_acc: 0.491 train_confound_loss: 0.69855 train_confound_acc: 0.471 test_emotion_loss: 0.21883 test_emotion_acc: 0.612 test_confound_loss: 0.15433 test_confound_acc: 0.474 test_emotion_uar: 0.535 test_confound_uar: 0.495\n",
      "epoch: 3/10\n",
      "train_emotion_loss: 0.99746 train_emotion_acc: 0.527 train_confound_loss: 0.69062 train_confound_acc: 0.533 test_emotion_loss: 0.21356 test_emotion_acc: 0.603 test_confound_loss: 0.15075 test_confound_acc: 0.626 test_emotion_uar: 0.532 test_confound_uar: 0.629\n",
      "epoch: 4/10\n",
      "train_emotion_loss: 0.97856 train_emotion_acc: 0.548 train_confound_loss: 0.68800 train_confound_acc: 0.553 test_emotion_loss: 0.20994 test_emotion_acc: 0.620 test_confound_loss: 0.15058 test_confound_acc: 0.624 test_emotion_uar: 0.557 test_confound_uar: 0.619\n",
      "epoch: 5/10\n",
      "train_emotion_loss: 0.96569 train_emotion_acc: 0.568 train_confound_loss: 0.68768 train_confound_acc: 0.552 test_emotion_loss: 0.20969 test_emotion_acc: 0.601 test_confound_loss: 0.15031 test_confound_acc: 0.618 test_emotion_uar: 0.567 test_confound_uar: 0.612\n",
      "epoch: 6/10\n",
      "train_emotion_loss: 0.95518 train_emotion_acc: 0.580 train_confound_loss: 0.68737 train_confound_acc: 0.555 test_emotion_loss: 0.21088 test_emotion_acc: 0.585 test_confound_loss: 0.15143 test_confound_acc: 0.592 test_emotion_uar: 0.580 test_confound_uar: 0.590\n",
      "epoch: 7/10\n",
      "train_emotion_loss: 0.93980 train_emotion_acc: 0.602 train_confound_loss: 0.68638 train_confound_acc: 0.553 test_emotion_loss: 0.21060 test_emotion_acc: 0.580 test_confound_loss: 0.15113 test_confound_acc: 0.589 test_emotion_uar: 0.580 test_confound_uar: 0.569\n",
      "epoch: 8/10\n",
      "train_emotion_loss: 0.94373 train_emotion_acc: 0.595 train_confound_loss: 0.68874 train_confound_acc: 0.536 test_emotion_loss: 0.21044 test_emotion_acc: 0.581 test_confound_loss: 0.15125 test_confound_acc: 0.584 test_emotion_uar: 0.577 test_confound_uar: 0.567\n",
      "epoch: 9/10\n",
      "train_emotion_loss: 0.93226 train_emotion_acc: 0.608 train_confound_loss: 0.68767 train_confound_acc: 0.537 test_emotion_loss: 0.21015 test_emotion_acc: 0.583 test_confound_loss: 0.15107 test_confound_acc: 0.585 test_emotion_uar: 0.574 test_confound_uar: 0.564\n",
      "epoch: 10/10\n",
      "train_emotion_loss: 0.93222 train_emotion_acc: 0.607 train_confound_loss: 0.68893 train_confound_acc: 0.534 test_emotion_loss: 0.20993 test_emotion_acc: 0.584 test_confound_loss: 0.15100 test_confound_acc: 0.586 test_emotion_uar: 0.573 test_confound_uar: 0.565\n"
     ]
    }
   ],
   "source": [
    "model = MasterNet(acoustic_modality = True, lexical_modality = True, visual_modality = False)\n",
    "best_acc, best_uar = train_one_folder(model, folder = 0, verbose = True, epochs = 10)\n",
    "acc.append(best_acc)\n",
    "uar.append(best_uar)"
   ]
  },
  {
   "cell_type": "code",
   "execution_count": 22,
   "id": "legendary-scanning",
   "metadata": {},
   "outputs": [
    {
     "name": "stdout",
     "output_type": "stream",
     "text": [
      "0.3\n",
      "epoch: 1/10\n",
      "train_emotion_loss: 1.09286 train_emotion_acc: 0.366 train_confound_loss: 0.70725 train_confound_acc: 0.488 test_emotion_loss: 0.23269 test_emotion_acc: 0.536 test_confound_loss: 0.16578 test_confound_acc: 0.433 test_emotion_uar: 0.524 test_confound_uar: 0.300\n",
      "epoch: 2/10\n",
      "train_emotion_loss: 1.03608 train_emotion_acc: 0.490 train_confound_loss: 0.70085 train_confound_acc: 0.486 test_emotion_loss: 0.21610 test_emotion_acc: 0.584 test_confound_loss: 0.15146 test_confound_acc: 0.647 test_emotion_uar: 0.515 test_confound_uar: 0.641\n",
      "epoch: 3/10\n",
      "train_emotion_loss: 0.99721 train_emotion_acc: 0.525 train_confound_loss: 0.68720 train_confound_acc: 0.574 test_emotion_loss: 0.21237 test_emotion_acc: 0.585 test_confound_loss: 0.14817 test_confound_acc: 0.677 test_emotion_uar: 0.511 test_confound_uar: 0.741\n",
      "epoch: 4/10\n",
      "train_emotion_loss: 0.98384 train_emotion_acc: 0.543 train_confound_loss: 0.68905 train_confound_acc: 0.542 test_emotion_loss: 0.20931 test_emotion_acc: 0.592 test_confound_loss: 0.15112 test_confound_acc: 0.580 test_emotion_uar: 0.526 test_confound_uar: 0.566\n",
      "epoch: 5/10\n",
      "train_emotion_loss: 0.97043 train_emotion_acc: 0.562 train_confound_loss: 0.69250 train_confound_acc: 0.512 test_emotion_loss: 0.21223 test_emotion_acc: 0.563 test_confound_loss: 0.15247 test_confound_acc: 0.527 test_emotion_uar: 0.523 test_confound_uar: 0.534\n",
      "epoch: 6/10\n",
      "train_emotion_loss: 0.95996 train_emotion_acc: 0.573 train_confound_loss: 0.69115 train_confound_acc: 0.527 test_emotion_loss: 0.20834 test_emotion_acc: 0.589 test_confound_loss: 0.15141 test_confound_acc: 0.566 test_emotion_uar: 0.538 test_confound_uar: 0.577\n",
      "epoch: 7/10\n",
      "train_emotion_loss: 0.95111 train_emotion_acc: 0.587 train_confound_loss: 0.68811 train_confound_acc: 0.539 test_emotion_loss: 0.20823 test_emotion_acc: 0.590 test_confound_loss: 0.14953 test_confound_acc: 0.613 test_emotion_uar: 0.548 test_confound_uar: 0.603\n",
      "epoch: 8/10\n",
      "train_emotion_loss: 0.93502 train_emotion_acc: 0.603 train_confound_loss: 0.68799 train_confound_acc: 0.545 test_emotion_loss: 0.20979 test_emotion_acc: 0.576 test_confound_loss: 0.14964 test_confound_acc: 0.601 test_emotion_uar: 0.556 test_confound_uar: 0.590\n",
      "epoch: 9/10\n",
      "train_emotion_loss: 0.93346 train_emotion_acc: 0.603 train_confound_loss: 0.68769 train_confound_acc: 0.542 test_emotion_loss: 0.21031 test_emotion_acc: 0.565 test_confound_loss: 0.15021 test_confound_acc: 0.586 test_emotion_uar: 0.538 test_confound_uar: 0.572\n",
      "epoch: 10/10\n",
      "train_emotion_loss: 0.91863 train_emotion_acc: 0.630 train_confound_loss: 0.68838 train_confound_acc: 0.540 test_emotion_loss: 0.21040 test_emotion_acc: 0.562 test_confound_loss: 0.15042 test_confound_acc: 0.581 test_emotion_uar: 0.535 test_confound_uar: 0.567\n"
     ]
    }
   ],
   "source": [
    "model = MasterNet(acoustic_modality = True, lexical_modality = True, visual_modality = False)\n",
    "best_acc, best_uar = train_one_folder(model, folder = 1, verbose = True, epochs = 10)\n",
    "acc.append(best_acc)\n",
    "uar.append(best_uar)"
   ]
  },
  {
   "cell_type": "code",
   "execution_count": 23,
   "id": "robust-flour",
   "metadata": {},
   "outputs": [
    {
     "name": "stdout",
     "output_type": "stream",
     "text": [
      "0.3\n",
      "epoch: 1/10\n",
      "train_emotion_loss: 1.09586 train_emotion_acc: 0.367 train_confound_loss: 0.70769 train_confound_acc: 0.411 test_emotion_loss: 0.27894 test_emotion_acc: 0.480 test_confound_loss: 0.19097 test_confound_acc: 0.381 test_emotion_uar: 0.666 test_confound_uar: 0.293\n",
      "epoch: 2/10\n",
      "train_emotion_loss: 1.04326 train_emotion_acc: 0.491 train_confound_loss: 0.70410 train_confound_acc: 0.449 test_emotion_loss: 0.25858 test_emotion_acc: 0.563 test_confound_loss: 0.17748 test_confound_acc: 0.561 test_emotion_uar: 0.389 test_confound_uar: 0.756\n",
      "epoch: 3/10\n",
      "train_emotion_loss: 1.00316 train_emotion_acc: 0.523 train_confound_loss: 0.68362 train_confound_acc: 0.560 test_emotion_loss: 0.25328 test_emotion_acc: 0.574 test_confound_loss: 0.17434 test_confound_acc: 0.601 test_emotion_uar: 0.516 test_confound_uar: 0.724\n",
      "epoch: 4/10\n",
      "train_emotion_loss: 0.99133 train_emotion_acc: 0.534 train_confound_loss: 0.68311 train_confound_acc: 0.572 test_emotion_loss: 0.25110 test_emotion_acc: 0.576 test_confound_loss: 0.17599 test_confound_acc: 0.571 test_emotion_uar: 0.538 test_confound_uar: 0.645\n",
      "epoch: 5/10\n",
      "train_emotion_loss: 0.96493 train_emotion_acc: 0.569 train_confound_loss: 0.68576 train_confound_acc: 0.555 test_emotion_loss: 0.25047 test_emotion_acc: 0.559 test_confound_loss: 0.17784 test_confound_acc: 0.551 test_emotion_uar: 0.530 test_confound_uar: 0.562\n",
      "epoch: 6/10\n",
      "train_emotion_loss: 0.96091 train_emotion_acc: 0.573 train_confound_loss: 0.68867 train_confound_acc: 0.546 test_emotion_loss: 0.25046 test_emotion_acc: 0.559 test_confound_loss: 0.17984 test_confound_acc: 0.521 test_emotion_uar: 0.551 test_confound_uar: 0.525\n",
      "epoch: 7/10\n",
      "train_emotion_loss: 0.95306 train_emotion_acc: 0.584 train_confound_loss: 0.68868 train_confound_acc: 0.541 test_emotion_loss: 0.25044 test_emotion_acc: 0.560 test_confound_loss: 0.17997 test_confound_acc: 0.515 test_emotion_uar: 0.549 test_confound_uar: 0.515\n",
      "epoch: 8/10\n",
      "train_emotion_loss: 0.95385 train_emotion_acc: 0.581 train_confound_loss: 0.68926 train_confound_acc: 0.534 test_emotion_loss: 0.25071 test_emotion_acc: 0.558 test_confound_loss: 0.18007 test_confound_acc: 0.515 test_emotion_uar: 0.548 test_confound_uar: 0.514\n",
      "epoch: 9/10\n",
      "train_emotion_loss: 0.94732 train_emotion_acc: 0.586 train_confound_loss: 0.69094 train_confound_acc: 0.525 test_emotion_loss: 0.25047 test_emotion_acc: 0.560 test_confound_loss: 0.18005 test_confound_acc: 0.517 test_emotion_uar: 0.549 test_confound_uar: 0.518\n",
      "epoch: 10/10\n",
      "train_emotion_loss: 0.95026 train_emotion_acc: 0.586 train_confound_loss: 0.68899 train_confound_acc: 0.538 test_emotion_loss: 0.25040 test_emotion_acc: 0.560 test_confound_loss: 0.18005 test_confound_acc: 0.519 test_emotion_uar: 0.548 test_confound_uar: 0.521\n"
     ]
    }
   ],
   "source": [
    "model = MasterNet(acoustic_modality = True, lexical_modality = True, visual_modality = False)\n",
    "best_acc, best_uar = train_one_folder(model, folder = 2, verbose = True, epochs = 10)\n",
    "acc.append(best_acc)\n",
    "uar.append(best_uar)"
   ]
  },
  {
   "cell_type": "code",
   "execution_count": 24,
   "id": "requested-stack",
   "metadata": {},
   "outputs": [
    {
     "name": "stdout",
     "output_type": "stream",
     "text": [
      "0.3\n",
      "epoch: 1/10\n",
      "train_emotion_loss: 1.09400 train_emotion_acc: 0.366 train_confound_loss: 0.69898 train_confound_acc: 0.499 test_emotion_loss: 0.27083 test_emotion_acc: 0.506 test_confound_loss: 0.18330 test_confound_acc: 0.418 test_emotion_uar: 0.335 test_confound_uar: 0.272\n",
      "epoch: 2/10\n"
     ]
    },
    {
     "name": "stderr",
     "output_type": "stream",
     "text": [
      "/home/brandon/src/stressed_emotion/.venv/lib/python3.8/site-packages/sklearn/metrics/_classification.py:1245: UndefinedMetricWarning: Recall is ill-defined and being set to 0.0 in labels with no true samples. Use `zero_division` parameter to control this behavior.\n",
      "  _warn_prf(average, modifier, msg_start, len(result))\n"
     ]
    },
    {
     "name": "stdout",
     "output_type": "stream",
     "text": [
      "train_emotion_loss: 1.03172 train_emotion_acc: 0.498 train_confound_loss: 0.69526 train_confound_acc: 0.528 test_emotion_loss: 0.25574 test_emotion_acc: 0.539 test_confound_loss: 0.17665 test_confound_acc: 0.497 test_emotion_uar: 0.437 test_confound_uar: 0.605\n",
      "epoch: 3/10\n",
      "train_emotion_loss: 0.99116 train_emotion_acc: 0.538 train_confound_loss: 0.68868 train_confound_acc: 0.544 test_emotion_loss: 0.25314 test_emotion_acc: 0.532 test_confound_loss: 0.17365 test_confound_acc: 0.612 test_emotion_uar: 0.445 test_confound_uar: 0.657\n",
      "epoch: 4/10\n",
      "train_emotion_loss: 0.96983 train_emotion_acc: 0.557 train_confound_loss: 0.68726 train_confound_acc: 0.559 test_emotion_loss: 0.25108 test_emotion_acc: 0.537 test_confound_loss: 0.17413 test_confound_acc: 0.585 test_emotion_uar: 0.483 test_confound_uar: 0.623\n",
      "epoch: 5/10\n",
      "train_emotion_loss: 0.95895 train_emotion_acc: 0.569 train_confound_loss: 0.68482 train_confound_acc: 0.566 test_emotion_loss: 0.25197 test_emotion_acc: 0.536 test_confound_loss: 0.17561 test_confound_acc: 0.524 test_emotion_uar: 0.501 test_confound_uar: 0.564\n",
      "epoch: 6/10\n",
      "train_emotion_loss: 0.95184 train_emotion_acc: 0.587 train_confound_loss: 0.68631 train_confound_acc: 0.547 test_emotion_loss: 0.25090 test_emotion_acc: 0.541 test_confound_loss: 0.17624 test_confound_acc: 0.541 test_emotion_uar: 0.503 test_confound_uar: 0.557\n",
      "epoch: 7/10\n",
      "train_emotion_loss: 0.93909 train_emotion_acc: 0.601 train_confound_loss: 0.68663 train_confound_acc: 0.557 test_emotion_loss: 0.25098 test_emotion_acc: 0.538 test_confound_loss: 0.17640 test_confound_acc: 0.537 test_emotion_uar: 0.502 test_confound_uar: 0.554\n",
      "epoch: 8/10\n",
      "train_emotion_loss: 0.94064 train_emotion_acc: 0.596 train_confound_loss: 0.68802 train_confound_acc: 0.543 test_emotion_loss: 0.25106 test_emotion_acc: 0.538 test_confound_loss: 0.17646 test_confound_acc: 0.537 test_emotion_uar: 0.503 test_confound_uar: 0.553\n",
      "epoch: 9/10\n",
      "train_emotion_loss: 0.93710 train_emotion_acc: 0.601 train_confound_loss: 0.68574 train_confound_acc: 0.557 test_emotion_loss: 0.25110 test_emotion_acc: 0.536 test_confound_loss: 0.17648 test_confound_acc: 0.535 test_emotion_uar: 0.502 test_confound_uar: 0.551\n",
      "epoch: 10/10\n",
      "train_emotion_loss: 0.93905 train_emotion_acc: 0.600 train_confound_loss: 0.68655 train_confound_acc: 0.550 test_emotion_loss: 0.25107 test_emotion_acc: 0.537 test_confound_loss: 0.17648 test_confound_acc: 0.536 test_emotion_uar: 0.503 test_confound_uar: 0.552\n"
     ]
    }
   ],
   "source": [
    "model = MasterNet(acoustic_modality = True, lexical_modality = True, visual_modality = False)\n",
    "best_acc, best_uar = train_one_folder(model, folder = 3, verbose = True, epochs = 10)\n",
    "acc.append(best_acc)\n",
    "uar.append(best_uar)"
   ]
  },
  {
   "cell_type": "code",
   "execution_count": 25,
   "id": "virgin-smoke",
   "metadata": {},
   "outputs": [
    {
     "name": "stdout",
     "output_type": "stream",
     "text": [
      "0.3\n",
      "epoch: 1/10\n",
      "train_emotion_loss: 1.09515 train_emotion_acc: 0.356 train_confound_loss: 0.69853 train_confound_acc: 0.464 test_emotion_loss: 0.28314 test_emotion_acc: 0.505 test_confound_loss: 0.19179 test_confound_acc: 0.232 test_emotion_uar: 0.411 test_confound_uar: 0.232\n",
      "epoch: 2/10\n",
      "train_emotion_loss: 1.03523 train_emotion_acc: 0.497 train_confound_loss: 0.70149 train_confound_acc: 0.435 test_emotion_loss: 0.26472 test_emotion_acc: 0.538 test_confound_loss: 0.18564 test_confound_acc: 0.454 test_emotion_uar: 0.421 test_confound_uar: 0.449\n",
      "epoch: 3/10\n",
      "train_emotion_loss: 1.00367 train_emotion_acc: 0.516 train_confound_loss: 0.68288 train_confound_acc: 0.565 test_emotion_loss: 0.26100 test_emotion_acc: 0.544 test_confound_loss: 0.18001 test_confound_acc: 0.527 test_emotion_uar: 0.466 test_confound_uar: 0.597\n",
      "epoch: 4/10\n",
      "train_emotion_loss: 0.98333 train_emotion_acc: 0.543 train_confound_loss: 0.68287 train_confound_acc: 0.557 test_emotion_loss: 0.26050 test_emotion_acc: 0.535 test_confound_loss: 0.18216 test_confound_acc: 0.509 test_emotion_uar: 0.481 test_confound_uar: 0.539\n",
      "epoch: 5/10\n",
      "train_emotion_loss: 0.97809 train_emotion_acc: 0.547 train_confound_loss: 0.68765 train_confound_acc: 0.544 test_emotion_loss: 0.26158 test_emotion_acc: 0.524 test_confound_loss: 0.18446 test_confound_acc: 0.479 test_emotion_uar: 0.471 test_confound_uar: 0.489\n",
      "epoch: 6/10\n",
      "train_emotion_loss: 0.97093 train_emotion_acc: 0.558 train_confound_loss: 0.68870 train_confound_acc: 0.540 test_emotion_loss: 0.25974 test_emotion_acc: 0.535 test_confound_loss: 0.18398 test_confound_acc: 0.484 test_emotion_uar: 0.485 test_confound_uar: 0.497\n",
      "epoch: 7/10\n",
      "train_emotion_loss: 0.96299 train_emotion_acc: 0.573 train_confound_loss: 0.68756 train_confound_acc: 0.547 test_emotion_loss: 0.25992 test_emotion_acc: 0.537 test_confound_loss: 0.18396 test_confound_acc: 0.485 test_emotion_uar: 0.490 test_confound_uar: 0.498\n",
      "epoch: 8/10\n",
      "train_emotion_loss: 0.96158 train_emotion_acc: 0.570 train_confound_loss: 0.68681 train_confound_acc: 0.550 test_emotion_loss: 0.25996 test_emotion_acc: 0.536 test_confound_loss: 0.18397 test_confound_acc: 0.484 test_emotion_uar: 0.488 test_confound_uar: 0.497\n",
      "epoch: 9/10\n",
      "train_emotion_loss: 0.96780 train_emotion_acc: 0.568 train_confound_loss: 0.68775 train_confound_acc: 0.547 test_emotion_loss: 0.25999 test_emotion_acc: 0.534 test_confound_loss: 0.18397 test_confound_acc: 0.485 test_emotion_uar: 0.485 test_confound_uar: 0.499\n",
      "epoch: 10/10\n",
      "train_emotion_loss: 0.96902 train_emotion_acc: 0.568 train_confound_loss: 0.68840 train_confound_acc: 0.537 test_emotion_loss: 0.25998 test_emotion_acc: 0.534 test_confound_loss: 0.18397 test_confound_acc: 0.485 test_emotion_uar: 0.485 test_confound_uar: 0.499\n"
     ]
    }
   ],
   "source": [
    "model = MasterNet(acoustic_modality = True, lexical_modality = True, visual_modality = False)\n",
    "best_acc, best_uar = train_one_folder(model, folder = 4, verbose = True, epochs = 10)\n",
    "acc.append(best_acc)\n",
    "uar.append(best_uar)"
   ]
  },
  {
   "cell_type": "code",
   "execution_count": 26,
   "id": "piano-builder",
   "metadata": {},
   "outputs": [
    {
     "data": {
      "text/plain": [
       "<BarContainer object of 5 artists>"
      ]
     },
     "execution_count": 26,
     "metadata": {},
     "output_type": "execute_result"
    },
    {
     "data": {
      "image/png": "[encoded data removed]",
      "text/plain": [
       "<Figure size 432x288 with 1 Axes>"
      ]
     },
     "metadata": {
      "needs_background": "light"
     },
     "output_type": "display_data"
    }
   ],
   "source": [
    "import matplotlib.pyplot as plt\n",
    "plt.bar(range(5),acc)"
   ]
  },
  {
   "cell_type": "code",
   "execution_count": 27,
   "id": "figured-creek",
   "metadata": {},
   "outputs": [
    {
     "data": {
      "text/plain": [
       "<BarContainer object of 5 artists>"
      ]
     },
     "execution_count": 27,
     "metadata": {},
     "output_type": "execute_result"
    },
    {
     "data": {
      "image/png": "[encoded data removed]",
      "text/plain": [
       "<Figure size 432x288 with 1 Axes>"
      ]
     },
     "metadata": {
      "needs_background": "light"
     },
     "output_type": "display_data"
    }
   ],
   "source": [
    "plt.bar(range(5),uar)"
   ]
  },
  {
   "cell_type": "code",
   "execution_count": 28,
   "id": "designed-potter",
   "metadata": {},
   "outputs": [
    {
     "name": "stdout",
     "output_type": "stream",
     "text": [
      "[0.6195711929631665, 0.5919381557150746, 0.576310861423221, 0.54113171659534, 0.543778801843318]\n",
      "[0.5797473004493539, 0.5560675776078008, 0.6660561453766521, 0.5032713284393016, 0.489619002034886]\n"
     ]
    }
   ],
   "source": [
    "print(acc)\n",
    "print(uar)"
   ]
  },
  {
   "cell_type": "code",
   "execution_count": 29,
   "id": "ordered-shore",
   "metadata": {},
   "outputs": [],
   "source": [
    "import pandas as pd"
   ]
  },
  {
   "cell_type": "code",
   "execution_count": 30,
   "id": "appropriate-stupid",
   "metadata": {},
   "outputs": [
    {
     "data": {
      "text/html": [
       "<div>\n",
       "<style scoped>\n",
       "    .dataframe tbody tr th:only-of-type {\n",
       "        vertical-align: middle;\n",
       "    }\n",
       "\n",
       "    .dataframe tbody tr th {\n",
       "        vertical-align: top;\n",
       "    }\n",
       "\n",
       "    .dataframe thead th {\n",
       "        text-align: right;\n",
       "    }\n",
       "</style>\n",
       "<table border=\"1\" class=\"dataframe\">\n",
       "  <thead>\n",
       "    <tr style=\"text-align: right;\">\n",
       "      <th></th>\n",
       "      <th>0</th>\n",
       "      <th>1</th>\n",
       "    </tr>\n",
       "  </thead>\n",
       "  <tbody>\n",
       "    <tr>\n",
       "      <th>0</th>\n",
       "      <td>0.619571</td>\n",
       "      <td>0.579747</td>\n",
       "    </tr>\n",
       "    <tr>\n",
       "      <th>1</th>\n",
       "      <td>0.591938</td>\n",
       "      <td>0.556068</td>\n",
       "    </tr>\n",
       "    <tr>\n",
       "      <th>2</th>\n",
       "      <td>0.576311</td>\n",
       "      <td>0.666056</td>\n",
       "    </tr>\n",
       "    <tr>\n",
       "      <th>3</th>\n",
       "      <td>0.541132</td>\n",
       "      <td>0.503271</td>\n",
       "    </tr>\n",
       "    <tr>\n",
       "      <th>4</th>\n",
       "      <td>0.543779</td>\n",
       "      <td>0.489619</td>\n",
       "    </tr>\n",
       "  </tbody>\n",
       "</table>\n",
       "</div>"
      ],
      "text/plain": [
       "          0         1\n",
       "0  0.619571  0.579747\n",
       "1  0.591938  0.556068\n",
       "2  0.576311  0.666056\n",
       "3  0.541132  0.503271\n",
       "4  0.543779  0.489619"
      ]
     },
     "execution_count": 30,
     "metadata": {},
     "output_type": "execute_result"
    }
   ],
   "source": [
    "pd.DataFrame([acc,uar]).T"
   ]
  },
  {
   "cell_type": "code",
   "execution_count": 31,
   "id": "czech-peripheral",
   "metadata": {},
   "outputs": [
    {
     "data": {
      "text/plain": [
       "0.574546145708024"
      ]
     },
     "execution_count": 31,
     "metadata": {},
     "output_type": "execute_result"
    }
   ],
   "source": [
    "np.average(acc)"
   ]
  },
  {
   "cell_type": "code",
   "execution_count": 32,
   "id": "continuous-exemption",
   "metadata": {},
   "outputs": [
    {
     "data": {
      "text/plain": [
       "0.5589522707815988"
      ]
     },
     "execution_count": 32,
     "metadata": {},
     "output_type": "execute_result"
    }
   ],
   "source": [
    "np.average(uar)"
   ]
  },
  {
   "cell_type": "code",
   "execution_count": null,
   "id": "pregnant-yellow",
   "metadata": {},
   "outputs": [],
   "source": []
  }
 ],
 "metadata": {
  "kernelspec": {
   "display_name": "Python 3",
   "language": "python",
   "name": "python3"
  },
  "language_info": {
   "codemirror_mode": {
    "name": "ipython",
    "version": 3
   },
   "file_extension": ".py",
   "mimetype": "text/x-python",
   "name": "python",
   "nbconvert_exporter": "python",
   "pygments_lexer": "ipython3",
   "version": "3.8.6"
  }
 },
 "nbformat": 4,
 "nbformat_minor": 5
}
