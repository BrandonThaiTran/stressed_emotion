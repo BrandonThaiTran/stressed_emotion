{
 "cells": [
  {
   "cell_type": "code",
   "execution_count": 1,
   "id": "million-whale",
   "metadata": {},
   "outputs": [],
   "source": [
    "import torch\n",
    "import torch.nn as nn\n",
    "import numpy as np\n",
    "import torch.nn.functional as F\n",
    "import itertools\n",
    "import matplotlib.pyplot as plt\n",
    "\n",
    "import sampler\n",
    "import datasets\n",
    "from earlystopping import EarlyStopping\n",
    "\n",
    "from sklearn.metrics import accuracy_score, recall_score\n",
    "from torch.autograd  import  Function"
   ]
  },
  {
   "cell_type": "markdown",
   "id": "statistical-moses",
   "metadata": {},
   "source": [
    "# Acoustic Branch"
   ]
  },
  {
   "cell_type": "markdown",
   "id": "beneficial-sheriff",
   "metadata": {},
   "source": [
    "Inputs for acoustic branch will be N x 40 where N [1,33]  \n",
    "Time step: (2, 10) (seconds?)  \n",
    "N: relative duration after feature extraction"
   ]
  },
  {
   "cell_type": "code",
   "execution_count": 2,
   "id": "controlling-least",
   "metadata": {},
   "outputs": [],
   "source": [
    "class AcousticNet(nn.Module):\n",
    "    def __init__(self, num_conv_layers = 3, kernel_size = 2, conv_width = 32, num_gru_layers = 2):\n",
    "        super(AcousticNet, self).__init__()\n",
    "        self.num_conv_layers = num_conv_layers\n",
    "        self.conv1 = nn.Conv1d(in_channels=40, out_channels=conv_width, kernel_size=kernel_size, padding = kernel_size - 1)\n",
    "        self.conv2 = nn.Conv1d(in_channels=conv_width, out_channels=conv_width, kernel_size=kernel_size, padding = kernel_size - 1)\n",
    "        self.conv3 = nn.Conv1d(in_channels=conv_width, out_channels=conv_width, kernel_size=kernel_size, padding = kernel_size - 1)\n",
    "        self.conv4 = nn.Conv1d(in_channels=conv_width, out_channels=conv_width, kernel_size=kernel_size, padding = kernel_size - 1)\n",
    "        self.convs = [self.conv1, self.conv2, self.conv3, self.conv4]\n",
    "        self.max_pool = nn.MaxPool1d(kernel_size = 2)\n",
    "        self.relu = nn.ReLU()\n",
    "        \n",
    "        self.gru = nn.GRU(input_size=conv_width,hidden_size=32,num_layers=num_gru_layers) # 19 is hardcoded\n",
    "        self.mean_pool = nn.AvgPool1d(kernel_size=2)\n",
    "        \n",
    "    def forward(self, x):\n",
    "        x = torch.transpose(x, 1, 2) \n",
    "#         print(x.shape)\n",
    "        for i in range(self.num_conv_layers):\n",
    "            x = self.relu(self.max_pool(self.convs[i](x)))\n",
    "        x = torch.transpose(x, 1, 2) \n",
    "        x, _ = self.gru(x)\n",
    "        x = torch.transpose(x, 1, 2)\n",
    "        x = F.adaptive_avg_pool1d(x,1)[:, :, -1]\n",
    "#         x = self.mean_pool(x)\n",
    "        return x"
   ]
  },
  {
   "cell_type": "code",
   "execution_count": 3,
   "id": "fluid-vampire",
   "metadata": {},
   "outputs": [
    {
     "name": "stdout",
     "output_type": "stream",
     "text": [
      "Shape of output: torch.Size([8, 32])\n"
     ]
    }
   ],
   "source": [
    "# Test dummy input\n",
    "net = AcousticNet(num_conv_layers = 3, kernel_size = 2, conv_width = 32, num_gru_layers = 2)\n",
    "batch_size = 8\n",
    "n_acoustic_channels = 40\n",
    "duration_acoustic = 1232\n",
    "test_vec = torch.randn(batch_size, duration_acoustic, n_acoustic_channels) # samples x features (or channels) x N (relative duration)\n",
    "output = net(test_vec)\n",
    "print(f'Shape of output: {output.shape}')\n",
    "# assert output.shape[-1] == 16"
   ]
  },
  {
   "cell_type": "markdown",
   "id": "tender-cleaner",
   "metadata": {},
   "source": [
    "# Lexical Branch"
   ]
  },
  {
   "cell_type": "code",
   "execution_count": 4,
   "id": "right-device",
   "metadata": {},
   "outputs": [],
   "source": [
    "# implement GRU (or transformer)\n",
    "class LexicalNet(nn.Module):\n",
    "    def __init__(self, num_gru_layers = 2):\n",
    "        super(LexicalNet, self).__init__()\n",
    "        # implement GRU (or transformer)\n",
    "        self.gru = nn.GRU(input_size=768,hidden_size=32,num_layers=num_gru_layers)\n",
    "        self.mean_pool = nn.AvgPool1d(kernel_size=2) \n",
    "        self.flatten = nn.Flatten()\n",
    "        \n",
    "    def forward(self, x):\n",
    "        x, _ = self.gru(x)\n",
    "#         x = self.mean_pool(x)\n",
    "        x = self.flatten(x)\n",
    "#         print(x.shape)\n",
    "        return x"
   ]
  },
  {
   "cell_type": "code",
   "execution_count": 5,
   "id": "declared-aurora",
   "metadata": {},
   "outputs": [],
   "source": [
    "# Test dummy input\n",
    "net = LexicalNet(num_gru_layers = 2)\n",
    "batch_size = 8\n",
    "test_vec = torch.randn(batch_size, 1, 768)\n",
    "output = net(test_vec)\n",
    "# assert output.shape[-1] == 16"
   ]
  },
  {
   "cell_type": "markdown",
   "id": "placed-pioneer",
   "metadata": {},
   "source": [
    "# Master branch"
   ]
  },
  {
   "cell_type": "code",
   "execution_count": 6,
   "id": "judicial-trace",
   "metadata": {},
   "outputs": [],
   "source": [
    "# class GRL(Function):\n",
    "#     @staticmethod\n",
    "#     def forward(self,x):\n",
    "#         return x\n",
    "#     @staticmethod\n",
    "#     def backward(self,grad_output):\n",
    "#         grad_input = grad_output.neg()\n",
    "#         return grad_input"
   ]
  },
  {
   "cell_type": "code",
   "execution_count": 7,
   "id": "experimental-three",
   "metadata": {},
   "outputs": [],
   "source": [
    "class GradientReversalFunction(Function):\n",
    "    \"\"\"\n",
    "    Gradient Reversal Layer from:\n",
    "    Unsupervised Domain Adaptation by Backpropagation (Ganin & Lempitsky, 2015)\n",
    "    Forward pass is the identity function. In the backward pass,\n",
    "    the upstream gradients are multiplied by -lambda (i.e. gradient is reversed)\n",
    "    \"\"\"\n",
    "\n",
    "    @staticmethod\n",
    "    def forward(ctx, x, lambda_):\n",
    "        ctx.lambda_ = lambda_\n",
    "        return x.clone()\n",
    "\n",
    "    @staticmethod\n",
    "    def backward(ctx, grads):\n",
    "        lambda_ = ctx.lambda_\n",
    "        lambda_ = grads.new_tensor(lambda_)\n",
    "        dx = -lambda_ * grads\n",
    "        return dx, None\n",
    "    \n",
    "class GradientReversal(torch.nn.Module):\n",
    "    def __init__(self, lambda_=1):\n",
    "        super(GradientReversal, self).__init__()\n",
    "        self.lambda_ = lambda_\n",
    "\n",
    "    def forward(self, x):\n",
    "        return GradientReversalFunction.apply(x, self.lambda_)"
   ]
  },
  {
   "cell_type": "code",
   "execution_count": 8,
   "id": "together-dealer",
   "metadata": {},
   "outputs": [],
   "source": [
    "class MasterNet(nn.Module):\n",
    "    def __init__(self, acoustic_modality = True, lexical_modality = True, visual_modality = False,\n",
    "                 num_conv_layers = 3, kernel_size = 2, conv_width = 32, num_gru_layers = 2,\n",
    "                 num_dense_layers = 1, dense_layer_width = 32, grl_lambda = .3):\n",
    "        super(MasterNet, self).__init__()\n",
    "        \n",
    "        self.acoustic_modality = acoustic_modality\n",
    "        self.lexical_modality = lexical_modality\n",
    "        self.visual_modality = visual_modality\n",
    "        \n",
    "        self.acoustic_model = AcousticNet(num_conv_layers = num_conv_layers, kernel_size = kernel_size, \n",
    "                                     conv_width = conv_width, num_gru_layers = num_gru_layers)\n",
    "        self.lexical_model = LexicalNet(num_gru_layers = 2)\n",
    "        \n",
    "        # emotion classifier\n",
    "#         self.dense1_emo = nn.Linear()\n",
    "#         self.dense2_emo = nn.Linear()\n",
    "        \n",
    "        width = 0 # width of the FC layers\n",
    "        if self.acoustic_modality:\n",
    "            width += 32\n",
    "        if self.visual_modality:\n",
    "            width += 0 # to implement\n",
    "        if self.lexical_modality:\n",
    "            width += 32\n",
    "            \n",
    "        self.fc_1 = nn.Linear(width, dense_layer_width)\n",
    "        self.fc_2 = nn.Linear(dense_layer_width, 3)\n",
    "        self.softmax = nn.Softmax(dim=1)\n",
    "\n",
    "        self.relu = nn.ReLU()\n",
    "#         # To implement   \n",
    "#         if num_dense_layers == 2:\n",
    "#             self.fc = nn.Sequential()\n",
    "#             self.linear_1 = nn.Linear(width, dense_layer_width)\n",
    "#         else:\n",
    "#             self.fc = \n",
    "        \n",
    "        # confound classifier -- to implement\n",
    "        self.grl = GradientReversal(lambda_ = grl_lambda)\n",
    "        self.dense_conv = nn.Linear(width, 2)\n",
    "#         self.dense2_con = None\n",
    "        \n",
    "        \n",
    "    def forward_a(self, x_a):\n",
    "        x = x_a\n",
    "        x = self.acoustic_model(x)\n",
    "        return x\n",
    "    \n",
    "    def forward_l(self, x_l):\n",
    "        x = torch.unsqueeze(x_l, dim = 1)\n",
    "        x = self.lexical_model(x)\n",
    "        return x\n",
    "    \n",
    "    def forward_v(self, x_v):\n",
    "        x = x_v\n",
    "        return x\n",
    "    \n",
    "    def encoder(self, x_v, x_a, x_l):\n",
    "        if self.visual_modality:\n",
    "            x_v = self.forward_v(x_v)\n",
    "        if self.acoustic_modality:\n",
    "            x_a = self.forward_a(x_a)\n",
    "        if self.lexical_modality:\n",
    "            x_l = self.forward_l(x_l)\n",
    "        \n",
    "        if self.visual_modality:\n",
    "            if self.acoustic_modality:\n",
    "                if self.lexical_modality:\n",
    "                    x = torch.cat((x_v, x_a, x_l), 1)\n",
    "                else:\n",
    "                    x = torch.cat((x_v, x_a), 1)\n",
    "            else:\n",
    "                if self.lexical_modality:\n",
    "                    x = torch.cat((x_v, x_l), 1)\n",
    "                else:\n",
    "                    x = x_v\n",
    "        else:\n",
    "            if self.acoustic_modality:\n",
    "                if self.lexical_modality:\n",
    "                    x = torch.cat((x_a, x_l), 1)\n",
    "                else:\n",
    "                    x = x_a\n",
    "            else:\n",
    "                x = x_l\n",
    "        return x\n",
    "\n",
    "    def confound_model(self, x):\n",
    "#         x = self.grl.apply(x)\n",
    "        x = self.grl(x)\n",
    "        x = self.dense_conv(x)\n",
    "        x = self.softmax(x)\n",
    "        return x\n",
    "    \n",
    "    # For emotion\n",
    "    def recognizer(self, x):\n",
    "#         print(x.shape)\n",
    "        x = self.relu(self.fc_1(x))\n",
    "        x = self.fc_2(x)\n",
    "        x = self.softmax(x)\n",
    "        return x\n",
    "    \n",
    "    def forward(self, x_v, x_a, x_l):\n",
    "        x = self.encoder(x_v, x_a, x_l)\n",
    "        emotion_output = self.recognizer(x)\n",
    "        confound_output = self.confound_model(x)\n",
    "        \n",
    "        return emotion_output, confound_output"
   ]
  },
  {
   "cell_type": "code",
   "execution_count": 9,
   "id": "respective-advancement",
   "metadata": {},
   "outputs": [
    {
     "name": "stdout",
     "output_type": "stream",
     "text": [
      "Shape of emotion output: torch.Size([8, 3])\n",
      "Shape of stress output: torch.Size([8, 2])\n",
      "tensor([[0.2728, 0.3606, 0.3666],\n",
      "        [0.2783, 0.3548, 0.3669],\n",
      "        [0.2803, 0.3579, 0.3618],\n",
      "        [0.2831, 0.3492, 0.3677],\n",
      "        [0.2771, 0.3546, 0.3683],\n",
      "        [0.2683, 0.3506, 0.3811],\n",
      "        [0.2721, 0.3630, 0.3649],\n",
      "        [0.2696, 0.3671, 0.3633]], grad_fn=<SoftmaxBackward>)\n",
      "tensor([[0.5710, 0.4290],\n",
      "        [0.5901, 0.4099],\n",
      "        [0.5560, 0.4440],\n",
      "        [0.5614, 0.4386],\n",
      "        [0.5570, 0.4430],\n",
      "        [0.5166, 0.4834],\n",
      "        [0.5375, 0.4625],\n",
      "        [0.5590, 0.4410]], grad_fn=<SoftmaxBackward>)\n"
     ]
    }
   ],
   "source": [
    "# Test dummy input\n",
    "net = MasterNet()\n",
    "batch_size = 8\n",
    "n_acoustic_channels = 40\n",
    "duration_acoustic = 1232\n",
    "acoustic_features = torch.randn(batch_size, duration_acoustic, n_acoustic_channels) # samples x features (or channels) x N (relative duration)\n",
    "# lexical_features = torch.randn(batch_size, 1, 300)\n",
    "lexical_features = torch.randn(batch_size, 768)\n",
    "visual_features = None\n",
    "emotion_output, stress_output = net(visual_features, acoustic_features, lexical_features)\n",
    "print(f'Shape of emotion output: {emotion_output.shape}')\n",
    "print(f'Shape of stress output: {stress_output.shape}')\n",
    "print(emotion_output)\n",
    "print(stress_output)\n",
    "# assert output.shape[-1] == 16"
   ]
  },
  {
   "cell_type": "code",
   "execution_count": 10,
   "id": "scheduled-walter",
   "metadata": {},
   "outputs": [],
   "source": [
    "# Use specific GPU\n",
    "def get_device():\n",
    "    if torch.cuda.is_available():  \n",
    "        dev = \"cuda:0\" \n",
    "    else:  \n",
    "        dev = \"cpu\"  \n",
    "    return torch.device(dev)\n",
    "device = get_device()"
   ]
  },
  {
   "cell_type": "code",
   "execution_count": 11,
   "id": "changing-sperm",
   "metadata": {},
   "outputs": [],
   "source": [
    "def train_one_folder(model, folder = 0, epochs = 1, verbose = False, learning_rate = 1e-4, patience = 5):\n",
    "    # Use specific GPU\n",
    "    device = get_device()\n",
    "\n",
    "    # Dataloaders    \n",
    "    train_dataset_file_path = '../dataset/IEMOCAP/' + str(folder) + '/train.csv'\n",
    "    train_loader = datasets.get_dataloader(train_dataset_file_path, 'train')\n",
    "    test_dataset_file_path = '../dataset/IEMOCAP/' + str(folder) + '/test.csv'\n",
    "    test_loader = datasets.get_dataloader(test_dataset_file_path, 'test')\n",
    "\n",
    "    # Model, optimizer and loss function\n",
    "    init_weights(model)\n",
    "    for param in emotion_recognizer.parameters():\n",
    "        param.requires_grad = True\n",
    "    model.to(device)\n",
    "\n",
    "    optimizer = torch.optim.Adam(model.parameters(), lr=learning_rate)\n",
    "    lr_schedule = torch.optim.lr_scheduler.ReduceLROnPlateau(optimizer, patience=1)\n",
    "\n",
    "    criterion = torch.nn.CrossEntropyLoss()\n",
    "\n",
    "    best_acc = 0.\n",
    "    best_uar = 0.\n",
    "    es = EarlyStopping(patience=patience)\n",
    "\n",
    "    # Train and validate\n",
    "    for epoch in range(epochs):\n",
    "        if verbose:\n",
    "            print('epoch: {}/{}'.format(epoch + 1, epochs))\n",
    "\n",
    "        train_loss, train_acc = train(train_loader, model,\n",
    "                                        optimizer, criterion, device)\n",
    "        test_loss, test_acc, test_uar = test(test_loader, model,\n",
    "                                                criterion, device)\n",
    "\n",
    "        if verbose:\n",
    "            print('train_emotion_loss: {0:.5f}'.format(train_loss['emotion_loss']),\n",
    "                  'train_emotion_acc: {0:.3f}'.format(train_acc['emotion_acc']),\n",
    "                  'train_confound_loss: {0:.5f}'.format(train_loss['confound_loss']),\n",
    "                  'train_confound_acc: {0:.3f}'.format(train_acc['confound_acc']),\n",
    "                  'test_emotion_loss: {0:.5f}'.format(test_loss['emotion_loss']),\n",
    "                  'test_emotion_acc: {0:.3f}'.format(test_acc['emotion_acc']),\n",
    "                  'test_confound_loss: {0:.5f}'.format(test_loss['confound_loss']),\n",
    "                  'test_confound_acc: {0:.3f}'.format(test_acc['confound_acc']),\n",
    "                  'test_emotion_uar: {0:.3f}'.format(test_uar['emotion_uar']),\n",
    "                  'test_confound_uar: {0:.3f}'.format(test_uar['confound_uar']))\n",
    "\n",
    "        lr_schedule.step(test_loss['loss'])\n",
    "\n",
    "#         os.makedirs(os.path.join(opt.logger_path, opt.source_domain), exist_ok=True)\n",
    "\n",
    "#         model_file_name = os.path.join(opt.logger_path, opt.source_domain, 'checkpoint.pth.tar')\n",
    "#         state = {'epoch': epoch+1, 'emotion_recognizer': emotion_recognizer.state_dict(), 'opt': opt}\n",
    "#         torch.save(state, model_file_name)\n",
    "\n",
    "        if test_acc['emotion_acc'] > best_acc:\n",
    "#             model_file_name = os.path.join(opt.logger_path, opt.source_domain, 'model.pth.tar')\n",
    "#             torch.save(state, model_file_name)\n",
    "\n",
    "            best_acc = test_acc['emotion_acc']\n",
    "\n",
    "        if test_uar['emotion_uar'] > best_uar:\n",
    "            best_uar = test_uar['emotion_uar']\n",
    "\n",
    "        if es.step(test_loss['emotion_loss']):\n",
    "            break\n",
    "\n",
    "    return best_acc, best_uar"
   ]
  },
  {
   "cell_type": "code",
   "execution_count": 12,
   "id": "ignored-break",
   "metadata": {},
   "outputs": [],
   "source": [
    "def train_baseline(train_loader, model, optimizer, criterion, device, verbose = False):\n",
    "    model.train()\n",
    "\n",
    "    running_loss = 0.\n",
    "    running_acc = 0.\n",
    "\n",
    "    groundtruth = []\n",
    "    prediction = []\n",
    "\n",
    "    for i, train_data in enumerate(train_loader):\n",
    "        visual_features, _, acoustic_features, _, lexical_features, _, _, a_labels, _, _ = train_data # UPDATE\n",
    "\n",
    "        visual_features = visual_features.to(device)\n",
    "        acoustic_features = acoustic_features.to(device)\n",
    "        lexical_features = lexical_features.to(device)\n",
    "\n",
    "        labels = a_labels.to(device)\n",
    "\n",
    "        optimizer.zero_grad()\n",
    "        \n",
    "        emotion_output, stress_output = model(visual_features, acoustic_features, lexical_features)\n",
    "\n",
    "        emotion_loss = criterion(emotion_output, labels)\n",
    "#         stress_loss = criterion(stress_output, stress_labels)\n",
    "\n",
    "        emotion_loss.backward()\n",
    "#         stress_loss.backward()\n",
    "        \n",
    "        optimizer.step() # do we need two optimizers?\n",
    "        \n",
    "        running_loss += emotion_loss.item()\n",
    "\n",
    "        groundtruth.append(labels.tolist())\n",
    "        predictions = emotion_output.argmax(dim=1, keepdim=True)\n",
    "        prediction.append(predictions.view_as(labels).tolist())\n",
    "\n",
    "        if verbose and i > 0 and int(len(train_loader) / 10) > 0 and i % (int(len(train_loader) / 10)) == 0:\n",
    "            print('.', flush=True, end='')\n",
    "            \n",
    "    train_loss = running_loss / len(train_loader)\n",
    "\n",
    "    groundtruth = list(itertools.chain.from_iterable(groundtruth))\n",
    "    prediction = list(itertools.chain.from_iterable(prediction))\n",
    "\n",
    "    train_acc = accuracy_score(prediction, groundtruth)\n",
    "\n",
    "    return train_loss, train_acc"
   ]
  },
  {
   "cell_type": "markdown",
   "id": "federal-officer",
   "metadata": {},
   "source": [
    "When we train baseline, the loss from the confound is NOT included in backpropagation, only the loss from the emotion task. "
   ]
  },
  {
   "cell_type": "code",
   "execution_count": 13,
   "id": "split-forty",
   "metadata": {},
   "outputs": [],
   "source": [
    "def train(train_loader, model, optimizer, criterion, device, verbose = False, emotion_dimension = 'arousal', baseline = False):\n",
    "    model.train()\n",
    "\n",
    "    running_loss = 0.\n",
    "    emotion_running_loss = 0.\n",
    "    confound_running_loss = 0.\n",
    "    running_acc = 0.\n",
    "\n",
    "    emotion_groundtruth = []\n",
    "    emotion_prediction = []\n",
    "    \n",
    "    confound_groundtruth = []\n",
    "    confound_prediction = []\n",
    "\n",
    "    for i, train_data in enumerate(train_loader):\n",
    "        visual_features, _, acoustic_features, _, lexical_features, _, v_labels, a_labels, d_labels, s_labels, _ = train_data # UPDATE\n",
    "\n",
    "        visual_features = visual_features.to(device)\n",
    "        acoustic_features = acoustic_features.to(device)\n",
    "        lexical_features = lexical_features.to(device)\n",
    "\n",
    "        if emotion_dimension == 'arousal':\n",
    "            emotion_labels = a_labels.to(device)\n",
    "        elif emotion_dimension == 'valence':\n",
    "            emotion_labels = v_labels.to(device)\n",
    "        else:\n",
    "            print(\"Invalid emotion dimension\")\n",
    "            return\n",
    "        confound_labels = s_labels.to(device)\n",
    "\n",
    "        optimizer.zero_grad()\n",
    "        \n",
    "        emotion_predictions, confound_predictions = model(visual_features, acoustic_features, lexical_features)\n",
    "        \n",
    "        emotion_loss = criterion(emotion_predictions, emotion_labels)\n",
    "        confound_loss = criterion(confound_predictions, confound_labels)\n",
    "        if baseline == True:\n",
    "            loss = emotion_loss\n",
    "        else:\n",
    "            loss = emotion_loss + confound_loss\n",
    "        \n",
    "        loss.backward()\n",
    "\n",
    "        optimizer.step() # do we need two optimizers?\n",
    "        \n",
    "        emotion_running_loss += emotion_loss.item()\n",
    "        confound_running_loss += confound_loss.item()\n",
    "        running_loss += emotion_running_loss + confound_running_loss\n",
    "\n",
    "        emotion_groundtruth.append(emotion_labels.tolist())\n",
    "        emotion_predictions = emotion_predictions.argmax(dim=1, keepdim=True)\n",
    "        emotion_prediction.append(emotion_predictions.view_as(emotion_labels).tolist())\n",
    "        \n",
    "        confound_groundtruth.append(confound_labels.tolist())\n",
    "        confound_predictions = confound_predictions.argmax(dim=1, keepdim=True)\n",
    "        confound_prediction.append(confound_predictions.view_as(confound_labels).tolist())\n",
    "\n",
    "        if verbose and i > 0 and int(len(train_loader) / 10) > 0 and i % (int(len(train_loader) / 10)) == 0:\n",
    "            print('.', flush=True, end='')\n",
    "        \n",
    "    emotion_loss = emotion_running_loss / len(train_loader)\n",
    "    confound_loss = confound_running_loss / len(train_loader)\n",
    "    loss = running_loss / len(train_loader)\n",
    "    train_loss = {'emotion_loss': emotion_loss,\n",
    "                  'confound_loss': confound_loss,\n",
    "                  'loss': loss\n",
    "                 }\n",
    "\n",
    "    emotion_groundtruth = list(itertools.chain.from_iterable(emotion_groundtruth))\n",
    "    emotion_prediction = list(itertools.chain.from_iterable(emotion_prediction))\n",
    "    \n",
    "    confound_groundtruth = list(itertools.chain.from_iterable(confound_groundtruth))\n",
    "    confound_prediction = list(itertools.chain.from_iterable(confound_prediction))\n",
    "\n",
    "    emotion_acc = accuracy_score(emotion_prediction, emotion_groundtruth)\n",
    "    confound_acc = accuracy_score(confound_prediction, confound_groundtruth)\n",
    "    avg_acc = (emotion_acc + confound_acc) / 2\n",
    "    \n",
    "    train_acc = {'emotion_acc': emotion_acc,\n",
    "                  'confound_acc': confound_acc\n",
    "                }\n",
    "\n",
    "    return train_loss, train_acc"
   ]
  },
  {
   "cell_type": "code",
   "execution_count": 14,
   "id": "worldwide-member",
   "metadata": {},
   "outputs": [],
   "source": [
    "def test_baseline(test_loader, model, criterion, device):\n",
    "    model.eval()\n",
    "\n",
    "    running_loss = 0.\n",
    "    running_acc = 0.\n",
    "\n",
    "    with torch.no_grad():\n",
    "        groundtruth = []\n",
    "        prediction = []\n",
    "\n",
    "        for i, test_data in enumerate(test_loader):\n",
    "            visual_features, _, acoustic_features, _, lexical_features, _, v_labels, a_labels, d_labels, _ = test_data # UPDATE\n",
    "\n",
    "            visual_features = visual_features.to(device)\n",
    "            acoustic_features = acoustic_features.to(device)\n",
    "            lexical_features = lexical_features.to(device)\n",
    "\n",
    "            labels = a_labels.to(device)\n",
    "\n",
    "            emotion_predictions, confound_predictions = model(visual_features, acoustic_features, lexical_features)\n",
    "            loss = criterion(emotion_predictions, labels)\n",
    "\n",
    "            running_loss += loss.item()\n",
    "\n",
    "            groundtruth.append(labels.tolist())\n",
    "            emotion_predictions = emotion_predictions.argmax(dim=1, keepdim=True)\n",
    "            prediction.append(emotion_predictions.view_as(labels).tolist())\n",
    "\n",
    "        test_loss = running_loss / len(test_loader)\n",
    "\n",
    "        groundtruth = list(itertools.chain.from_iterable(groundtruth))\n",
    "        prediction = list(itertools.chain.from_iterable(prediction))\n",
    "\n",
    "        test_acc = accuracy_score(prediction, groundtruth)\n",
    "        test_uar = recall_score(prediction, groundtruth, average='macro')\n",
    "\n",
    "        return test_loss, test_acc, test_uar"
   ]
  },
  {
   "cell_type": "code",
   "execution_count": 15,
   "id": "described-hayes",
   "metadata": {},
   "outputs": [],
   "source": [
    "def test(test_loader, model, criterion, device, emotion_dimension = 'arousal'):\n",
    "    model.eval()\n",
    "\n",
    "    running_loss = 0.\n",
    "    emotion_running_loss = 0.\n",
    "    confound_running_loss = 0.\n",
    "    running_acc = 0.\n",
    "\n",
    "    with torch.no_grad():\n",
    "        emotion_groundtruth = []\n",
    "        emotion_prediction = []\n",
    "\n",
    "        confound_groundtruth = []\n",
    "        confound_prediction = []\n",
    "\n",
    "        for i, test_data in enumerate(test_loader):\n",
    "            visual_features, _, acoustic_features, _, lexical_features, _, v_labels, a_labels, d_labels, s_labels, _ = test_data # UPDATE\n",
    "\n",
    "            visual_features = visual_features.to(device)\n",
    "            acoustic_features = acoustic_features.to(device)\n",
    "            lexical_features = lexical_features.to(device)\n",
    "            \n",
    "            if emotion_dimension == 'arousal':\n",
    "                emotion_labels = a_labels.to(device)\n",
    "            elif emotion_dimension == 'valence':\n",
    "                emotion_labels = v_labels.to(device)\n",
    "            else:\n",
    "                print(\"Invalid emotion dimension\")\n",
    "                return\n",
    "            confound_labels = s_labels.to(device)\n",
    "\n",
    "            emotion_predictions, confound_predictions = model(visual_features, acoustic_features, lexical_features)\n",
    "            \n",
    "            emotion_loss = criterion(emotion_predictions, emotion_labels)\n",
    "            confound_loss = criterion(confound_predictions, confound_labels)\n",
    "            loss = emotion_loss + confound_loss\n",
    "\n",
    "            emotion_running_loss += emotion_loss.item()\n",
    "            confound_running_loss += confound_loss.item()\n",
    "            running_loss += emotion_running_loss + confound_running_loss\n",
    "\n",
    "            emotion_groundtruth.append(emotion_labels.tolist())\n",
    "            emotion_predictions = emotion_predictions.argmax(dim=1, keepdim=True)\n",
    "            emotion_prediction.append(emotion_predictions.view_as(emotion_labels).tolist())\n",
    "\n",
    "            confound_groundtruth.append(confound_labels.tolist())\n",
    "            confound_predictions = confound_predictions.argmax(dim=1, keepdim=True)\n",
    "            confound_prediction.append(confound_predictions.view_as(confound_labels).tolist())\n",
    "\n",
    "        emotion_loss = emotion_running_loss / len(train_loader)\n",
    "        confound_loss = confound_running_loss / len(train_loader)\n",
    "        loss = running_loss / len(train_loader)\n",
    "        test_loss = {'emotion_loss': emotion_loss,\n",
    "                     'confound_loss': confound_loss,\n",
    "                     'loss': loss\n",
    "                    }\n",
    "\n",
    "        emotion_groundtruth = list(itertools.chain.from_iterable(emotion_groundtruth))\n",
    "        emotion_prediction = list(itertools.chain.from_iterable(emotion_prediction))\n",
    "\n",
    "        confound_groundtruth = list(itertools.chain.from_iterable(confound_groundtruth))\n",
    "        confound_prediction = list(itertools.chain.from_iterable(confound_prediction))\n",
    "\n",
    "        emotion_acc = accuracy_score(emotion_prediction, emotion_groundtruth)\n",
    "        confound_acc = accuracy_score(confound_prediction, confound_groundtruth)\n",
    "        avg_acc = (emotion_acc + confound_acc) / 2\n",
    "        test_acc = {'emotion_acc': emotion_acc,\n",
    "                    'confound_acc': confound_acc\n",
    "                   }\n",
    "        \n",
    "        emotion_uar = recall_score(emotion_prediction, emotion_groundtruth, average='macro')\n",
    "        confound_uar = recall_score(confound_prediction, confound_groundtruth, average='macro')\n",
    "\n",
    "        test_uar = {'emotion_uar': emotion_uar,\n",
    "                    'confound_uar': confound_uar\n",
    "                   }\n",
    "\n",
    "        return test_loss, test_acc, test_uar"
   ]
  },
  {
   "cell_type": "code",
   "execution_count": 16,
   "id": "certain-madrid",
   "metadata": {},
   "outputs": [],
   "source": [
    "def init_weights(m):\n",
    "    if type(m) == nn.Linear or type(m) == nn.Conv2d:\n",
    "        torch.nn.init.xavier_uniform_(m.weight)\n",
    "        if m.bias is not None:\n",
    "            m.bias.data.fill_(0.01)"
   ]
  },
  {
   "cell_type": "markdown",
   "id": "vocal-locking",
   "metadata": {},
   "source": [
    "## Train + Test for Valence and Arousal with adversarial learning"
   ]
  },
  {
   "cell_type": "markdown",
   "id": "affected-filter",
   "metadata": {},
   "source": [
    "### Audio and Lexical w/ Adversarial for Valence"
   ]
  },
  {
   "cell_type": "code",
   "execution_count": 17,
   "id": "balanced-correspondence",
   "metadata": {
    "tags": []
   },
   "outputs": [
    {
     "name": "stdout",
     "output_type": "stream",
     "text": [
      "Epoch 1/15\n",
      "Train loss: {'emotion_loss': 1.0388155585944885, 'confound_loss': 0.7170775284563057, 'loss': 909.4616950634968}\n",
      "Train acc: {'emotion_acc': 0.5328467153284672, 'confound_acc': 0.49914841849148417}\n",
      "Epoch 2/15\n",
      "Train loss: {'emotion_loss': 0.9830030271863195, 'confound_loss': 0.694845474763603, 'loss': 869.566779237487}\n",
      "Train acc: {'emotion_acc': 0.5524330900243309, 'confound_acc': 0.5208029197080292}\n",
      "Epoch 3/15\n",
      "Train loss: {'emotion_loss': 0.9401120974280027, 'confound_loss': 0.6786682327433783, 'loss': 835.9506307068618}\n",
      "Train acc: {'emotion_acc': 0.6098540145985402, 'confound_acc': 0.5875912408759124}\n",
      "Epoch 4/15\n",
      "Train loss: {'emotion_loss': 0.8916363859918794, 'confound_loss': 0.6935309836720678, 'loss': 817.5760993589919}\n",
      "Train acc: {'emotion_acc': 0.6551094890510949, 'confound_acc': 0.521654501216545}\n",
      "Epoch 5/15\n",
      "Train loss: {'emotion_loss': 0.8683267759905715, 'confound_loss': 0.6952010280079415, 'loss': 807.9029936671604}\n",
      "Train acc: {'emotion_acc': 0.6817518248175183, 'confound_acc': 0.5237226277372263}\n",
      "Epoch 6/15\n",
      "Train loss: {'emotion_loss': 0.8553109755195997, 'confound_loss': 0.6917805808527461, 'loss': 796.9197988907882}\n",
      "Train acc: {'emotion_acc': 0.69330900243309, 'confound_acc': 0.5451338199513382}\n",
      "Epoch 7/15\n",
      "Train loss: {'emotion_loss': 0.8464720522847157, 'confound_loss': 0.6945471324113557, 'loss': 794.607992930577}\n",
      "Train acc: {'emotion_acc': 0.7, 'confound_acc': 0.5193430656934307}\n",
      "Epoch 8/15\n",
      "Train loss: {'emotion_loss': 0.8416882799177319, 'confound_loss': 0.6949391997625856, 'loss': 791.9492559515317}\n",
      "Train acc: {'emotion_acc': 0.7069343065693431, 'confound_acc': 0.5100973236009733}\n",
      "Epoch 9/15\n",
      "Train loss: {'emotion_loss': 0.8369506173096742, 'confound_loss': 0.6975028006946994, 'loss': 788.2456384744162}\n",
      "Train acc: {'emotion_acc': 0.7115571776155718, 'confound_acc': 0.5003649635036497}\n",
      "Epoch 10/15\n",
      "Train loss: {'emotion_loss': 0.8214370199562511, 'confound_loss': 0.6981408816367272, 'loss': 782.0135175632132}\n",
      "Train acc: {'emotion_acc': 0.7274939172749392, 'confound_acc': 0.48503649635036494}\n",
      "Epoch 11/15\n",
      "Train loss: {'emotion_loss': 0.8222901881436894, 'confound_loss': 0.6907021610305467, 'loss': 779.246007834775}\n",
      "Train acc: {'emotion_acc': 0.7263990267639903, 'confound_acc': 0.5349148418491484}\n",
      "Epoch 12/15\n",
      "Train loss: {'emotion_loss': 0.8193960337671324, 'confound_loss': 0.690008230420402, 'loss': 779.0425076557157}\n",
      "Train acc: {'emotion_acc': 0.7300486618004867, 'confound_acc': 0.554014598540146}\n",
      "Epoch 13/15\n",
      "Train loss: {'emotion_loss': 0.8124285990857892, 'confound_loss': 0.6916818211166775, 'loss': 773.0130291765533}\n",
      "Train acc: {'emotion_acc': 0.7383211678832117, 'confound_acc': 0.5417274939172749}\n",
      "Epoch 14/15\n",
      "Train loss: {'emotion_loss': 0.8073291685214766, 'confound_loss': 0.6931951197900661, 'loss': 774.3932334936082}\n",
      "Train acc: {'emotion_acc': 0.7418491484184915, 'confound_acc': 0.5401459854014599}\n",
      "Epoch 15/15\n",
      "Train loss: {'emotion_loss': 0.810934938055532, 'confound_loss': 0.6925720804396307, 'loss': 776.4990179973006}\n",
      "Train acc: {'emotion_acc': 0.7390510948905109, 'confound_acc': 0.5529197080291971}\n"
     ]
    }
   ],
   "source": [
    "emotion_recognizer = MasterNet(acoustic_modality = True, lexical_modality = True, visual_modality = False, grl_lambda = .8)\n",
    "init_weights(emotion_recognizer)\n",
    "for param in emotion_recognizer.parameters():\n",
    "    param.requires_grad = True\n",
    "emotion_recognizer.to(device)\n",
    "\n",
    "learning_rate = 1e-4\n",
    "optimizer = torch.optim.Adam(emotion_recognizer.parameters(), lr=learning_rate)\n",
    "lr_schedule = torch.optim.lr_scheduler.ReduceLROnPlateau(optimizer, patience=1)\n",
    "criterion = torch.nn.CrossEntropyLoss()\n",
    "\n",
    "train_dataset_file_path = '../dataset/IEMOCAP/0/train.csv'\n",
    "train_loader = datasets.get_dataloader(train_dataset_file_path, 'train')\n",
    "test_dataset_file_path = '../dataset/IEMOCAP/0/test.csv'\n",
    "test_loader = datasets.get_dataloader(test_dataset_file_path, 'test')\n",
    "\n",
    "emotion_loss = []\n",
    "confound_loss = []\n",
    "loss = []\n",
    "epochs = 15\n",
    "for epoch in range(epochs):\n",
    "    print(f'Epoch {epoch+1}/{epochs}')\n",
    "    train_loss, train_acc = train(train_loader, emotion_recognizer, optimizer, criterion, device, emotion_dimension = 'valence')\n",
    "    emotion_loss.append(train_loss['emotion_loss'])\n",
    "    confound_loss.append(train_loss['confound_loss'])\n",
    "    loss.append(train_loss['loss'])\n",
    "    print(f'Train loss: {train_loss}')\n",
    "    print(f'Train acc: {train_acc}')"
   ]
  },
  {
   "cell_type": "code",
   "execution_count": 18,
   "id": "sweet-location",
   "metadata": {},
   "outputs": [
    {
     "name": "stdout",
     "output_type": "stream",
     "text": [
      "Test loss: {'emotion_loss': 0.1973719269848983, 'confound_loss': 0.15259573547756625, 'loss': 40.12333084845821}\n",
      "Test acc: {'emotion_acc': 0.6531061022539857, 'confound_acc': 0.5508521165475536}\n",
      "Test uar: {'emotion_uar': 0.4206770733647824, 'confound_uar': 0.5060753352215053}\n"
     ]
    },
    {
     "name": "stderr",
     "output_type": "stream",
     "text": [
      "/home/brandon/src/stressed_emotion/.venv/lib/python3.8/site-packages/sklearn/metrics/_classification.py:1245: UndefinedMetricWarning: Recall is ill-defined and being set to 0.0 in labels with no true samples. Use `zero_division` parameter to control this behavior.\n",
      "  _warn_prf(average, modifier, msg_start, len(result))\n"
     ]
    }
   ],
   "source": [
    "test_loss, test_acc, test_uar = test(test_loader, emotion_recognizer, criterion, device, emotion_dimension = 'valence')\n",
    "print(f'Test loss: {test_loss}')\n",
    "print(f'Test acc: {test_acc}')\n",
    "print(f'Test uar: {test_uar}')"
   ]
  },
  {
   "cell_type": "code",
   "execution_count": 19,
   "id": "congressional-writer",
   "metadata": {},
   "outputs": [
    {
     "data": {
      "text/plain": [
       "<matplotlib.legend.Legend at 0x7f359c0d8c70>"
      ]
     },
     "execution_count": 19,
     "metadata": {},
     "output_type": "execute_result"
    },
    {
     "data": {
      "image/png": "[encoded data removed]",
      "text/plain": [
       "<Figure size 432x288 with 1 Axes>"
      ]
     },
     "metadata": {
      "needs_background": "light"
     },
     "output_type": "display_data"
    }
   ],
   "source": [
    "plt.title('Loss for Acoustic and Lexical modalities with Adversarial Learning for Valence Task')\n",
    "plt.plot(range(epochs), emotion_loss, label = 'Valence loss')\n",
    "plt.plot(range(epochs), confound_loss, label = 'Confound loss')\n",
    "plt.legend()"
   ]
  },
  {
   "cell_type": "markdown",
   "id": "shaped-arthritis",
   "metadata": {},
   "source": [
    "### Audio and Lexical w/ Adversarial for Arousal"
   ]
  },
  {
   "cell_type": "code",
   "execution_count": 20,
   "id": "infrared-cartoon",
   "metadata": {
    "tags": []
   },
   "outputs": [
    {
     "name": "stdout",
     "output_type": "stream",
     "text": [
      "Epoch 0/15\n",
      "Train loss: {'emotion_loss': 1.09763779088217, 'confound_loss': 0.7038916432903899, 'loss': 925.9783397279825}\n",
      "Train acc: {'emotion_acc': 0.34720194647201946, 'confound_acc': 0.39172749391727496}\n",
      "Epoch 1/15\n",
      "Train loss: {'emotion_loss': 1.0651307747289829, 'confound_loss': 0.6951826721545787, 'loss': 913.2090410475369}\n",
      "Train acc: {'emotion_acc': 0.4615571776155718, 'confound_acc': 0.46763990267639904}\n",
      "Epoch 2/15\n",
      "Train loss: {'emotion_loss': 1.0125653195821822, 'confound_loss': 0.6923885769301351, 'loss': 879.0032796905547}\n",
      "Train acc: {'emotion_acc': 0.5109489051094891, 'confound_acc': 0.5110705596107056}\n",
      "Epoch 3/15\n",
      "Train loss: {'emotion_loss': 0.9894456812379889, 'confound_loss': 0.690425122120501, 'loss': 866.6056937430387}\n",
      "Train acc: {'emotion_acc': 0.5373479318734793, 'confound_acc': 0.540632603406326}\n",
      "Epoch 4/15\n",
      "Train loss: {'emotion_loss': 0.9732602490293376, 'confound_loss': 0.6910390025330888, 'loss': 856.7234818737098}\n",
      "Train acc: {'emotion_acc': 0.5536496350364963, 'confound_acc': 0.5312652068126521}\n",
      "Epoch 5/15\n",
      "Train loss: {'emotion_loss': 0.9646500135674086, 'confound_loss': 0.6918298032149267, 'loss': 853.5153575221273}\n",
      "Train acc: {'emotion_acc': 0.5626520681265207, 'confound_acc': 0.525912408759124}\n",
      "Epoch 6/15\n",
      "Train loss: {'emotion_loss': 0.9585766680393701, 'confound_loss': 0.6919470781366185, 'loss': 850.17295346986}\n",
      "Train acc: {'emotion_acc': 0.5733576642335766, 'confound_acc': 0.5287104622871046}\n",
      "Epoch 7/15\n",
      "Train loss: {'emotion_loss': 0.9497825065011645, 'confound_loss': 0.6889859895993763, 'loss': 846.2761762969573}\n",
      "Train acc: {'emotion_acc': 0.587712895377129, 'confound_acc': 0.5397810218978102}\n",
      "Epoch 8/15\n",
      "Train loss: {'emotion_loss': 0.9306970005601297, 'confound_loss': 0.6908677115978434, 'loss': 834.3039034824775}\n",
      "Train acc: {'emotion_acc': 0.6110705596107056, 'confound_acc': 0.5195863746958638}\n",
      "Epoch 9/15\n",
      "Train loss: {'emotion_loss': 0.9248244631383206, 'confound_loss': 0.6937815066905337, 'loss': 833.5683513086013}\n",
      "Train acc: {'emotion_acc': 0.6158150851581509, 'confound_acc': 0.5130170316301703}\n",
      "Epoch 10/15\n",
      "Train loss: {'emotion_loss': 0.9170554974315696, 'confound_loss': 0.6922630371402674, 'loss': 829.2956496247522}\n",
      "Train acc: {'emotion_acc': 0.6273722627737226, 'confound_acc': 0.5197080291970803}\n",
      "Epoch 11/15\n",
      "Train loss: {'emotion_loss': 0.9155485635253706, 'confound_loss': 0.689919351835659, 'loss': 827.2484534211196}\n",
      "Train acc: {'emotion_acc': 0.6322384428223844, 'confound_acc': 0.5424574209245742}\n",
      "Epoch 12/15\n",
      "Train loss: {'emotion_loss': 0.9018385429442625, 'confound_loss': 0.6901775596786566, 'loss': 821.0974355613096}\n",
      "Train acc: {'emotion_acc': 0.6451338199513382, 'confound_acc': 0.5357664233576642}\n",
      "Epoch 13/15\n",
      "Train loss: {'emotion_loss': 0.8896997851620388, 'confound_loss': 0.6909837756987212, 'loss': 814.9374549735033}\n",
      "Train acc: {'emotion_acc': 0.6594890510948905, 'confound_acc': 0.5321167883211679}\n",
      "Epoch 14/15\n",
      "Train loss: {'emotion_loss': 0.8801403724613821, 'confound_loss': 0.6920429470474154, 'loss': 810.4419130105452}\n",
      "Train acc: {'emotion_acc': 0.67007299270073, 'confound_acc': 0.5271289537712895}\n"
     ]
    }
   ],
   "source": [
    "emotion_recognizer = MasterNet(acoustic_modality = True, lexical_modality = True, visual_modality = False, grl_lambda = .8)\n",
    "init_weights(emotion_recognizer)\n",
    "for param in emotion_recognizer.parameters():\n",
    "    param.requires_grad = True\n",
    "emotion_recognizer.to(device)\n",
    "\n",
    "learning_rate = 1e-4\n",
    "optimizer = torch.optim.Adam(emotion_recognizer.parameters(), lr=learning_rate)\n",
    "lr_schedule = torch.optim.lr_scheduler.ReduceLROnPlateau(optimizer, patience=1)\n",
    "criterion = torch.nn.CrossEntropyLoss()\n",
    "\n",
    "train_dataset_file_path = '../dataset/IEMOCAP/0/train.csv'\n",
    "train_loader = datasets.get_dataloader(train_dataset_file_path, 'train')\n",
    "test_dataset_file_path = '../dataset/IEMOCAP/0/test.csv'\n",
    "test_loader = datasets.get_dataloader(test_dataset_file_path, 'test')\n",
    "\n",
    "emotion_loss = []\n",
    "confound_loss = []\n",
    "loss = []\n",
    "epochs = 15\n",
    "for epoch in range(epochs):\n",
    "    print(f'Epoch {epoch}/{epochs}')\n",
    "    train_loss, train_acc = train(train_loader, emotion_recognizer, optimizer, criterion, device, emotion_dimension = 'arousal')\n",
    "    emotion_loss.append(train_loss['emotion_loss'])\n",
    "    confound_loss.append(train_loss['confound_loss'])\n",
    "    loss.append(train_loss['loss'])\n",
    "    print(f'Train loss: {train_loss}')\n",
    "    print(f'Train acc: {train_acc}')"
   ]
  },
  {
   "cell_type": "code",
   "execution_count": 21,
   "id": "acute-toddler",
   "metadata": {},
   "outputs": [
    {
     "name": "stdout",
     "output_type": "stream",
     "text": [
      "Test loss: {'emotion_loss': 0.2185071470208669, 'confound_loss': 0.15249775651595937, 'loss': 42.631907030418226}\n",
      "Test acc: {'emotion_acc': 0.525563496426608, 'confound_acc': 0.5744914788345244}\n",
      "Test uar: {'emotion_uar': 0.5529907060801611, 'confound_uar': 0.5365884008894147}\n"
     ]
    }
   ],
   "source": [
    "test_loss, test_acc, test_uar = test(test_loader, emotion_recognizer, criterion, device, emotion_dimension = 'arousal')\n",
    "print(f'Test loss: {test_loss}')\n",
    "print(f'Test acc: {test_acc}')\n",
    "print(f'Test uar: {test_uar}')"
   ]
  },
  {
   "cell_type": "code",
   "execution_count": 22,
   "id": "severe-applicant",
   "metadata": {},
   "outputs": [
    {
     "data": {
      "text/plain": [
       "<matplotlib.legend.Legend at 0x7f359c06ca90>"
      ]
     },
     "execution_count": 22,
     "metadata": {},
     "output_type": "execute_result"
    },
    {
     "data": {
      "image/png": "[encoded data removed]",
      "text/plain": [
       "<Figure size 432x288 with 1 Axes>"
      ]
     },
     "metadata": {
      "needs_background": "light"
     },
     "output_type": "display_data"
    }
   ],
   "source": [
    "plt.title('Loss for Acoustic and Lexical modalities with Adversarial Learning for Arousal Task')\n",
    "plt.plot(range(epochs), emotion_loss, label = 'Arousal loss')\n",
    "plt.plot(range(epochs), confound_loss, label = 'Confound loss')\n",
    "plt.legend()"
   ]
  },
  {
   "cell_type": "markdown",
   "id": "alike-inclusion",
   "metadata": {},
   "source": [
    "### Acoustic w/ Adversarial for Valence"
   ]
  },
  {
   "cell_type": "code",
   "execution_count": 23,
   "id": "assigned-eleven",
   "metadata": {
    "tags": []
   },
   "outputs": [
    {
     "name": "stdout",
     "output_type": "stream",
     "text": [
      "Epoch 0/15\n",
      "Train loss: {'emotion_loss': 1.021927769835821, 'confound_loss': 0.7195959070023396, 'loss': 900.8392060332667}\n",
      "Train acc: {'emotion_acc': 0.5434306569343066, 'confound_acc': 0.5054744525547445}\n",
      "Epoch 1/15\n",
      "Train loss: {'emotion_loss': 1.0022863044117212, 'confound_loss': 0.6950887364520173, 'loss': 875.8965170523188}\n",
      "Train acc: {'emotion_acc': 0.5403892944038929, 'confound_acc': 0.5115571776155717}\n",
      "Epoch 2/15\n",
      "Train loss: {'emotion_loss': 0.9918455353970658, 'confound_loss': 0.6931339079651851, 'loss': 866.4534006793095}\n",
      "Train acc: {'emotion_acc': 0.5536496350364963, 'confound_acc': 0.5105839416058394}\n",
      "Epoch 3/15\n",
      "Train loss: {'emotion_loss': 0.9932070076465607, 'confound_loss': 0.6948856125197985, 'loss': 870.8746410513783}\n",
      "Train acc: {'emotion_acc': 0.5506082725060827, 'confound_acc': 0.48722627737226276}\n",
      "Epoch 4/15\n",
      "Train loss: {'emotion_loss': 0.9878410393161996, 'confound_loss': 0.6941804812807981, 'loss': 866.4007008573773}\n",
      "Train acc: {'emotion_acc': 0.5583941605839416, 'confound_acc': 0.5012165450121655}\n",
      "Epoch 5/15\n",
      "Train loss: {'emotion_loss': 0.9916233771737911, 'confound_loss': 0.6943774593247514, 'loss': 867.3730483304433}\n",
      "Train acc: {'emotion_acc': 0.5531630170316302, 'confound_acc': 0.5025547445255475}\n",
      "Epoch 6/15\n",
      "Train loss: {'emotion_loss': 0.9971505175072859, 'confound_loss': 0.6941650324874351, 'loss': 868.9934193893165}\n",
      "Train acc: {'emotion_acc': 0.5445255474452555, 'confound_acc': 0.5068126520681265}\n",
      "Epoch 7/15\n",
      "Train loss: {'emotion_loss': 0.9889129604926833, 'confound_loss': 0.6948174696836026, 'loss': 866.9459080924552}\n",
      "Train acc: {'emotion_acc': 0.5524330900243309, 'confound_acc': 0.5031630170316301}\n",
      "Epoch 8/15\n",
      "Train loss: {'emotion_loss': 0.9920253110071101, 'confound_loss': 0.6948350450524097, 'loss': 864.6749353796127}\n",
      "Train acc: {'emotion_acc': 0.5487834549878345, 'confound_acc': 0.4996350364963504}\n",
      "Epoch 9/15\n",
      "Train loss: {'emotion_loss': 0.9970371125389166, 'confound_loss': 0.6950741271100619, 'loss': 868.5207781976646}\n",
      "Train acc: {'emotion_acc': 0.5412408759124088, 'confound_acc': 0.49598540145985404}\n",
      "Epoch 10/15\n",
      "Train loss: {'emotion_loss': 0.9923504592727594, 'confound_loss': 0.6938215520827223, 'loss': 867.4096874085034}\n",
      "Train acc: {'emotion_acc': 0.5448905109489051, 'confound_acc': 0.5057177615571776}\n",
      "Epoch 11/15\n",
      "Train loss: {'emotion_loss': 0.9851739349764145, 'confound_loss': 0.6934885602980736, 'loss': 863.3040726788429}\n",
      "Train acc: {'emotion_acc': 0.5530413625304136, 'confound_acc': 0.5017031630170317}\n",
      "Epoch 12/15\n",
      "Train loss: {'emotion_loss': 0.9870321550605826, 'confound_loss': 0.6924396226262304, 'loss': 862.3256804907137}\n",
      "Train acc: {'emotion_acc': 0.5484184914841849, 'confound_acc': 0.5097323600973236}\n",
      "Epoch 13/15\n",
      "Train loss: {'emotion_loss': 0.9920715236826165, 'confound_loss': 0.6918560416665986, 'loss': 868.8395977907956}\n",
      "Train acc: {'emotion_acc': 0.5434306569343066, 'confound_acc': 0.517639902676399}\n",
      "Epoch 14/15\n",
      "Train loss: {'emotion_loss': 0.9873352916440148, 'confound_loss': 0.6917904228667805, 'loss': 862.431125490582}\n",
      "Train acc: {'emotion_acc': 0.5487834549878345, 'confound_acc': 0.5311435523114355}\n"
     ]
    }
   ],
   "source": [
    "emotion_recognizer = MasterNet(acoustic_modality = True, lexical_modality = False, visual_modality = False, grl_lambda = .8)\n",
    "init_weights(emotion_recognizer)\n",
    "for param in emotion_recognizer.parameters():\n",
    "    param.requires_grad = True\n",
    "emotion_recognizer.to(device)\n",
    "\n",
    "learning_rate = 1e-4\n",
    "optimizer = torch.optim.Adam(emotion_recognizer.parameters(), lr=learning_rate)\n",
    "lr_schedule = torch.optim.lr_scheduler.ReduceLROnPlateau(optimizer, patience=1)\n",
    "criterion = torch.nn.CrossEntropyLoss()\n",
    "\n",
    "train_dataset_file_path = '../dataset/IEMOCAP/0/train.csv'\n",
    "train_loader = datasets.get_dataloader(train_dataset_file_path, 'train')\n",
    "test_dataset_file_path = '../dataset/IEMOCAP/0/test.csv'\n",
    "test_loader = datasets.get_dataloader(test_dataset_file_path, 'test')\n",
    "\n",
    "emotion_loss = []\n",
    "confound_loss = []\n",
    "loss = []\n",
    "epochs = 15\n",
    "for epoch in range(epochs):\n",
    "    print(f'Epoch {epoch}/{epochs}')\n",
    "    train_loss, train_acc = train(train_loader, emotion_recognizer, optimizer, criterion, device, emotion_dimension = 'valence')\n",
    "    emotion_loss.append(train_loss['emotion_loss'])\n",
    "    confound_loss.append(train_loss['confound_loss'])\n",
    "    loss.append(train_loss['loss'])\n",
    "    print(f'Train loss: {train_loss}')\n",
    "    print(f'Train acc: {train_acc}')"
   ]
  },
  {
   "cell_type": "code",
   "execution_count": 24,
   "id": "protected-gilbert",
   "metadata": {},
   "outputs": [
    {
     "name": "stdout",
     "output_type": "stream",
     "text": [
      "Test loss: {'emotion_loss': 0.22047069918088877, 'confound_loss': 0.15304620430627222, 'loss': 42.93141762332462}\n",
      "Test acc: {'emotion_acc': 0.5459043430456295, 'confound_acc': 0.5552501374381529}\n",
      "Test uar: {'emotion_uar': 0.34865162355531093, 'confound_uar': 0.5003007208615599}\n"
     ]
    },
    {
     "name": "stderr",
     "output_type": "stream",
     "text": [
      "/home/brandon/src/stressed_emotion/.venv/lib/python3.8/site-packages/sklearn/metrics/_classification.py:1245: UndefinedMetricWarning: Recall is ill-defined and being set to 0.0 in labels with no true samples. Use `zero_division` parameter to control this behavior.\n",
      "  _warn_prf(average, modifier, msg_start, len(result))\n"
     ]
    }
   ],
   "source": [
    "test_loss, test_acc, test_uar = test(test_loader, emotion_recognizer, criterion, device, emotion_dimension = 'valence')\n",
    "print(f'Test loss: {test_loss}')\n",
    "print(f'Test acc: {test_acc}')\n",
    "print(f'Test uar: {test_uar}')"
   ]
  },
  {
   "cell_type": "code",
   "execution_count": 25,
   "id": "centered-helping",
   "metadata": {},
   "outputs": [
    {
     "data": {
      "text/plain": [
       "<matplotlib.legend.Legend at 0x7f35942d0820>"
      ]
     },
     "execution_count": 25,
     "metadata": {},
     "output_type": "execute_result"
    },
    {
     "data": {
      "image/png": "[encoded data removed]",
      "text/plain": [
       "<Figure size 432x288 with 1 Axes>"
      ]
     },
     "metadata": {
      "needs_background": "light"
     },
     "output_type": "display_data"
    }
   ],
   "source": [
    "plt.title('Loss for Acoustic modalities with Adversarial Learning for Valence Task')\n",
    "plt.plot(range(epochs), emotion_loss, label = 'Valence loss')\n",
    "plt.plot(range(epochs), confound_loss, label = 'Confound loss')\n",
    "plt.legend()"
   ]
  },
  {
   "cell_type": "markdown",
   "id": "julian-institute",
   "metadata": {},
   "source": [
    "### Acoustic w/ Adversarial for Arousal"
   ]
  },
  {
   "cell_type": "code",
   "execution_count": 26,
   "id": "spoken-retailer",
   "metadata": {
    "tags": []
   },
   "outputs": [
    {
     "name": "stdout",
     "output_type": "stream",
     "text": [
      "Epoch 0/15\n",
      "Train loss: {'emotion_loss': 1.0973886700223856, 'confound_loss': 0.6934770215810041, 'loss': 921.9363896332478}\n",
      "Train acc: {'emotion_acc': 0.36289537712895376, 'confound_acc': 0.4996350364963504}\n",
      "Epoch 1/15\n",
      "Train loss: {'emotion_loss': 1.0626161245752401, 'confound_loss': 0.7008078377186556, 'loss': 910.8582380296887}\n",
      "Train acc: {'emotion_acc': 0.4754257907542579, 'confound_acc': 0.4871046228710462}\n",
      "Epoch 2/15\n",
      "Train loss: {'emotion_loss': 1.020111098131781, 'confound_loss': 0.692953005259139, 'loss': 882.7798202922024}\n",
      "Train acc: {'emotion_acc': 0.508272506082725, 'confound_acc': 0.5115571776155717}\n",
      "Epoch 3/15\n",
      "Train loss: {'emotion_loss': 1.0024439355046832, 'confound_loss': 0.6917925666626326, 'loss': 873.8518754846855}\n",
      "Train acc: {'emotion_acc': 0.5155717761557178, 'confound_acc': 0.5271289537712895}\n",
      "Epoch 4/15\n",
      "Train loss: {'emotion_loss': 0.9951837352741553, 'confound_loss': 0.691006411026424, 'loss': 868.1411060448519}\n",
      "Train acc: {'emotion_acc': 0.525669099756691, 'confound_acc': 0.5322384428223844}\n",
      "Epoch 5/15\n",
      "Train loss: {'emotion_loss': 0.986365362190087, 'confound_loss': 0.6910147417612112, 'loss': 864.9062913213259}\n",
      "Train acc: {'emotion_acc': 0.5407542579075426, 'confound_acc': 0.5289537712895377}\n",
      "Epoch 6/15\n",
      "Train loss: {'emotion_loss': 0.9792902508482395, 'confound_loss': 0.6908213910193759, 'loss': 858.8581972530959}\n",
      "Train acc: {'emotion_acc': 0.5431873479318735, 'confound_acc': 0.5309002433090024}\n",
      "Epoch 7/15\n",
      "Train loss: {'emotion_loss': 0.9820427162290083, 'confound_loss': 0.6908416307389968, 'loss': 860.2573386823852}\n",
      "Train acc: {'emotion_acc': 0.5440389294403893, 'confound_acc': 0.5332116788321168}\n",
      "Epoch 8/15\n",
      "Train loss: {'emotion_loss': 0.9774399574860525, 'confound_loss': 0.6904605967409416, 'loss': 855.9254429062632}\n",
      "Train acc: {'emotion_acc': 0.5448905109489051, 'confound_acc': 0.5378345498783454}\n",
      "Epoch 9/15\n",
      "Train loss: {'emotion_loss': 0.9767437454907347, 'confound_loss': 0.6899929284933476, 'loss': 858.6809533262763}\n",
      "Train acc: {'emotion_acc': 0.5517031630170316, 'confound_acc': 0.5328467153284672}\n",
      "Epoch 10/15\n",
      "Train loss: {'emotion_loss': 0.9773558240804227, 'confound_loss': 0.6917447604325959, 'loss': 857.4371415469433}\n",
      "Train acc: {'emotion_acc': 0.5480535279805353, 'confound_acc': 0.5231143552311436}\n",
      "Epoch 11/15\n",
      "Train loss: {'emotion_loss': 0.973975792933067, 'confound_loss': 0.690995942351883, 'loss': 855.5450744126789}\n",
      "Train acc: {'emotion_acc': 0.5518248175182482, 'confound_acc': 0.5329683698296837}\n",
      "Epoch 12/15\n",
      "Train loss: {'emotion_loss': 0.9807358909441803, 'confound_loss': 0.6909810905326665, 'loss': 860.4557886655924}\n",
      "Train acc: {'emotion_acc': 0.5456204379562044, 'confound_acc': 0.5322384428223844}\n",
      "Epoch 13/15\n",
      "Train loss: {'emotion_loss': 0.9706296783940801, 'confound_loss': 0.6899300763811119, 'loss': 854.9647765423422}\n",
      "Train acc: {'emotion_acc': 0.5591240875912409, 'confound_acc': 0.5345498783454988}\n",
      "Epoch 14/15\n",
      "Train loss: {'emotion_loss': 0.9681919424102464, 'confound_loss': 0.6919633037617234, 'loss': 854.4961460936046}\n",
      "Train acc: {'emotion_acc': 0.5581508515815086, 'confound_acc': 0.5312652068126521}\n"
     ]
    }
   ],
   "source": [
    "emotion_recognizer = MasterNet(acoustic_modality = True, lexical_modality = False, visual_modality = False, grl_lambda = .8)\n",
    "init_weights(emotion_recognizer)\n",
    "for param in emotion_recognizer.parameters():\n",
    "    param.requires_grad = True\n",
    "emotion_recognizer.to(device)\n",
    "\n",
    "learning_rate = 1e-4\n",
    "optimizer = torch.optim.Adam(emotion_recognizer.parameters(), lr=learning_rate)\n",
    "lr_schedule = torch.optim.lr_scheduler.ReduceLROnPlateau(optimizer, patience=1)\n",
    "criterion = torch.nn.CrossEntropyLoss()\n",
    "\n",
    "train_dataset_file_path = '../dataset/IEMOCAP/0/train.csv'\n",
    "train_loader = datasets.get_dataloader(train_dataset_file_path, 'train')\n",
    "test_dataset_file_path = '../dataset/IEMOCAP/0/test.csv'\n",
    "test_loader = datasets.get_dataloader(test_dataset_file_path, 'test')\n",
    "\n",
    "emotion_loss = []\n",
    "confound_loss = []\n",
    "loss = []\n",
    "epochs = 15\n",
    "for epoch in range(epochs):\n",
    "    print(f'Epoch {epoch}/{epochs}')\n",
    "    train_loss, train_acc = train(train_loader, emotion_recognizer, optimizer, criterion, device, emotion_dimension = 'arousal')\n",
    "    emotion_loss.append(train_loss['emotion_loss'])\n",
    "    confound_loss.append(train_loss['confound_loss'])\n",
    "    loss.append(train_loss['loss'])\n",
    "    print(f'Train loss: {train_loss}')\n",
    "    print(f'Train acc: {train_acc}')"
   ]
  },
  {
   "cell_type": "code",
   "execution_count": 27,
   "id": "anticipated-sequence",
   "metadata": {},
   "outputs": [
    {
     "name": "stdout",
     "output_type": "stream",
     "text": [
      "Test loss: {'emotion_loss': 0.20840110829832026, 'confound_loss': 0.15264156953601984, 'loss': 41.454395396236315}\n",
      "Test acc: {'emotion_acc': 0.6008796041781198, 'confound_acc': 0.5722924683892249}\n",
      "Test uar: {'emotion_uar': 0.5644593876225025, 'confound_uar': 0.5351960147281785}\n"
     ]
    }
   ],
   "source": [
    "test_loss, test_acc, test_uar = test(test_loader, emotion_recognizer, criterion, device, emotion_dimension = 'arousal')\n",
    "print(f'Test loss: {test_loss}')\n",
    "print(f'Test acc: {test_acc}')\n",
    "print(f'Test uar: {test_uar}')"
   ]
  },
  {
   "cell_type": "code",
   "execution_count": 28,
   "id": "secret-dietary",
   "metadata": {},
   "outputs": [
    {
     "data": {
      "text/plain": [
       "<matplotlib.legend.Legend at 0x7f36294579a0>"
      ]
     },
     "execution_count": 28,
     "metadata": {},
     "output_type": "execute_result"
    },
    {
     "data": {
      "image/png": "[encoded data removed]",
      "text/plain": [
       "<Figure size 432x288 with 1 Axes>"
      ]
     },
     "metadata": {
      "needs_background": "light"
     },
     "output_type": "display_data"
    }
   ],
   "source": [
    "plt.title('Loss for Acoustic modality with Adversarial Learning for Arousal Task')\n",
    "plt.plot(range(epochs), emotion_loss, label = 'Arousal loss')\n",
    "plt.plot(range(epochs), confound_loss, label = 'Confound loss')\n",
    "plt.legend()"
   ]
  },
  {
   "cell_type": "markdown",
   "id": "floral-investment",
   "metadata": {},
   "source": [
    "### Lexical w/ Adversarial for Valence"
   ]
  },
  {
   "cell_type": "code",
   "execution_count": 29,
   "id": "rural-partner",
   "metadata": {
    "tags": []
   },
   "outputs": [
    {
     "name": "stdout",
     "output_type": "stream",
     "text": [
      "Epoch 0/15\n",
      "Train loss: {'emotion_loss': 1.067201223006972, 'confound_loss': 0.7255747584401402, 'loss': 928.261353363091}\n",
      "Train acc: {'emotion_acc': 0.4475669099756691, 'confound_acc': 0.4192214111922141}\n",
      "Epoch 1/15\n",
      "Train loss: {'emotion_loss': 0.9933368473781222, 'confound_loss': 0.7199653189353906, 'loss': 887.7912425096745}\n",
      "Train acc: {'emotion_acc': 0.5452554744525547, 'confound_acc': 0.3914841849148418}\n",
      "Epoch 2/15\n",
      "Train loss: {'emotion_loss': 0.9624571854154423, 'confound_loss': 0.6794419848153563, 'loss': 849.3511198607748}\n",
      "Train acc: {'emotion_acc': 0.5722627737226277, 'confound_acc': 0.5564476885644769}\n",
      "Epoch 3/15\n",
      "Train loss: {'emotion_loss': 0.9318861770026878, 'confound_loss': 0.6793886700840776, 'loss': 831.8237170587486}\n",
      "Train acc: {'emotion_acc': 0.6208029197080291, 'confound_acc': 0.5712895377128954}\n",
      "Epoch 4/15\n",
      "Train loss: {'emotion_loss': 0.898347572825762, 'confound_loss': 0.682027375767667, 'loss': 812.8191029701948}\n",
      "Train acc: {'emotion_acc': 0.6504866180048662, 'confound_acc': 0.5776155717761557}\n",
      "Epoch 5/15\n",
      "Train loss: {'emotion_loss': 0.8769100953168906, 'confound_loss': 0.6897964394046174, 'loss': 806.8067903504182}\n",
      "Train acc: {'emotion_acc': 0.6699513381995134, 'confound_acc': 0.5464720194647202}\n",
      "Epoch 6/15\n",
      "Train loss: {'emotion_loss': 0.8575718645223848, 'confound_loss': 0.6930846892558183, 'loss': 799.576669006728}\n",
      "Train acc: {'emotion_acc': 0.6924574209245742, 'confound_acc': 0.5340632603406326}\n",
      "Epoch 7/15\n",
      "Train loss: {'emotion_loss': 0.8526824063943982, 'confound_loss': 0.692499407360526, 'loss': 794.5713956485927}\n",
      "Train acc: {'emotion_acc': 0.6953771289537712, 'confound_acc': 0.5309002433090024}\n",
      "Epoch 8/15\n",
      "Train loss: {'emotion_loss': 0.8351792269295756, 'confound_loss': 0.6902613100606644, 'loss': 784.945170321933}\n",
      "Train acc: {'emotion_acc': 0.7158150851581508, 'confound_acc': 0.5425790754257908}\n",
      "Epoch 9/15\n",
      "Train loss: {'emotion_loss': 0.8356196491866724, 'confound_loss': 0.6917628570521388, 'loss': 787.0247091518766}\n",
      "Train acc: {'emotion_acc': 0.71338199513382, 'confound_acc': 0.5378345498783454}\n",
      "Epoch 10/15\n",
      "Train loss: {'emotion_loss': 0.8298686136299535, 'confound_loss': 0.6951400100141184, 'loss': 783.8113373034428}\n",
      "Train acc: {'emotion_acc': 0.7194647201946472, 'confound_acc': 0.5193430656934307}\n",
      "Epoch 11/15\n",
      "Train loss: {'emotion_loss': 0.8262809676187047, 'confound_loss': 0.6950473461865451, 'loss': 782.6247819387843}\n",
      "Train acc: {'emotion_acc': 0.722749391727494, 'confound_acc': 0.5253041362530414}\n",
      "Epoch 12/15\n",
      "Train loss: {'emotion_loss': 0.8179627184390094, 'confound_loss': 0.6933241554387348, 'loss': 778.796607316584}\n",
      "Train acc: {'emotion_acc': 0.7306569343065693, 'confound_acc': 0.5378345498783454}\n",
      "Epoch 13/15\n",
      "Train loss: {'emotion_loss': 0.8128241968525987, 'confound_loss': 0.6909895495218061, 'loss': 772.7064170458785}\n",
      "Train acc: {'emotion_acc': 0.7375912408759124, 'confound_acc': 0.5501216545012165}\n",
      "Epoch 14/15\n",
      "Train loss: {'emotion_loss': 0.8080558664951807, 'confound_loss': 0.689297730124878, 'loss': 770.1268511209274}\n",
      "Train acc: {'emotion_acc': 0.7411192214111922, 'confound_acc': 0.5631386861313868}\n"
     ]
    }
   ],
   "source": [
    "emotion_recognizer = MasterNet(acoustic_modality = False, lexical_modality = True, visual_modality = False, grl_lambda = .8)\n",
    "init_weights(emotion_recognizer)\n",
    "for param in emotion_recognizer.parameters():\n",
    "    param.requires_grad = True\n",
    "emotion_recognizer.to(device)\n",
    "\n",
    "learning_rate = 1e-4\n",
    "optimizer = torch.optim.Adam(emotion_recognizer.parameters(), lr=learning_rate)\n",
    "lr_schedule = torch.optim.lr_scheduler.ReduceLROnPlateau(optimizer, patience=1)\n",
    "criterion = torch.nn.CrossEntropyLoss()\n",
    "\n",
    "train_dataset_file_path = '../dataset/IEMOCAP/0/train.csv'\n",
    "train_loader = datasets.get_dataloader(train_dataset_file_path, 'train')\n",
    "test_dataset_file_path = '../dataset/IEMOCAP/0/test.csv'\n",
    "test_loader = datasets.get_dataloader(test_dataset_file_path, 'test')\n",
    "\n",
    "emotion_loss = []\n",
    "confound_loss = []\n",
    "loss = []\n",
    "epochs = 15\n",
    "for epoch in range(epochs):\n",
    "    print(f'Epoch {epoch}/{epochs}')\n",
    "    train_loss, train_acc = train(train_loader, emotion_recognizer, optimizer, criterion, device, emotion_dimension = 'valence')\n",
    "    emotion_loss.append(train_loss['emotion_loss'])\n",
    "    confound_loss.append(train_loss['confound_loss'])\n",
    "    loss.append(train_loss['loss'])\n",
    "    print(f'Train loss: {train_loss}')\n",
    "    print(f'Train acc: {train_acc}')"
   ]
  },
  {
   "cell_type": "code",
   "execution_count": 30,
   "id": "christian-respect",
   "metadata": {},
   "outputs": [
    {
     "name": "stdout",
     "output_type": "stream",
     "text": [
      "Test loss: {'emotion_loss': 0.19448686857863623, 'confound_loss': 0.15165784984015304, 'loss': 39.78856842480745}\n",
      "Test acc: {'emotion_acc': 0.6679494227597581, 'confound_acc': 0.5821880153930731}\n",
      "Test uar: {'emotion_uar': 0.43340515056511064, 'confound_uar': 0.5575751523020074}\n"
     ]
    },
    {
     "name": "stderr",
     "output_type": "stream",
     "text": [
      "/home/brandon/src/stressed_emotion/.venv/lib/python3.8/site-packages/sklearn/metrics/_classification.py:1245: UndefinedMetricWarning: Recall is ill-defined and being set to 0.0 in labels with no true samples. Use `zero_division` parameter to control this behavior.\n",
      "  _warn_prf(average, modifier, msg_start, len(result))\n"
     ]
    }
   ],
   "source": [
    "test_loss, test_acc, test_uar = test(test_loader, emotion_recognizer, criterion, device, emotion_dimension = 'valence')\n",
    "print(f'Test loss: {test_loss}')\n",
    "print(f'Test acc: {test_acc}')\n",
    "print(f'Test uar: {test_uar}')"
   ]
  },
  {
   "cell_type": "code",
   "execution_count": 31,
   "id": "studied-strap",
   "metadata": {},
   "outputs": [
    {
     "data": {
      "text/plain": [
       "<matplotlib.legend.Legend at 0x7f362943c1c0>"
      ]
     },
     "execution_count": 31,
     "metadata": {},
     "output_type": "execute_result"
    },
    {
     "data": {
      "image/png": "[encoded data removed]",
      "text/plain": [
       "<Figure size 432x288 with 1 Axes>"
      ]
     },
     "metadata": {
      "needs_background": "light"
     },
     "output_type": "display_data"
    }
   ],
   "source": [
    "plt.title('Loss for Lexical modality with Adversarial Learning for Valence Task')\n",
    "plt.plot(range(epochs), emotion_loss, label = 'Valence loss')\n",
    "plt.plot(range(epochs), confound_loss, label = 'Confound loss')\n",
    "plt.legend()"
   ]
  },
  {
   "cell_type": "markdown",
   "id": "general-stomach",
   "metadata": {},
   "source": [
    "### Lexical w/ Adversarial for Arousal"
   ]
  },
  {
   "cell_type": "code",
   "execution_count": 32,
   "id": "spanish-grocery",
   "metadata": {
    "tags": []
   },
   "outputs": [
    {
     "name": "stdout",
     "output_type": "stream",
     "text": [
      "Epoch 0/15\n",
      "Train loss: {'emotion_loss': 1.098491571292803, 'confound_loss': 0.7122134344818991, 'loss': 928.0820135557118}\n",
      "Train acc: {'emotion_acc': 0.3344282238442822, 'confound_acc': 0.4099756690997567}\n",
      "Epoch 1/15\n",
      "Train loss: {'emotion_loss': 1.0975025838915011, 'confound_loss': 0.7161401702156327, 'loss': 937.3314694370277}\n",
      "Train acc: {'emotion_acc': 0.34391727493917273, 'confound_acc': 0.3740875912408759}\n",
      "Epoch 2/15\n",
      "Train loss: {'emotion_loss': 1.0956543725752181, 'confound_loss': 0.6811152199131042, 'loss': 915.0691563902778}\n",
      "Train acc: {'emotion_acc': 0.3616788321167883, 'confound_acc': 0.6091240875912409}\n",
      "Epoch 3/15\n",
      "Train loss: {'emotion_loss': 1.0886199480132834, 'confound_loss': 0.6916316690843857, 'loss': 915.4385844735784}\n",
      "Train acc: {'emotion_acc': 0.4059610705596107, 'confound_acc': 0.5250608272506083}\n",
      "Epoch 4/15\n",
      "Train loss: {'emotion_loss': 1.0666905817818548, 'confound_loss': 0.6947805926145747, 'loss': 909.5901096651063}\n",
      "Train acc: {'emotion_acc': 0.44902676399026764, 'confound_acc': 0.49635036496350365}\n",
      "Epoch 5/15\n",
      "Train loss: {'emotion_loss': 1.0398149045061045, 'confound_loss': 0.6926404106129932, 'loss': 893.0434273707496}\n",
      "Train acc: {'emotion_acc': 0.47214111922141117, 'confound_acc': 0.5161800486618005}\n",
      "Epoch 6/15\n",
      "Train loss: {'emotion_loss': 1.0227875915946663, 'confound_loss': 0.6973302432767148, 'loss': 887.2010144871961}\n",
      "Train acc: {'emotion_acc': 0.48722627737226276, 'confound_acc': 0.452676399026764}\n",
      "Epoch 7/15\n",
      "Train loss: {'emotion_loss': 1.0056628334383093, 'confound_loss': 0.6944951021369793, 'loss': 875.506451525055}\n",
      "Train acc: {'emotion_acc': 0.5104622871046228, 'confound_acc': 0.4873479318734793}\n",
      "Epoch 8/15\n",
      "Train loss: {'emotion_loss': 0.9999683759671705, 'confound_loss': 0.6925379401978815, 'loss': 871.698275683455}\n",
      "Train acc: {'emotion_acc': 0.5210462287104622, 'confound_acc': 0.5075425790754258}\n",
      "Epoch 9/15\n",
      "Train loss: {'emotion_loss': 0.9882717185911037, 'confound_loss': 0.6927771794424911, 'loss': 866.2658646237758}\n",
      "Train acc: {'emotion_acc': 0.5394160583941606, 'confound_acc': 0.49805352798053526}\n",
      "Epoch 10/15\n",
      "Train loss: {'emotion_loss': 0.9875815072991969, 'confound_loss': 0.691277624973991, 'loss': 864.3938617835017}\n",
      "Train acc: {'emotion_acc': 0.5368613138686131, 'confound_acc': 0.5210462287104622}\n",
      "Epoch 11/15\n",
      "Train loss: {'emotion_loss': 0.9657584639258886, 'confound_loss': 0.6910515273359499, 'loss': 852.5607985285933}\n",
      "Train acc: {'emotion_acc': 0.5664233576642336, 'confound_acc': 0.525669099756691}\n",
      "Epoch 12/15\n",
      "Train loss: {'emotion_loss': 0.956475750423591, 'confound_loss': 0.693485662399099, 'loss': 849.9857884052315}\n",
      "Train acc: {'emotion_acc': 0.5818734793187348, 'confound_acc': 0.49282238442822385}\n",
      "Epoch 13/15\n",
      "Train loss: {'emotion_loss': 0.9556967587670464, 'confound_loss': 0.6954703883554221, 'loss': 850.011407167937}\n",
      "Train acc: {'emotion_acc': 0.5856447688564477, 'confound_acc': 0.4708029197080292}\n",
      "Epoch 14/15\n",
      "Train loss: {'emotion_loss': 0.9364875681437407, 'confound_loss': 0.694431244341316, 'loss': 839.8482188326724}\n",
      "Train acc: {'emotion_acc': 0.6059610705596107, 'confound_acc': 0.4791970802919708}\n"
     ]
    }
   ],
   "source": [
    "emotion_recognizer = MasterNet(acoustic_modality = False, lexical_modality = True, visual_modality = False, grl_lambda = .8)\n",
    "init_weights(emotion_recognizer)\n",
    "for param in emotion_recognizer.parameters():\n",
    "    param.requires_grad = True\n",
    "emotion_recognizer.to(device)\n",
    "\n",
    "learning_rate = 1e-4\n",
    "optimizer = torch.optim.Adam(emotion_recognizer.parameters(), lr=learning_rate)\n",
    "lr_schedule = torch.optim.lr_scheduler.ReduceLROnPlateau(optimizer, patience=1)\n",
    "criterion = torch.nn.CrossEntropyLoss()\n",
    "\n",
    "train_dataset_file_path = '../dataset/IEMOCAP/0/train.csv'\n",
    "train_loader = datasets.get_dataloader(train_dataset_file_path, 'train')\n",
    "test_dataset_file_path = '../dataset/IEMOCAP/0/test.csv'\n",
    "test_loader = datasets.get_dataloader(test_dataset_file_path, 'test')\n",
    "\n",
    "emotion_loss = []\n",
    "confound_loss = []\n",
    "loss = []\n",
    "epochs = 15\n",
    "for epoch in range(epochs):\n",
    "    print(f'Epoch {epoch}/{epochs}')\n",
    "    train_loss, train_acc = train(train_loader, emotion_recognizer, optimizer, criterion, device, emotion_dimension = 'arousal')\n",
    "    emotion_loss.append(train_loss['emotion_loss'])\n",
    "    confound_loss.append(train_loss['confound_loss'])\n",
    "    loss.append(train_loss['loss'])\n",
    "    print(f'Train loss: {train_loss}')\n",
    "    print(f'Train acc: {train_acc}')"
   ]
  },
  {
   "cell_type": "code",
   "execution_count": 33,
   "id": "basic-cover",
   "metadata": {},
   "outputs": [
    {
     "name": "stdout",
     "output_type": "stream",
     "text": [
      "Test loss: {'emotion_loss': 0.22538069139890635, 'confound_loss': 0.15257485326857884, 'loss': 43.500106528227434}\n",
      "Test acc: {'emotion_acc': 0.49752611324903795, 'confound_acc': 0.577240241891149}\n",
      "Test uar: {'emotion_uar': 0.4796013103586196, 'confound_uar': 0.5484045944634242}\n"
     ]
    }
   ],
   "source": [
    "test_loss, test_acc, test_uar = test(test_loader, emotion_recognizer, criterion, device, emotion_dimension = 'arousal')\n",
    "print(f'Test loss: {test_loss}')\n",
    "print(f'Test acc: {test_acc}')\n",
    "print(f'Test uar: {test_uar}')"
   ]
  },
  {
   "cell_type": "code",
   "execution_count": 34,
   "id": "falling-aberdeen",
   "metadata": {},
   "outputs": [
    {
     "data": {
      "text/plain": [
       "<matplotlib.legend.Legend at 0x7f3629ce1820>"
      ]
     },
     "execution_count": 34,
     "metadata": {},
     "output_type": "execute_result"
    },
    {
     "data": {
      "image/png": "[encoded data removed]",
      "text/plain": [
       "<Figure size 432x288 with 1 Axes>"
      ]
     },
     "metadata": {
      "needs_background": "light"
     },
     "output_type": "display_data"
    }
   ],
   "source": [
    "plt.title('Loss for Lexical modality with Adversarial Learning for Arousal Task')\n",
    "plt.plot(range(epochs), emotion_loss, label = 'Arousal loss')\n",
    "plt.plot(range(epochs), confound_loss, label = 'Confound loss')\n",
    "plt.legend()"
   ]
  },
  {
   "cell_type": "markdown",
   "id": "warming-burlington",
   "metadata": {},
   "source": [
    "## Train + Test for Valence and Arousal without adversarial learning"
   ]
  },
  {
   "cell_type": "markdown",
   "id": "separate-geometry",
   "metadata": {},
   "source": [
    "### Audio and Lexical w/o Adversarial for Valence"
   ]
  },
  {
   "cell_type": "code",
   "execution_count": 35,
   "id": "previous-strength",
   "metadata": {
    "tags": []
   },
   "outputs": [
    {
     "name": "stdout",
     "output_type": "stream",
     "text": [
      "Epoch 0/15\n",
      "Train loss: {'emotion_loss': 1.0193928211115677, 'confound_loss': 0.7009025874768714, 'loss': 895.4353439550456}\n",
      "Train acc: {'emotion_acc': 0.5405109489051095, 'confound_acc': 0.49318734793187347}\n",
      "Epoch 1/15\n",
      "Train loss: {'emotion_loss': 0.9502605285046165, 'confound_loss': 0.7133169133027704, 'loss': 862.4315453596732}\n",
      "Train acc: {'emotion_acc': 0.5896593673965936, 'confound_acc': 0.4997566909975669}\n",
      "Epoch 2/15\n",
      "Train loss: {'emotion_loss': 0.8873363979711607, 'confound_loss': 0.7131134378886872, 'loss': 829.2390346197767}\n",
      "Train acc: {'emotion_acc': 0.6638686131386862, 'confound_acc': 0.5105839416058394}\n",
      "Epoch 3/15\n",
      "Train loss: {'emotion_loss': 0.8617328459882551, 'confound_loss': 0.7160655734372047, 'loss': 812.13623866636}\n",
      "Train acc: {'emotion_acc': 0.6872262773722628, 'confound_acc': 0.5047445255474453}\n",
      "Epoch 4/15\n",
      "Train loss: {'emotion_loss': 0.8474744557754539, 'confound_loss': 0.7165265685737365, 'loss': 805.1050246868152}\n",
      "Train acc: {'emotion_acc': 0.6997566909975669, 'confound_acc': 0.5035279805352798}\n",
      "Epoch 5/15\n",
      "Train loss: {'emotion_loss': 0.8388695201405292, 'confound_loss': 0.7177230582394952, 'loss': 804.2122209184597}\n",
      "Train acc: {'emotion_acc': 0.712043795620438, 'confound_acc': 0.505352798053528}\n",
      "Epoch 6/15\n",
      "Train loss: {'emotion_loss': 0.8344384901486482, 'confound_loss': 0.7176269635500148, 'loss': 798.0842049238399}\n",
      "Train acc: {'emotion_acc': 0.7139902676399027, 'confound_acc': 0.501338199513382}\n",
      "Epoch 7/15\n",
      "Train loss: {'emotion_loss': 0.8146611891599944, 'confound_loss': 0.7166251882272936, 'loss': 789.6946339154986}\n",
      "Train acc: {'emotion_acc': 0.7363746958637469, 'confound_acc': 0.5079075425790754}\n",
      "Epoch 8/15\n",
      "Train loss: {'emotion_loss': 0.8160340782501354, 'confound_loss': 0.7188214370364809, 'loss': 787.181689922042}\n",
      "Train acc: {'emotion_acc': 0.732360097323601, 'confound_acc': 0.49951338199513384}\n",
      "Epoch 9/15\n",
      "Train loss: {'emotion_loss': 0.8103756116637924, 'confound_loss': 0.7162896348924488, 'loss': 785.9147523349941}\n",
      "Train acc: {'emotion_acc': 0.7394160583941606, 'confound_acc': 0.5110705596107056}\n",
      "Epoch 10/15\n",
      "Train loss: {'emotion_loss': 0.8069963298071219, 'confound_loss': 0.7154112437935655, 'loss': 785.1056001855474}\n",
      "Train acc: {'emotion_acc': 0.7429440389294404, 'confound_acc': 0.5124087591240876}\n",
      "Epoch 11/15\n",
      "Train loss: {'emotion_loss': 0.8032510296264047, 'confound_loss': 0.7218560404234823, 'loss': 783.3433867292298}\n",
      "Train acc: {'emotion_acc': 0.7450121654501216, 'confound_acc': 0.49659367396593673}\n",
      "Epoch 12/15\n",
      "Train loss: {'emotion_loss': 0.8028258005236837, 'confound_loss': 0.7190515273160044, 'loss': 780.2462085105682}\n",
      "Train acc: {'emotion_acc': 0.7461070559610705, 'confound_acc': 0.504257907542579}\n",
      "Epoch 13/15\n",
      "Train loss: {'emotion_loss': 0.7993554882850165, 'confound_loss': 0.7152630971447503, 'loss': 776.5193128262861}\n",
      "Train acc: {'emotion_acc': 0.7502433090024331, 'confound_acc': 0.5091240875912408}\n",
      "Epoch 14/15\n",
      "Train loss: {'emotion_loss': 0.8021930913053134, 'confound_loss': 0.7194222857168212, 'loss': 782.2178109661035}\n",
      "Train acc: {'emotion_acc': 0.7479318734793188, 'confound_acc': 0.5021897810218978}\n"
     ]
    }
   ],
   "source": [
    "emotion_recognizer = MasterNet(acoustic_modality = True, lexical_modality = True, visual_modality = False, grl_lambda = .8)\n",
    "init_weights(emotion_recognizer)\n",
    "for param in emotion_recognizer.parameters():\n",
    "    param.requires_grad = True\n",
    "emotion_recognizer.to(device)\n",
    "\n",
    "learning_rate = 1e-4\n",
    "optimizer = torch.optim.Adam(emotion_recognizer.parameters(), lr=learning_rate)\n",
    "lr_schedule = torch.optim.lr_scheduler.ReduceLROnPlateau(optimizer, patience=1)\n",
    "criterion = torch.nn.CrossEntropyLoss()\n",
    "\n",
    "train_dataset_file_path = '../dataset/IEMOCAP/0/train.csv'\n",
    "train_loader = datasets.get_dataloader(train_dataset_file_path, 'train')\n",
    "test_dataset_file_path = '../dataset/IEMOCAP/0/test.csv'\n",
    "test_loader = datasets.get_dataloader(test_dataset_file_path, 'test')\n",
    "\n",
    "emotion_loss = []\n",
    "confound_loss = []\n",
    "loss = []\n",
    "epochs = 15\n",
    "for epoch in range(epochs):\n",
    "    print(f'Epoch {epoch}/{epochs}')\n",
    "    train_loss, train_acc = train(train_loader, emotion_recognizer, optimizer, criterion, device, emotion_dimension = 'valence', baseline=True)\n",
    "    emotion_loss.append(train_loss['emotion_loss'])\n",
    "    confound_loss.append(train_loss['confound_loss'])\n",
    "    loss.append(train_loss['loss'])\n",
    "    print(f'Train loss: {train_loss}')\n",
    "    print(f'Train acc: {train_acc}')"
   ]
  },
  {
   "cell_type": "code",
   "execution_count": 36,
   "id": "mature-cleaner",
   "metadata": {},
   "outputs": [
    {
     "name": "stdout",
     "output_type": "stream",
     "text": [
      "Test loss: {'emotion_loss': 0.19657589663327435, 'confound_loss': 0.15471346331361666, 'loss': 40.47226746693428}\n",
      "Test acc: {'emotion_acc': 0.6553051126992854, 'confound_acc': 0.582737768004398}\n",
      "Test uar: {'emotion_uar': 0.422929253337298, 'confound_uar': 0.291368884002199}\n"
     ]
    },
    {
     "name": "stderr",
     "output_type": "stream",
     "text": [
      "/home/brandon/src/stressed_emotion/.venv/lib/python3.8/site-packages/sklearn/metrics/_classification.py:1245: UndefinedMetricWarning: Recall is ill-defined and being set to 0.0 in labels with no true samples. Use `zero_division` parameter to control this behavior.\n",
      "  _warn_prf(average, modifier, msg_start, len(result))\n",
      "/home/brandon/src/stressed_emotion/.venv/lib/python3.8/site-packages/sklearn/metrics/_classification.py:1245: UndefinedMetricWarning: Recall is ill-defined and being set to 0.0 in labels with no true samples. Use `zero_division` parameter to control this behavior.\n",
      "  _warn_prf(average, modifier, msg_start, len(result))\n"
     ]
    }
   ],
   "source": [
    "test_loss, test_acc, test_uar = test(test_loader, emotion_recognizer, criterion, device, emotion_dimension = 'valence')\n",
    "print(f'Test loss: {test_loss}')\n",
    "print(f'Test acc: {test_acc}')\n",
    "print(f'Test uar: {test_uar}')"
   ]
  },
  {
   "cell_type": "code",
   "execution_count": 37,
   "id": "electrical-firmware",
   "metadata": {},
   "outputs": [
    {
     "data": {
      "text/plain": [
       "<matplotlib.legend.Legend at 0x7f35943c7820>"
      ]
     },
     "execution_count": 37,
     "metadata": {},
     "output_type": "execute_result"
    },
    {
     "data": {
      "image/png": "[encoded data removed]",
      "text/plain": [
       "<Figure size 432x288 with 1 Axes>"
      ]
     },
     "metadata": {
      "needs_background": "light"
     },
     "output_type": "display_data"
    }
   ],
   "source": [
    "plt.title('Loss for Acoustic and Lexical modalities without Adversarial Learning for Valence Task')\n",
    "plt.plot(range(epochs), emotion_loss, label = 'Valence loss')\n",
    "plt.plot(range(epochs), confound_loss, label = 'Confound loss')\n",
    "plt.legend()"
   ]
  },
  {
   "cell_type": "markdown",
   "id": "activated-terrain",
   "metadata": {},
   "source": [
    "### Audio and Lexical w/o Adversarial for Arousal"
   ]
  },
  {
   "cell_type": "code",
   "execution_count": 38,
   "id": "marine-diversity",
   "metadata": {
    "tags": []
   },
   "outputs": [
    {
     "name": "stdout",
     "output_type": "stream",
     "text": [
      "Epoch 0/15\n",
      "Train loss: {'emotion_loss': 1.0942212832577034, 'confound_loss': 0.6980074294462278, 'loss': 923.4710754228589}\n",
      "Train acc: {'emotion_acc': 0.39099756690997567, 'confound_acc': 0.4645985401459854}\n",
      "Epoch 1/15\n",
      "Train loss: {'emotion_loss': 1.032952071859679, 'confound_loss': 0.6990187697489438, 'loss': 896.1840114842245}\n",
      "Train acc: {'emotion_acc': 0.5045012165450121, 'confound_acc': 0.4750608272506083}\n",
      "Epoch 2/15\n",
      "Train loss: {'emotion_loss': 1.00279354144627, 'confound_loss': 0.6989315167243378, 'loss': 879.07956008358}\n",
      "Train acc: {'emotion_acc': 0.5199513381995133, 'confound_acc': 0.4829683698296837}\n",
      "Epoch 3/15\n",
      "Train loss: {'emotion_loss': 0.9796980371271126, 'confound_loss': 0.6995946963821403, 'loss': 864.8521592566011}\n",
      "Train acc: {'emotion_acc': 0.5489051094890511, 'confound_acc': 0.4807785888077859}\n",
      "Epoch 4/15\n",
      "Train loss: {'emotion_loss': 0.9748085782453708, 'confound_loss': 0.6992680624069407, 'loss': 863.3771811698778}\n",
      "Train acc: {'emotion_acc': 0.5504866180048662, 'confound_acc': 0.479683698296837}\n",
      "Epoch 5/15\n",
      "Train loss: {'emotion_loss': 0.9553725138480561, 'confound_loss': 0.6983441586972211, 'loss': 849.2703414443981}\n",
      "Train acc: {'emotion_acc': 0.5791970802919708, 'confound_acc': 0.4867396593673966}\n",
      "Epoch 6/15\n",
      "Train loss: {'emotion_loss': 0.9490864170780442, 'confound_loss': 0.7005214443002693, 'loss': 848.9014111881938}\n",
      "Train acc: {'emotion_acc': 0.5824817518248175, 'confound_acc': 0.4694647201946472}\n",
      "Epoch 7/15\n",
      "Train loss: {'emotion_loss': 0.9457284478825818, 'confound_loss': 0.6987821289305557, 'loss': 844.9466102435779}\n",
      "Train acc: {'emotion_acc': 0.5860097323600973, 'confound_acc': 0.48418491484184917}\n",
      "Epoch 8/15\n",
      "Train loss: {'emotion_loss': 0.9233280175622799, 'confound_loss': 0.6999519973529452, 'loss': 837.4574153274878}\n",
      "Train acc: {'emotion_acc': 0.6192214111922141, 'confound_acc': 0.4709245742092457}\n",
      "Epoch 9/15\n",
      "Train loss: {'emotion_loss': 0.9177081231245271, 'confound_loss': 0.6969489912114718, 'loss': 829.8462630088227}\n",
      "Train acc: {'emotion_acc': 0.6205596107055961, 'confound_acc': 0.48661800486618007}\n",
      "Epoch 10/15\n",
      "Train loss: {'emotion_loss': 0.9019947748355829, 'confound_loss': 0.6980706117032567, 'loss': 822.8675971839447}\n",
      "Train acc: {'emotion_acc': 0.6403892944038929, 'confound_acc': 0.47846715328467154}\n",
      "Epoch 11/15\n",
      "Train loss: {'emotion_loss': 0.89840933118117, 'confound_loss': 0.6992293598586947, 'loss': 821.4514830007512}\n",
      "Train acc: {'emotion_acc': 0.6497566909975669, 'confound_acc': 0.47639902676399026}\n",
      "Epoch 12/15\n",
      "Train loss: {'emotion_loss': 0.894059793900423, 'confound_loss': 0.6991986608574826, 'loss': 818.4808799722431}\n",
      "Train acc: {'emotion_acc': 0.6509732360097323, 'confound_acc': 0.478345498783455}\n",
      "Epoch 13/15\n",
      "Train loss: {'emotion_loss': 0.8807037135854305, 'confound_loss': 0.6980619326755695, 'loss': 811.5420232862234}\n",
      "Train acc: {'emotion_acc': 0.6712895377128953, 'confound_acc': 0.4750608272506083}\n",
      "Epoch 14/15\n",
      "Train loss: {'emotion_loss': 0.8781478651998572, 'confound_loss': 0.6989720507238626, 'loss': 810.4647759003166}\n",
      "Train acc: {'emotion_acc': 0.6681265206812652, 'confound_acc': 0.46958637469586373}\n"
     ]
    }
   ],
   "source": [
    "emotion_recognizer = MasterNet(acoustic_modality = True, lexical_modality = True, visual_modality = False, grl_lambda = .8)\n",
    "init_weights(emotion_recognizer)\n",
    "for param in emotion_recognizer.parameters():\n",
    "    param.requires_grad = True\n",
    "emotion_recognizer.to(device)\n",
    "\n",
    "learning_rate = 1e-4\n",
    "optimizer = torch.optim.Adam(emotion_recognizer.parameters(), lr=learning_rate)\n",
    "lr_schedule = torch.optim.lr_scheduler.ReduceLROnPlateau(optimizer, patience=1)\n",
    "criterion = torch.nn.CrossEntropyLoss()\n",
    "\n",
    "train_dataset_file_path = '../dataset/IEMOCAP/0/train.csv'\n",
    "train_loader = datasets.get_dataloader(train_dataset_file_path, 'train')\n",
    "test_dataset_file_path = '../dataset/IEMOCAP/0/test.csv'\n",
    "test_loader = datasets.get_dataloader(test_dataset_file_path, 'test')\n",
    "\n",
    "emotion_loss = []\n",
    "confound_loss = []\n",
    "loss = []\n",
    "epochs = 15\n",
    "for epoch in range(epochs):\n",
    "    print(f'Epoch {epoch}/{epochs}')\n",
    "    train_loss, train_acc = train(train_loader, emotion_recognizer, optimizer, criterion, device, emotion_dimension = 'arousal', baseline=True)\n",
    "    emotion_loss.append(train_loss['emotion_loss'])\n",
    "    confound_loss.append(train_loss['confound_loss'])\n",
    "    loss.append(train_loss['loss'])\n",
    "    print(f'Train loss: {train_loss}')\n",
    "    print(f'Train acc: {train_acc}')"
   ]
  },
  {
   "cell_type": "code",
   "execution_count": 39,
   "id": "apparent-shoulder",
   "metadata": {},
   "outputs": [
    {
     "name": "stdout",
     "output_type": "stream",
     "text": [
      "Test loss: {'emotion_loss': 0.21628065070985356, 'confound_loss': 0.15392573061852138, 'loss': 42.55969655612331}\n",
      "Test acc: {'emotion_acc': 0.5442550852116548, 'confound_acc': 0.5107201759208356}\n",
      "Test uar: {'emotion_uar': 0.5456482090138933, 'confound_uar': 0.47381065071784056}\n"
     ]
    }
   ],
   "source": [
    "test_loss, test_acc, test_uar = test(test_loader, emotion_recognizer, criterion, device, emotion_dimension = 'arousal')\n",
    "print(f'Test loss: {test_loss}')\n",
    "print(f'Test acc: {test_acc}')\n",
    "print(f'Test uar: {test_uar}')"
   ]
  },
  {
   "cell_type": "code",
   "execution_count": 40,
   "id": "persistent-modern",
   "metadata": {},
   "outputs": [
    {
     "data": {
      "text/plain": [
       "<matplotlib.legend.Legend at 0x7f3629befa30>"
      ]
     },
     "execution_count": 40,
     "metadata": {},
     "output_type": "execute_result"
    },
    {
     "data": {
      "image/png": "[encoded data removed]",
      "text/plain": [
       "<Figure size 432x288 with 1 Axes>"
      ]
     },
     "metadata": {
      "needs_background": "light"
     },
     "output_type": "display_data"
    }
   ],
   "source": [
    "plt.title('Loss for Acoustic and Lexical modalities without Adversarial Learning for Arousal Task')\n",
    "plt.plot(range(epochs), emotion_loss, label = 'Arousal loss')\n",
    "plt.plot(range(epochs), confound_loss, label = 'Confound loss')\n",
    "plt.legend()"
   ]
  },
  {
   "cell_type": "markdown",
   "id": "surgical-timber",
   "metadata": {},
   "source": [
    "### Acoustic w/o Adversarial for Valence"
   ]
  },
  {
   "cell_type": "code",
   "execution_count": 41,
   "id": "agreed-discrimination",
   "metadata": {
    "tags": []
   },
   "outputs": [
    {
     "name": "stdout",
     "output_type": "stream",
     "text": [
      "Epoch 0/15\n",
      "Train loss: {'emotion_loss': 1.0078375493158163, 'confound_loss': 0.7039915258318533, 'loss': 886.4871178860794}\n",
      "Train acc: {'emotion_acc': 0.564963503649635, 'confound_acc': 0.49744525547445256}\n",
      "Epoch 1/15\n",
      "Train loss: {'emotion_loss': 1.000967473893314, 'confound_loss': 0.7079452113882577, 'loss': 880.1677065506751}\n",
      "Train acc: {'emotion_acc': 0.5447688564476886, 'confound_acc': 0.4978102189781022}\n",
      "Epoch 2/15\n",
      "Train loss: {'emotion_loss': 1.0007447278569181, 'confound_loss': 0.7071219938970261, 'loss': 878.615618744365}\n",
      "Train acc: {'emotion_acc': 0.5429440389294404, 'confound_acc': 0.4989051094890511}\n",
      "Epoch 3/15\n",
      "Train loss: {'emotion_loss': 0.998013784449388, 'confound_loss': 0.7075487385116198, 'loss': 879.3294010734628}\n",
      "Train acc: {'emotion_acc': 0.5451338199513382, 'confound_acc': 0.4927007299270073}\n",
      "Epoch 4/15\n",
      "Train loss: {'emotion_loss': 0.9969398695903066, 'confound_loss': 0.7057432327636949, 'loss': 876.3300624048547}\n",
      "Train acc: {'emotion_acc': 0.5447688564476886, 'confound_acc': 0.48990267639902674}\n",
      "Epoch 5/15\n",
      "Train loss: {'emotion_loss': 0.9928703188664254, 'confound_loss': 0.7034725726578486, 'loss': 872.573629940936}\n",
      "Train acc: {'emotion_acc': 0.5504866180048662, 'confound_acc': 0.4929440389294404}\n",
      "Epoch 6/15\n",
      "Train loss: {'emotion_loss': 0.9850526316968383, 'confound_loss': 0.7015723343141348, 'loss': 868.4806295834511}\n",
      "Train acc: {'emotion_acc': 0.559367396593674, 'confound_acc': 0.49744525547445256}\n",
      "Epoch 7/15\n",
      "Train loss: {'emotion_loss': 0.9887012272841271, 'confound_loss': 0.7014480126507088, 'loss': 870.1823452272188}\n",
      "Train acc: {'emotion_acc': 0.5518248175182482, 'confound_acc': 0.4897810218978102}\n",
      "Epoch 8/15\n",
      "Train loss: {'emotion_loss': 0.9966557421341017, 'confound_loss': 0.7007192882930259, 'loss': 872.9962539796932}\n",
      "Train acc: {'emotion_acc': 0.5435523114355231, 'confound_acc': 0.49014598540145987}\n",
      "Epoch 9/15\n",
      "Train loss: {'emotion_loss': 0.9924293162177973, 'confound_loss': 0.7002359877996408, 'loss': 869.347709082154}\n",
      "Train acc: {'emotion_acc': 0.5475669099756691, 'confound_acc': 0.48759124087591244}\n",
      "Epoch 10/15\n",
      "Train loss: {'emotion_loss': 0.9925893809544901, 'confound_loss': 0.698726302918757, 'loss': 870.9557509610742}\n",
      "Train acc: {'emotion_acc': 0.5452554744525547, 'confound_acc': 0.49014598540145987}\n",
      "Epoch 11/15\n",
      "Train loss: {'emotion_loss': 0.9884511646361667, 'confound_loss': 0.7008440925337461, 'loss': 867.6358234267175}\n",
      "Train acc: {'emotion_acc': 0.5489051094890511, 'confound_acc': 0.4732360097323601}\n",
      "Epoch 12/15\n",
      "Train loss: {'emotion_loss': 0.9918521439171023, 'confound_loss': 0.6999950058149457, 'loss': 870.6005941620133}\n",
      "Train acc: {'emotion_acc': 0.5457420924574209, 'confound_acc': 0.46715328467153283}\n",
      "Epoch 13/15\n",
      "Train loss: {'emotion_loss': 0.9891767748830848, 'confound_loss': 0.6988402062932805, 'loss': 869.1445452663105}\n",
      "Train acc: {'emotion_acc': 0.5480535279805353, 'confound_acc': 0.46800486618004866}\n",
      "Epoch 14/15\n",
      "Train loss: {'emotion_loss': 0.9931670643592159, 'confound_loss': 0.6985503139430911, 'loss': 870.7243416431118}\n",
      "Train acc: {'emotion_acc': 0.5428223844282238, 'confound_acc': 0.4621654501216545}\n"
     ]
    }
   ],
   "source": [
    "emotion_recognizer = MasterNet(acoustic_modality = True, lexical_modality = False, visual_modality = False, grl_lambda = .8)\n",
    "init_weights(emotion_recognizer)\n",
    "for param in emotion_recognizer.parameters():\n",
    "    param.requires_grad = True\n",
    "emotion_recognizer.to(device)\n",
    "\n",
    "learning_rate = 1e-4\n",
    "optimizer = torch.optim.Adam(emotion_recognizer.parameters(), lr=learning_rate)\n",
    "lr_schedule = torch.optim.lr_scheduler.ReduceLROnPlateau(optimizer, patience=1)\n",
    "criterion = torch.nn.CrossEntropyLoss()\n",
    "\n",
    "train_dataset_file_path = '../dataset/IEMOCAP/0/train.csv'\n",
    "train_loader = datasets.get_dataloader(train_dataset_file_path, 'train')\n",
    "test_dataset_file_path = '../dataset/IEMOCAP/0/test.csv'\n",
    "test_loader = datasets.get_dataloader(test_dataset_file_path, 'test')\n",
    "\n",
    "emotion_loss = []\n",
    "confound_loss = []\n",
    "loss = []\n",
    "epochs = 15\n",
    "for epoch in range(epochs):\n",
    "    print(f'Epoch {epoch}/{epochs}')\n",
    "    train_loss, train_acc = train(train_loader, emotion_recognizer, optimizer, criterion, device, emotion_dimension = 'valence', baseline=True)\n",
    "    emotion_loss.append(train_loss['emotion_loss'])\n",
    "    confound_loss.append(train_loss['confound_loss'])\n",
    "    loss.append(train_loss['loss'])\n",
    "    print(f'Train loss: {train_loss}')\n",
    "    print(f'Train acc: {train_acc}')"
   ]
  },
  {
   "cell_type": "code",
   "execution_count": 42,
   "id": "traditional-houston",
   "metadata": {},
   "outputs": [
    {
     "name": "stdout",
     "output_type": "stream",
     "text": [
      "Test loss: {'emotion_loss': 0.22071740181993418, 'confound_loss': 0.15557044257449731, 'loss': 43.09353261890347}\n",
      "Test acc: {'emotion_acc': 0.5453545904343046, 'confound_acc': 0.43045629466739965}\n",
      "Test uar: {'emotion_uar': 0.1818848551521819, 'confound_uar': 0.5101361113602167}\n"
     ]
    },
    {
     "name": "stderr",
     "output_type": "stream",
     "text": [
      "/home/brandon/src/stressed_emotion/.venv/lib/python3.8/site-packages/sklearn/metrics/_classification.py:1245: UndefinedMetricWarning: Recall is ill-defined and being set to 0.0 in labels with no true samples. Use `zero_division` parameter to control this behavior.\n",
      "  _warn_prf(average, modifier, msg_start, len(result))\n"
     ]
    }
   ],
   "source": [
    "test_loss, test_acc, test_uar = test(test_loader, emotion_recognizer, criterion, device, emotion_dimension = 'valence')\n",
    "print(f'Test loss: {test_loss}')\n",
    "print(f'Test acc: {test_acc}')\n",
    "print(f'Test uar: {test_uar}')"
   ]
  },
  {
   "cell_type": "code",
   "execution_count": 43,
   "id": "finite-ownership",
   "metadata": {},
   "outputs": [
    {
     "data": {
      "text/plain": [
       "<matplotlib.legend.Legend at 0x7f3629d48d30>"
      ]
     },
     "execution_count": 43,
     "metadata": {},
     "output_type": "execute_result"
    },
    {
     "data": {
      "image/png": "[encoded data removed]",
      "text/plain": [
       "<Figure size 432x288 with 1 Axes>"
      ]
     },
     "metadata": {
      "needs_background": "light"
     },
     "output_type": "display_data"
    }
   ],
   "source": [
    "plt.title('Loss for Acoustic modalities without Adversarial Learning for Valence Task')\n",
    "plt.plot(range(epochs), emotion_loss, label = 'Valence loss')\n",
    "plt.plot(range(epochs), confound_loss, label = 'Confound loss')\n",
    "plt.legend()"
   ]
  },
  {
   "cell_type": "markdown",
   "id": "legal-chest",
   "metadata": {},
   "source": [
    "### Acoustic w/o Adversarial for Arousal"
   ]
  },
  {
   "cell_type": "code",
   "execution_count": 44,
   "id": "recent-compound",
   "metadata": {
    "tags": []
   },
   "outputs": [
    {
     "name": "stdout",
     "output_type": "stream",
     "text": [
      "Epoch 0/15\n",
      "Train loss: {'emotion_loss': 1.0957638413757667, 'confound_loss': 0.6940859793341113, 'loss': 922.1244090393128}\n",
      "Train acc: {'emotion_acc': 0.34635036496350363, 'confound_acc': 0.4989051094890511}\n",
      "Epoch 1/15\n",
      "Train loss: {'emotion_loss': 1.039717000166266, 'confound_loss': 0.6995557070590179, 'loss': 898.8823647656793}\n",
      "Train acc: {'emotion_acc': 0.49659367396593673, 'confound_acc': 0.4975669099756691}\n",
      "Epoch 2/15\n",
      "Train loss: {'emotion_loss': 1.0092451813040078, 'confound_loss': 0.7037813362560383, 'loss': 882.7621190532288}\n",
      "Train acc: {'emotion_acc': 0.5169099756690998, 'confound_acc': 0.4942822384428224}\n",
      "Epoch 3/15\n",
      "Train loss: {'emotion_loss': 0.9919797349068905, 'confound_loss': 0.7077797996278866, 'loss': 875.4624141940579}\n",
      "Train acc: {'emotion_acc': 0.5334549878345499, 'confound_acc': 0.4852798053527981}\n",
      "Epoch 4/15\n",
      "Train loss: {'emotion_loss': 0.9825380040397904, 'confound_loss': 0.7077850866410519, 'loss': 867.2419932819178}\n",
      "Train acc: {'emotion_acc': 0.5479318734793187, 'confound_acc': 0.48686131386861314}\n",
      "Epoch 5/15\n",
      "Train loss: {'emotion_loss': 0.9783373487250814, 'confound_loss': 0.7048749198941405, 'loss': 865.0783323581232}\n",
      "Train acc: {'emotion_acc': 0.551338199513382, 'confound_acc': 0.5006082725060828}\n",
      "Epoch 6/15\n",
      "Train loss: {'emotion_loss': 0.9813927737307456, 'confound_loss': 0.7083081840193225, 'loss': 867.752051490754}\n",
      "Train acc: {'emotion_acc': 0.5474452554744526, 'confound_acc': 0.4908759124087591}\n",
      "Epoch 7/15\n",
      "Train loss: {'emotion_loss': 0.9764056595382987, 'confound_loss': 0.7069341865610984, 'loss': 865.221277882037}\n",
      "Train acc: {'emotion_acc': 0.5474452554744526, 'confound_acc': 0.49951338199513384}\n",
      "Epoch 8/15\n",
      "Train loss: {'emotion_loss': 0.9760566499910466, 'confound_loss': 0.7104809271454348, 'loss': 868.1968984362101}\n",
      "Train acc: {'emotion_acc': 0.5441605839416058, 'confound_acc': 0.4871046228710462}\n",
      "Epoch 9/15\n",
      "Train loss: {'emotion_loss': 0.972201434612738, 'confound_loss': 0.7098648475649756, 'loss': 866.8787473646584}\n",
      "Train acc: {'emotion_acc': 0.5537712895377129, 'confound_acc': 0.4908759124087591}\n",
      "Epoch 10/15\n",
      "Train loss: {'emotion_loss': 0.9686020229461129, 'confound_loss': 0.7110576069540551, 'loss': 863.5137866093027}\n",
      "Train acc: {'emotion_acc': 0.5597323600973236, 'confound_acc': 0.48795620437956205}\n",
      "Epoch 11/15\n",
      "Train loss: {'emotion_loss': 0.9733522249682868, 'confound_loss': 0.7104177012865646, 'loss': 866.6718331761513}\n",
      "Train acc: {'emotion_acc': 0.5503649635036496, 'confound_acc': 0.49148418491484186}\n",
      "Epoch 12/15\n",
      "Train loss: {'emotion_loss': 0.9697353486189119, 'confound_loss': 0.7085619782775293, 'loss': 866.9785871607784}\n",
      "Train acc: {'emotion_acc': 0.5571776155717761, 'confound_acc': 0.49671532846715327}\n",
      "Epoch 13/15\n",
      "Train loss: {'emotion_loss': 0.9683528825466735, 'confound_loss': 0.7062036417105783, 'loss': 862.159441289039}\n",
      "Train acc: {'emotion_acc': 0.5562043795620438, 'confound_acc': 0.5004866180048662}\n",
      "Epoch 14/15\n",
      "Train loss: {'emotion_loss': 0.9706679274715803, 'confound_loss': 0.7062213649313738, 'loss': 864.5262651313603}\n",
      "Train acc: {'emotion_acc': 0.558029197080292, 'confound_acc': 0.5057177615571776}\n"
     ]
    }
   ],
   "source": [
    "emotion_recognizer = MasterNet(acoustic_modality = True, lexical_modality = False, visual_modality = False, grl_lambda = .8)\n",
    "init_weights(emotion_recognizer)\n",
    "for param in emotion_recognizer.parameters():\n",
    "    param.requires_grad = True\n",
    "emotion_recognizer.to(device)\n",
    "\n",
    "learning_rate = 1e-4\n",
    "optimizer = torch.optim.Adam(emotion_recognizer.parameters(), lr=learning_rate)\n",
    "lr_schedule = torch.optim.lr_scheduler.ReduceLROnPlateau(optimizer, patience=1)\n",
    "criterion = torch.nn.CrossEntropyLoss()\n",
    "\n",
    "train_dataset_file_path = '../dataset/IEMOCAP/0/train.csv'\n",
    "train_loader = datasets.get_dataloader(train_dataset_file_path, 'train')\n",
    "test_dataset_file_path = '../dataset/IEMOCAP/0/test.csv'\n",
    "test_loader = datasets.get_dataloader(test_dataset_file_path, 'test')\n",
    "\n",
    "emotion_loss = []\n",
    "confound_loss = []\n",
    "loss = []\n",
    "epochs = 15\n",
    "for epoch in range(epochs):\n",
    "    print(f'Epoch {epoch}/{epochs}')\n",
    "    train_loss, train_acc = train(train_loader, emotion_recognizer, optimizer, criterion, device, emotion_dimension = 'arousal', baseline=True)\n",
    "    emotion_loss.append(train_loss['emotion_loss'])\n",
    "    confound_loss.append(train_loss['confound_loss'])\n",
    "    loss.append(train_loss['loss'])\n",
    "    print(f'Train loss: {train_loss}')\n",
    "    print(f'Train acc: {train_acc}')"
   ]
  },
  {
   "cell_type": "code",
   "execution_count": 45,
   "id": "exempt-presentation",
   "metadata": {},
   "outputs": [
    {
     "name": "stdout",
     "output_type": "stream",
     "text": [
      "Test loss: {'emotion_loss': 0.206479929068673, 'confound_loss': 0.16323934866528567, 'loss': 42.238754297624766}\n",
      "Test acc: {'emotion_acc': 0.6124244090159429, 'confound_acc': 0.417262231995602}\n",
      "Test uar: {'emotion_uar': 0.5701334243660094, 'confound_uar': 0.208631115997801}\n"
     ]
    },
    {
     "name": "stderr",
     "output_type": "stream",
     "text": [
      "/home/brandon/src/stressed_emotion/.venv/lib/python3.8/site-packages/sklearn/metrics/_classification.py:1245: UndefinedMetricWarning: Recall is ill-defined and being set to 0.0 in labels with no true samples. Use `zero_division` parameter to control this behavior.\n",
      "  _warn_prf(average, modifier, msg_start, len(result))\n"
     ]
    }
   ],
   "source": [
    "test_loss, test_acc, test_uar = test(test_loader, emotion_recognizer, criterion, device, emotion_dimension = 'arousal')\n",
    "print(f'Test loss: {test_loss}')\n",
    "print(f'Test acc: {test_acc}')\n",
    "print(f'Test uar: {test_uar}')"
   ]
  },
  {
   "cell_type": "code",
   "execution_count": 46,
   "id": "speaking-appendix",
   "metadata": {},
   "outputs": [
    {
     "data": {
      "text/plain": [
       "<matplotlib.legend.Legend at 0x7f362997c220>"
      ]
     },
     "execution_count": 46,
     "metadata": {},
     "output_type": "execute_result"
    },
    {
     "data": {
      "image/png": "[encoded data removed]",
      "text/plain": [
       "<Figure size 432x288 with 1 Axes>"
      ]
     },
     "metadata": {
      "needs_background": "light"
     },
     "output_type": "display_data"
    }
   ],
   "source": [
    "plt.title('Loss for Acoustic modality without Adversarial Learning for Arousal Task')\n",
    "plt.plot(range(epochs), emotion_loss, label = 'Arousal loss')\n",
    "plt.plot(range(epochs), confound_loss, label = 'Confound loss')\n",
    "plt.legend()"
   ]
  },
  {
   "cell_type": "markdown",
   "id": "outer-blair",
   "metadata": {},
   "source": [
    "### Lexical w/o Adversarial for Valence"
   ]
  },
  {
   "cell_type": "code",
   "execution_count": 47,
   "id": "surgical-landscape",
   "metadata": {
    "tags": []
   },
   "outputs": [
    {
     "name": "stdout",
     "output_type": "stream",
     "text": [
      "Epoch 0/15\n",
      "Train loss: {'emotion_loss': 1.048741316343096, 'confound_loss': 0.6953790821569903, 'loss': 906.8915539888325}\n",
      "Train acc: {'emotion_acc': 0.4997566909975669, 'confound_acc': 0.4940389294403893}\n",
      "Epoch 1/15\n",
      "Train loss: {'emotion_loss': 0.9689130736116306, 'confound_loss': 0.7018544177600846, 'loss': 863.8655724960311}\n",
      "Train acc: {'emotion_acc': 0.5675182481751825, 'confound_acc': 0.4527980535279805}\n",
      "Epoch 2/15\n",
      "Train loss: {'emotion_loss': 0.9157996420034639, 'confound_loss': 0.7099185246205979, 'loss': 839.3857835218716}\n",
      "Train acc: {'emotion_acc': 0.6335766423357664, 'confound_acc': 0.4509732360097324}\n",
      "Epoch 3/15\n",
      "Train loss: {'emotion_loss': 0.8828405903123232, 'confound_loss': 0.7117104799367111, 'loss': 825.102246632314}\n",
      "Train acc: {'emotion_acc': 0.6628953771289537, 'confound_acc': 0.44659367396593674}\n",
      "Epoch 4/15\n",
      "Train loss: {'emotion_loss': 0.8667911262711663, 'confound_loss': 0.7115091076156972, 'loss': 810.0072498355162}\n",
      "Train acc: {'emotion_acc': 0.6822384428223844, 'confound_acc': 0.44939172749391726}\n",
      "Epoch 5/15\n",
      "Train loss: {'emotion_loss': 0.8529694901366178, 'confound_loss': 0.7090493591958911, 'loss': 806.3024132622239}\n",
      "Train acc: {'emotion_acc': 0.6945255474452555, 'confound_acc': 0.4681265206812652}\n",
      "Epoch 6/15\n",
      "Train loss: {'emotion_loss': 0.8410393525538278, 'confound_loss': 0.7092529117249329, 'loss': 797.0025224274002}\n",
      "Train acc: {'emotion_acc': 0.7068126520681265, 'confound_acc': 0.464963503649635}\n",
      "Epoch 7/15\n",
      "Train loss: {'emotion_loss': 0.8376948587045595, 'confound_loss': 0.7099424896884985, 'loss': 796.5032770052726}\n",
      "Train acc: {'emotion_acc': 0.7121654501216546, 'confound_acc': 0.46338199513381995}\n",
      "Epoch 8/15\n",
      "Train loss: {'emotion_loss': 0.8229205785210495, 'confound_loss': 0.7110746813655363, 'loss': 788.4616370123416}\n",
      "Train acc: {'emotion_acc': 0.728345498783455, 'confound_acc': 0.45218978102189783}\n",
      "Epoch 9/15\n",
      "Train loss: {'emotion_loss': 0.8179896067436567, 'confound_loss': 0.7085534772520399, 'loss': 786.9325349628346}\n",
      "Train acc: {'emotion_acc': 0.7321167883211679, 'confound_acc': 0.46228710462287104}\n",
      "Epoch 10/15\n",
      "Train loss: {'emotion_loss': 0.8217297111735734, 'confound_loss': 0.7077781935494234, 'loss': 787.0449521640163}\n",
      "Train acc: {'emotion_acc': 0.7262773722627737, 'confound_acc': 0.46715328467153283}\n",
      "Epoch 11/15\n",
      "Train loss: {'emotion_loss': 0.8129637422844593, 'confound_loss': 0.7079601380611672, 'loss': 782.0028255962792}\n",
      "Train acc: {'emotion_acc': 0.7360097323600974, 'confound_acc': 0.46167883211678834}\n",
      "Epoch 12/15\n",
      "Train loss: {'emotion_loss': 0.8035048546146326, 'confound_loss': 0.7106676549299218, 'loss': 780.3957441396402}\n",
      "Train acc: {'emotion_acc': 0.7469586374695864, 'confound_acc': 0.45048661800486617}\n",
      "Epoch 13/15\n",
      "Train loss: {'emotion_loss': 0.7957015592416437, 'confound_loss': 0.7124083115780864, 'loss': 776.7220792636449}\n",
      "Train acc: {'emotion_acc': 0.7541362530413626, 'confound_acc': 0.4474452554744526}\n",
      "Epoch 14/15\n",
      "Train loss: {'emotion_loss': 0.7899341508456241, 'confound_loss': 0.7105215457974705, 'loss': 771.5014421190733}\n",
      "Train acc: {'emotion_acc': 0.7588807785888078, 'confound_acc': 0.4555961070559611}\n"
     ]
    }
   ],
   "source": [
    "emotion_recognizer = MasterNet(acoustic_modality = False, lexical_modality = True, visual_modality = False, grl_lambda = .8)\n",
    "init_weights(emotion_recognizer)\n",
    "for param in emotion_recognizer.parameters():\n",
    "    param.requires_grad = True\n",
    "emotion_recognizer.to(device)\n",
    "\n",
    "learning_rate = 1e-4\n",
    "optimizer = torch.optim.Adam(emotion_recognizer.parameters(), lr=learning_rate)\n",
    "lr_schedule = torch.optim.lr_scheduler.ReduceLROnPlateau(optimizer, patience=1)\n",
    "criterion = torch.nn.CrossEntropyLoss()\n",
    "\n",
    "train_dataset_file_path = '../dataset/IEMOCAP/0/train.csv'\n",
    "train_loader = datasets.get_dataloader(train_dataset_file_path, 'train')\n",
    "test_dataset_file_path = '../dataset/IEMOCAP/0/test.csv'\n",
    "test_loader = datasets.get_dataloader(test_dataset_file_path, 'test')\n",
    "\n",
    "emotion_loss = []\n",
    "confound_loss = []\n",
    "loss = []\n",
    "epochs = 15\n",
    "for epoch in range(epochs):\n",
    "    print(f'Epoch {epoch}/{epochs}')\n",
    "    train_loss, train_acc = train(train_loader, emotion_recognizer, optimizer, criterion, device, emotion_dimension = 'valence', baseline=True)\n",
    "    emotion_loss.append(train_loss['emotion_loss'])\n",
    "    confound_loss.append(train_loss['confound_loss'])\n",
    "    loss.append(train_loss['loss'])\n",
    "    print(f'Train loss: {train_loss}')\n",
    "    print(f'Train acc: {train_acc}')"
   ]
  },
  {
   "cell_type": "code",
   "execution_count": 48,
   "id": "sharp-regard",
   "metadata": {},
   "outputs": [
    {
     "name": "stdout",
     "output_type": "stream",
     "text": [
      "Test loss: {'emotion_loss': 0.19657793803437676, 'confound_loss': 0.1547186004164618, 'loss': 40.292617795996165}\n",
      "Test acc: {'emotion_acc': 0.657504123144585, 'confound_acc': 0.5041231445849368}\n",
      "Test uar: {'emotion_uar': 0.42473581160819657, 'confound_uar': 0.47167543003907697}\n"
     ]
    },
    {
     "name": "stderr",
     "output_type": "stream",
     "text": [
      "/home/brandon/src/stressed_emotion/.venv/lib/python3.8/site-packages/sklearn/metrics/_classification.py:1245: UndefinedMetricWarning: Recall is ill-defined and being set to 0.0 in labels with no true samples. Use `zero_division` parameter to control this behavior.\n",
      "  _warn_prf(average, modifier, msg_start, len(result))\n"
     ]
    }
   ],
   "source": [
    "test_loss, test_acc, test_uar = test(test_loader, emotion_recognizer, criterion, device, emotion_dimension = 'valence')\n",
    "print(f'Test loss: {test_loss}')\n",
    "print(f'Test acc: {test_acc}')\n",
    "print(f'Test uar: {test_uar}')"
   ]
  },
  {
   "cell_type": "code",
   "execution_count": 49,
   "id": "relative-artwork",
   "metadata": {},
   "outputs": [
    {
     "data": {
      "text/plain": [
       "<matplotlib.legend.Legend at 0x7f362946cac0>"
      ]
     },
     "execution_count": 49,
     "metadata": {},
     "output_type": "execute_result"
    },
    {
     "data": {
      "image/png": "[encoded data removed]",
      "text/plain": [
       "<Figure size 432x288 with 1 Axes>"
      ]
     },
     "metadata": {
      "needs_background": "light"
     },
     "output_type": "display_data"
    }
   ],
   "source": [
    "plt.title('Loss for Lexical modality without Adversarial Learning for Valence Task')\n",
    "plt.plot(range(epochs), emotion_loss, label = 'Valence loss')\n",
    "plt.plot(range(epochs), confound_loss, label = 'Confound loss')\n",
    "plt.legend()"
   ]
  },
  {
   "cell_type": "markdown",
   "id": "foreign-leisure",
   "metadata": {},
   "source": [
    "### Lexical w/o Adversarial for Arousal"
   ]
  },
  {
   "cell_type": "code",
   "execution_count": 50,
   "id": "opened-percentage",
   "metadata": {
    "tags": []
   },
   "outputs": [
    {
     "name": "stdout",
     "output_type": "stream",
     "text": [
      "Epoch 0/15\n",
      "Train loss: {'emotion_loss': 1.0978294514728428, 'confound_loss': 0.6923722979043708, 'loss': 921.0709826044072}\n",
      "Train acc: {'emotion_acc': 0.3427007299270073, 'confound_acc': 0.5184914841849149}\n",
      "Epoch 1/15\n",
      "Train loss: {'emotion_loss': 1.0915573881757863, 'confound_loss': 0.6931181126763385, 'loss': 918.9498852834048}\n",
      "Train acc: {'emotion_acc': 0.40693430656934304, 'confound_acc': 0.5171532846715329}\n",
      "Epoch 2/15\n",
      "Train loss: {'emotion_loss': 1.069311356961959, 'confound_loss': 0.6942584467653171, 'loss': 910.3521706129675}\n",
      "Train acc: {'emotion_acc': 0.44148418491484187, 'confound_acc': 0.5008515815085158}\n",
      "Epoch 3/15\n",
      "Train loss: {'emotion_loss': 1.035663103605059, 'confound_loss': 0.699295185709278, 'loss': 894.4584297337768}\n",
      "Train acc: {'emotion_acc': 0.474330900243309, 'confound_acc': 0.5009732360097323}\n",
      "Epoch 4/15\n",
      "Train loss: {'emotion_loss': 1.0116299349046403, 'confound_loss': 0.7051742061798675, 'loss': 883.846736131881}\n",
      "Train acc: {'emotion_acc': 0.5025547445255475, 'confound_acc': 0.4912408759124088}\n",
      "Epoch 5/15\n",
      "Train loss: {'emotion_loss': 0.9975673374846752, 'confound_loss': 0.7080296226396635, 'loss': 877.9767088244745}\n",
      "Train acc: {'emotion_acc': 0.5253041362530414, 'confound_acc': 0.48832116788321167}\n",
      "Epoch 6/15\n",
      "Train loss: {'emotion_loss': 0.9831126853533756, 'confound_loss': 0.7073108466334844, 'loss': 870.7650425372073}\n",
      "Train acc: {'emotion_acc': 0.5468369829683698, 'confound_acc': 0.4942822384428224}\n",
      "Epoch 7/15\n",
      "Train loss: {'emotion_loss': 0.9751375443972502, 'confound_loss': 0.7065300940887473, 'loss': 865.4090291291823}\n",
      "Train acc: {'emotion_acc': 0.560705596107056, 'confound_acc': 0.4953771289537713}\n",
      "Epoch 8/15\n",
      "Train loss: {'emotion_loss': 0.9612711129369439, 'confound_loss': 0.7071900125375518, 'loss': 857.9106874961102}\n",
      "Train acc: {'emotion_acc': 0.5836982968369829, 'confound_acc': 0.5009732360097323}\n",
      "Epoch 9/15\n",
      "Train loss: {'emotion_loss': 0.9549514066848309, 'confound_loss': 0.7106110126012031, 'loss': 857.2726783526895}\n",
      "Train acc: {'emotion_acc': 0.5850364963503649, 'confound_acc': 0.49318734793187347}\n",
      "Epoch 10/15\n",
      "Train loss: {'emotion_loss': 0.9468717736840712, 'confound_loss': 0.7069172166316889, 'loss': 853.5116876041959}\n",
      "Train acc: {'emotion_acc': 0.59330900243309, 'confound_acc': 0.501338199513382}\n",
      "Epoch 11/15\n",
      "Train loss: {'emotion_loss': 0.9327239178497968, 'confound_loss': 0.7083935167075132, 'loss': 846.7915675840142}\n",
      "Train acc: {'emotion_acc': 0.6086374695863747, 'confound_acc': 0.49951338199513384}\n",
      "Epoch 12/15\n",
      "Train loss: {'emotion_loss': 0.9256188220667004, 'confound_loss': 0.7084561653638164, 'loss': 841.4542501237722}\n",
      "Train acc: {'emotion_acc': 0.6187347931873479, 'confound_acc': 0.5018248175182481}\n",
      "Epoch 13/15\n",
      "Train loss: {'emotion_loss': 0.9157374111594857, 'confound_loss': 0.7136254898536993, 'loss': 838.9764375870445}\n",
      "Train acc: {'emotion_acc': 0.6328467153284671, 'confound_acc': 0.48819951338199513}\n",
      "Epoch 14/15\n",
      "Train loss: {'emotion_loss': 0.9147759871376164, 'confound_loss': 0.7095231678235392, 'loss': 836.2406707435034}\n",
      "Train acc: {'emotion_acc': 0.6260340632603406, 'confound_acc': 0.49939172749391725}\n"
     ]
    }
   ],
   "source": [
    "emotion_recognizer = MasterNet(acoustic_modality = False, lexical_modality = True, visual_modality = False, grl_lambda = .8)\n",
    "init_weights(emotion_recognizer)\n",
    "for param in emotion_recognizer.parameters():\n",
    "    param.requires_grad = True\n",
    "emotion_recognizer.to(device)\n",
    "\n",
    "learning_rate = 1e-4\n",
    "optimizer = torch.optim.Adam(emotion_recognizer.parameters(), lr=learning_rate)\n",
    "lr_schedule = torch.optim.lr_scheduler.ReduceLROnPlateau(optimizer, patience=1)\n",
    "criterion = torch.nn.CrossEntropyLoss()\n",
    "\n",
    "train_dataset_file_path = '../dataset/IEMOCAP/0/train.csv'\n",
    "train_loader = datasets.get_dataloader(train_dataset_file_path, 'train')\n",
    "test_dataset_file_path = '../dataset/IEMOCAP/0/test.csv'\n",
    "test_loader = datasets.get_dataloader(test_dataset_file_path, 'test')\n",
    "\n",
    "emotion_loss = []\n",
    "confound_loss = []\n",
    "loss = []\n",
    "epochs = 15\n",
    "for epoch in range(epochs):\n",
    "    print(f'Epoch {epoch}/{epochs}')\n",
    "    train_loss, train_acc = train(train_loader, emotion_recognizer, optimizer, criterion, device, emotion_dimension = 'arousal', baseline=True)\n",
    "    emotion_loss.append(train_loss['emotion_loss'])\n",
    "    confound_loss.append(train_loss['confound_loss'])\n",
    "    loss.append(train_loss['loss'])\n",
    "    print(f'Train loss: {train_loss}')\n",
    "    print(f'Train acc: {train_acc}')"
   ]
  },
  {
   "cell_type": "code",
   "execution_count": 51,
   "id": "extraordinary-bouquet",
   "metadata": {},
   "outputs": [
    {
     "name": "stdout",
     "output_type": "stream",
     "text": [
      "Test loss: {'emotion_loss': 0.2259859497213178, 'confound_loss': 0.16381195912333313, 'loss': 44.58553803975944}\n",
      "Test acc: {'emotion_acc': 0.5052226498075866, 'confound_acc': 0.4156129741616273}\n",
      "Test uar: {'emotion_uar': 0.4861618605959442, 'confound_uar': 0.30810363836824695}\n"
     ]
    }
   ],
   "source": [
    "test_loss, test_acc, test_uar = test(test_loader, emotion_recognizer, criterion, device, emotion_dimension = 'arousal')\n",
    "print(f'Test loss: {test_loss}')\n",
    "print(f'Test acc: {test_acc}')\n",
    "print(f'Test uar: {test_uar}')"
   ]
  },
  {
   "cell_type": "code",
   "execution_count": 52,
   "id": "finite-million",
   "metadata": {},
   "outputs": [
    {
     "data": {
      "text/plain": [
       "<matplotlib.legend.Legend at 0x7f3628b983d0>"
      ]
     },
     "execution_count": 52,
     "metadata": {},
     "output_type": "execute_result"
    },
    {
     "data": {
      "image/png": "[encoded data removed]",
      "text/plain": [
       "<Figure size 432x288 with 1 Axes>"
      ]
     },
     "metadata": {
      "needs_background": "light"
     },
     "output_type": "display_data"
    }
   ],
   "source": [
    "plt.title('Loss for Lexical modality without Adversarial Learning for Arousal Task')\n",
    "plt.plot(range(epochs), emotion_loss, label = 'Arousal loss')\n",
    "plt.plot(range(epochs), confound_loss, label = 'Confound loss')\n",
    "plt.legend()"
   ]
  },
  {
   "cell_type": "code",
   "execution_count": null,
   "id": "offensive-florist",
   "metadata": {},
   "outputs": [],
   "source": []
  },
  {
   "cell_type": "code",
   "execution_count": null,
   "id": "russian-belief",
   "metadata": {},
   "outputs": [],
   "source": []
  },
  {
   "cell_type": "code",
   "execution_count": null,
   "id": "specified-leisure",
   "metadata": {},
   "outputs": [],
   "source": []
  },
  {
   "cell_type": "code",
   "execution_count": null,
   "id": "victorian-torture",
   "metadata": {},
   "outputs": [],
   "source": []
  },
  {
   "cell_type": "code",
   "execution_count": null,
   "id": "banned-manner",
   "metadata": {},
   "outputs": [],
   "source": []
  },
  {
   "cell_type": "code",
   "execution_count": null,
   "id": "great-running",
   "metadata": {},
   "outputs": [],
   "source": []
  },
  {
   "cell_type": "code",
   "execution_count": null,
   "id": "taken-archive",
   "metadata": {},
   "outputs": [],
   "source": []
  },
  {
   "cell_type": "code",
   "execution_count": null,
   "id": "everyday-revelation",
   "metadata": {},
   "outputs": [],
   "source": []
  },
  {
   "cell_type": "code",
   "execution_count": null,
   "id": "lesbian-evening",
   "metadata": {},
   "outputs": [],
   "source": []
  },
  {
   "cell_type": "code",
   "execution_count": null,
   "id": "british-seventh",
   "metadata": {},
   "outputs": [],
   "source": []
  },
  {
   "cell_type": "code",
   "execution_count": null,
   "id": "beneficial-asian",
   "metadata": {},
   "outputs": [],
   "source": []
  },
  {
   "cell_type": "code",
   "execution_count": null,
   "id": "secondary-stopping",
   "metadata": {},
   "outputs": [],
   "source": []
  },
  {
   "cell_type": "code",
   "execution_count": null,
   "id": "careful-enlargement",
   "metadata": {},
   "outputs": [],
   "source": []
  },
  {
   "cell_type": "code",
   "execution_count": null,
   "id": "blessed-orleans",
   "metadata": {},
   "outputs": [],
   "source": []
  },
  {
   "cell_type": "code",
   "execution_count": null,
   "id": "optimum-vanilla",
   "metadata": {},
   "outputs": [],
   "source": []
  },
  {
   "cell_type": "markdown",
   "id": "floral-drawing",
   "metadata": {},
   "source": [
    "## Train all folders"
   ]
  },
  {
   "cell_type": "code",
   "execution_count": 53,
   "id": "polyphonic-aquarium",
   "metadata": {},
   "outputs": [],
   "source": [
    "acc = []\n",
    "uar = []"
   ]
  },
  {
   "cell_type": "code",
   "execution_count": 54,
   "id": "thick-small",
   "metadata": {},
   "outputs": [
    {
     "name": "stdout",
     "output_type": "stream",
     "text": [
      "epoch: 1/10\n",
      "train_emotion_loss: 1.09711 train_emotion_acc: 0.366 train_confound_loss: 0.69657 train_confound_acc: 0.470 test_emotion_loss: 0.24041 test_emotion_acc: 0.555 test_confound_loss: 0.15680 test_confound_acc: 0.379 test_emotion_uar: 0.483 test_confound_uar: 0.359\n",
      "epoch: 2/10\n",
      "train_emotion_loss: 1.04781 train_emotion_acc: 0.491 train_confound_loss: 0.69858 train_confound_acc: 0.473 test_emotion_loss: 0.21792 test_emotion_acc: 0.618 test_confound_loss: 0.15476 test_confound_acc: 0.419 test_emotion_uar: 0.426 test_confound_uar: 0.428\n",
      "epoch: 3/10\n"
     ]
    },
    {
     "name": "stderr",
     "output_type": "stream",
     "text": [
      "/home/brandon/src/stressed_emotion/.venv/lib/python3.8/site-packages/sklearn/metrics/_classification.py:1245: UndefinedMetricWarning: Recall is ill-defined and being set to 0.0 in labels with no true samples. Use `zero_division` parameter to control this behavior.\n",
      "  _warn_prf(average, modifier, msg_start, len(result))\n"
     ]
    },
    {
     "name": "stdout",
     "output_type": "stream",
     "text": [
      "train_emotion_loss: 1.00951 train_emotion_acc: 0.511 train_confound_loss: 0.69309 train_confound_acc: 0.508 test_emotion_loss: 0.21340 test_emotion_acc: 0.618 test_confound_loss: 0.15191 test_confound_acc: 0.600 test_emotion_uar: 0.524 test_confound_uar: 0.587\n",
      "epoch: 4/10\n",
      "train_emotion_loss: 0.98646 train_emotion_acc: 0.537 train_confound_loss: 0.68873 train_confound_acc: 0.561 test_emotion_loss: 0.21179 test_emotion_acc: 0.604 test_confound_loss: 0.15129 test_confound_acc: 0.642 test_emotion_uar: 0.551 test_confound_uar: 0.630\n",
      "epoch: 5/10\n",
      "train_emotion_loss: 0.97535 train_emotion_acc: 0.558 train_confound_loss: 0.68683 train_confound_acc: 0.570 test_emotion_loss: 0.20868 test_emotion_acc: 0.617 test_confound_loss: 0.15091 test_confound_acc: 0.620 test_emotion_uar: 0.557 test_confound_uar: 0.605\n",
      "epoch: 6/10\n",
      "train_emotion_loss: 0.96288 train_emotion_acc: 0.568 train_confound_loss: 0.68652 train_confound_acc: 0.558 test_emotion_loss: 0.20895 test_emotion_acc: 0.604 test_confound_loss: 0.15177 test_confound_acc: 0.569 test_emotion_uar: 0.559 test_confound_uar: 0.556\n",
      "epoch: 7/10\n",
      "train_emotion_loss: 0.95052 train_emotion_acc: 0.587 train_confound_loss: 0.68838 train_confound_acc: 0.538 test_emotion_loss: 0.20975 test_emotion_acc: 0.590 test_confound_loss: 0.15262 test_confound_acc: 0.538 test_emotion_uar: 0.552 test_confound_uar: 0.526\n",
      "epoch: 8/10\n",
      "train_emotion_loss: 0.94203 train_emotion_acc: 0.603 train_confound_loss: 0.68862 train_confound_acc: 0.537 test_emotion_loss: 0.20885 test_emotion_acc: 0.597 test_confound_loss: 0.15228 test_confound_acc: 0.555 test_emotion_uar: 0.560 test_confound_uar: 0.535\n",
      "epoch: 9/10\n",
      "train_emotion_loss: 0.93720 train_emotion_acc: 0.608 train_confound_loss: 0.68877 train_confound_acc: 0.540 test_emotion_loss: 0.20913 test_emotion_acc: 0.593 test_confound_loss: 0.15224 test_confound_acc: 0.555 test_emotion_uar: 0.558 test_confound_uar: 0.533\n",
      "epoch: 10/10\n",
      "train_emotion_loss: 0.93955 train_emotion_acc: 0.599 train_confound_loss: 0.68833 train_confound_acc: 0.539 test_emotion_loss: 0.20921 test_emotion_acc: 0.589 test_confound_loss: 0.15226 test_confound_acc: 0.551 test_emotion_uar: 0.557 test_confound_uar: 0.530\n"
     ]
    }
   ],
   "source": [
    "model = MasterNet(acoustic_modality = True, lexical_modality = True, visual_modality = False)\n",
    "best_acc, best_uar = train_one_folder(model, folder = 0, verbose = True, epochs = 10)\n",
    "acc.append(best_acc)\n",
    "uar.append(best_uar)"
   ]
  },
  {
   "cell_type": "code",
   "execution_count": 55,
   "id": "incredible-democracy",
   "metadata": {},
   "outputs": [
    {
     "name": "stdout",
     "output_type": "stream",
     "text": [
      "epoch: 1/10\n",
      "train_emotion_loss: 1.09698 train_emotion_acc: 0.350 train_confound_loss: 0.70207 train_confound_acc: 0.498 test_emotion_loss: 0.23862 test_emotion_acc: 0.446 test_confound_loss: 0.16241 test_confound_acc: 0.433 test_emotion_uar: 0.388 test_confound_uar: 0.217\n",
      "epoch: 2/10\n",
      "train_emotion_loss: 1.05219 train_emotion_acc: 0.481 train_confound_loss: 0.69889 train_confound_acc: 0.496 test_emotion_loss: 0.21871 test_emotion_acc: 0.573 test_confound_loss: 0.15351 test_confound_acc: 0.471 test_emotion_uar: 0.381 test_confound_uar: 0.519\n",
      "epoch: 3/10\n"
     ]
    },
    {
     "name": "stderr",
     "output_type": "stream",
     "text": [
      "/home/brandon/src/stressed_emotion/.venv/lib/python3.8/site-packages/sklearn/metrics/_classification.py:1245: UndefinedMetricWarning: Recall is ill-defined and being set to 0.0 in labels with no true samples. Use `zero_division` parameter to control this behavior.\n",
      "  _warn_prf(average, modifier, msg_start, len(result))\n"
     ]
    },
    {
     "name": "stdout",
     "output_type": "stream",
     "text": [
      "train_emotion_loss: 1.01409 train_emotion_acc: 0.507 train_confound_loss: 0.69183 train_confound_acc: 0.530 test_emotion_loss: 0.21417 test_emotion_acc: 0.584 test_confound_loss: 0.15137 test_confound_acc: 0.584 test_emotion_uar: 0.500 test_confound_uar: 0.570\n",
      "epoch: 4/10\n",
      "train_emotion_loss: 0.98820 train_emotion_acc: 0.543 train_confound_loss: 0.69211 train_confound_acc: 0.522 test_emotion_loss: 0.21211 test_emotion_acc: 0.586 test_confound_loss: 0.15225 test_confound_acc: 0.540 test_emotion_uar: 0.517 test_confound_uar: 0.550\n",
      "epoch: 5/10\n",
      "train_emotion_loss: 0.97366 train_emotion_acc: 0.556 train_confound_loss: 0.69264 train_confound_acc: 0.515 test_emotion_loss: 0.20987 test_emotion_acc: 0.580 test_confound_loss: 0.15065 test_confound_acc: 0.615 test_emotion_uar: 0.519 test_confound_uar: 0.605\n",
      "epoch: 6/10\n",
      "train_emotion_loss: 0.97378 train_emotion_acc: 0.559 train_confound_loss: 0.68995 train_confound_acc: 0.540 test_emotion_loss: 0.21012 test_emotion_acc: 0.573 test_confound_loss: 0.15071 test_confound_acc: 0.596 test_emotion_uar: 0.523 test_confound_uar: 0.602\n",
      "epoch: 7/10\n",
      "train_emotion_loss: 0.95950 train_emotion_acc: 0.570 train_confound_loss: 0.69056 train_confound_acc: 0.534 test_emotion_loss: 0.21028 test_emotion_acc: 0.564 test_confound_loss: 0.15047 test_confound_acc: 0.602 test_emotion_uar: 0.532 test_confound_uar: 0.594\n",
      "epoch: 8/10\n",
      "train_emotion_loss: 0.94861 train_emotion_acc: 0.593 train_confound_loss: 0.69039 train_confound_acc: 0.531 test_emotion_loss: 0.20939 test_emotion_acc: 0.570 test_confound_loss: 0.15140 test_confound_acc: 0.565 test_emotion_uar: 0.532 test_confound_uar: 0.556\n",
      "epoch: 9/10\n",
      "train_emotion_loss: 0.92862 train_emotion_acc: 0.617 train_confound_loss: 0.68988 train_confound_acc: 0.544 test_emotion_loss: 0.21042 test_emotion_acc: 0.560 test_confound_loss: 0.15205 test_confound_acc: 0.543 test_emotion_uar: 0.535 test_confound_uar: 0.534\n",
      "epoch: 10/10\n",
      "train_emotion_loss: 0.93148 train_emotion_acc: 0.610 train_confound_loss: 0.69113 train_confound_acc: 0.528 test_emotion_loss: 0.20972 test_emotion_acc: 0.570 test_confound_loss: 0.15211 test_confound_acc: 0.541 test_emotion_uar: 0.544 test_confound_uar: 0.533\n"
     ]
    }
   ],
   "source": [
    "model = MasterNet(acoustic_modality = True, lexical_modality = True, visual_modality = False)\n",
    "best_acc, best_uar = train_one_folder(model, folder = 1, verbose = True, epochs = 10)\n",
    "acc.append(best_acc)\n",
    "uar.append(best_uar)"
   ]
  },
  {
   "cell_type": "code",
   "execution_count": 56,
   "id": "greatest-combination",
   "metadata": {},
   "outputs": [
    {
     "name": "stdout",
     "output_type": "stream",
     "text": [
      "epoch: 1/10\n",
      "train_emotion_loss: 1.09692 train_emotion_acc: 0.360 train_confound_loss: 0.70355 train_confound_acc: 0.447 test_emotion_loss: 0.28100 test_emotion_acc: 0.472 test_confound_loss: 0.19055 test_confound_acc: 0.364 test_emotion_uar: 0.442 test_confound_uar: 0.329\n",
      "epoch: 2/10\n",
      "train_emotion_loss: 1.05867 train_emotion_acc: 0.482 train_confound_loss: 0.70267 train_confound_acc: 0.458 test_emotion_loss: 0.26205 test_emotion_acc: 0.559 test_confound_loss: 0.17768 test_confound_acc: 0.544 test_emotion_uar: 0.455 test_confound_uar: 0.680\n",
      "epoch: 3/10\n",
      "train_emotion_loss: 1.01599 train_emotion_acc: 0.501 train_confound_loss: 0.68688 train_confound_acc: 0.544 test_emotion_loss: 0.25802 test_emotion_acc: 0.539 test_confound_loss: 0.17741 test_confound_acc: 0.549 test_emotion_uar: 0.510 test_confound_uar: 0.616\n",
      "epoch: 4/10\n",
      "train_emotion_loss: 0.99332 train_emotion_acc: 0.534 train_confound_loss: 0.69050 train_confound_acc: 0.535 test_emotion_loss: 0.25218 test_emotion_acc: 0.574 test_confound_loss: 0.17858 test_confound_acc: 0.550 test_emotion_uar: 0.543 test_confound_uar: 0.562\n",
      "epoch: 5/10\n",
      "train_emotion_loss: 0.97835 train_emotion_acc: 0.557 train_confound_loss: 0.68777 train_confound_acc: 0.550 test_emotion_loss: 0.25072 test_emotion_acc: 0.564 test_confound_loss: 0.17752 test_confound_acc: 0.566 test_emotion_uar: 0.533 test_confound_uar: 0.596\n",
      "epoch: 6/10\n",
      "train_emotion_loss: 0.96038 train_emotion_acc: 0.574 train_confound_loss: 0.68580 train_confound_acc: 0.561 test_emotion_loss: 0.25051 test_emotion_acc: 0.563 test_confound_loss: 0.17809 test_confound_acc: 0.559 test_emotion_uar: 0.552 test_confound_uar: 0.587\n",
      "epoch: 7/10\n",
      "train_emotion_loss: 0.95720 train_emotion_acc: 0.578 train_confound_loss: 0.68705 train_confound_acc: 0.553 test_emotion_loss: 0.24934 test_emotion_acc: 0.567 test_confound_loss: 0.17953 test_confound_acc: 0.540 test_emotion_uar: 0.554 test_confound_uar: 0.561\n",
      "epoch: 8/10\n",
      "train_emotion_loss: 0.94028 train_emotion_acc: 0.601 train_confound_loss: 0.68671 train_confound_acc: 0.552 test_emotion_loss: 0.24996 test_emotion_acc: 0.563 test_confound_loss: 0.17967 test_confound_acc: 0.534 test_emotion_uar: 0.552 test_confound_uar: 0.552\n",
      "epoch: 9/10\n",
      "train_emotion_loss: 0.94421 train_emotion_acc: 0.600 train_confound_loss: 0.68949 train_confound_acc: 0.543 test_emotion_loss: 0.24972 test_emotion_acc: 0.562 test_confound_loss: 0.17964 test_confound_acc: 0.538 test_emotion_uar: 0.547 test_confound_uar: 0.558\n",
      "epoch: 10/10\n",
      "train_emotion_loss: 0.93786 train_emotion_acc: 0.599 train_confound_loss: 0.68870 train_confound_acc: 0.542 test_emotion_loss: 0.24964 test_emotion_acc: 0.562 test_confound_loss: 0.17964 test_confound_acc: 0.537 test_emotion_uar: 0.547 test_confound_uar: 0.555\n"
     ]
    }
   ],
   "source": [
    "model = MasterNet(acoustic_modality = True, lexical_modality = True, visual_modality = False)\n",
    "best_acc, best_uar = train_one_folder(model, folder = 2, verbose = True, epochs = 10)\n",
    "acc.append(best_acc)\n",
    "uar.append(best_uar)"
   ]
  },
  {
   "cell_type": "code",
   "execution_count": null,
   "id": "alleged-wrist",
   "metadata": {},
   "outputs": [
    {
     "name": "stdout",
     "output_type": "stream",
     "text": [
      "epoch: 1/10\n",
      "train_emotion_loss: 1.09593 train_emotion_acc: 0.370 train_confound_loss: 0.71287 train_confound_acc: 0.465 test_emotion_loss: 0.27589 test_emotion_acc: 0.501 test_confound_loss: 0.18235 test_confound_acc: 0.478 test_emotion_uar: 0.522 test_confound_uar: 0.313\n",
      "epoch: 2/10\n",
      "train_emotion_loss: 1.05845 train_emotion_acc: 0.474 train_confound_loss: 0.69847 train_confound_acc: 0.454 test_emotion_loss: 0.26013 test_emotion_acc: 0.529 test_confound_loss: 0.17802 test_confound_acc: 0.490 test_emotion_uar: 0.437 test_confound_uar: 0.483\n",
      "epoch: 3/10\n"
     ]
    }
   ],
   "source": [
    "model = MasterNet(acoustic_modality = True, lexical_modality = True, visual_modality = False)\n",
    "best_acc, best_uar = train_one_folder(model, folder = 3, verbose = True, epochs = 10)\n",
    "acc.append(best_acc)\n",
    "uar.append(best_uar)"
   ]
  },
  {
   "cell_type": "code",
   "execution_count": null,
   "id": "failing-turkey",
   "metadata": {},
   "outputs": [],
   "source": [
    "model = MasterNet(acoustic_modality = True, lexical_modality = True, visual_modality = False)\n",
    "best_acc, best_uar = train_one_folder(model, folder = 4, verbose = True, epochs = 10)\n",
    "acc.append(best_acc)\n",
    "uar.append(best_uar)"
   ]
  },
  {
   "cell_type": "code",
   "execution_count": null,
   "id": "expanded-render",
   "metadata": {},
   "outputs": [],
   "source": [
    "import matplotlib.pyplot as plt\n",
    "plt.bar(range(5),acc)"
   ]
  },
  {
   "cell_type": "code",
   "execution_count": null,
   "id": "sound-edward",
   "metadata": {},
   "outputs": [],
   "source": [
    "plt.bar(range(5),uar)"
   ]
  },
  {
   "cell_type": "code",
   "execution_count": null,
   "id": "serial-buffalo",
   "metadata": {},
   "outputs": [],
   "source": [
    "print(acc)\n",
    "print(uar)"
   ]
  },
  {
   "cell_type": "code",
   "execution_count": null,
   "id": "external-apparel",
   "metadata": {},
   "outputs": [],
   "source": [
    "import pandas as pd"
   ]
  },
  {
   "cell_type": "code",
   "execution_count": null,
   "id": "generous-reply",
   "metadata": {},
   "outputs": [],
   "source": [
    "pd.DataFrame([acc,uar]).T"
   ]
  },
  {
   "cell_type": "code",
   "execution_count": null,
   "id": "tribal-multimedia",
   "metadata": {},
   "outputs": [],
   "source": [
    "np.average(acc)"
   ]
  },
  {
   "cell_type": "code",
   "execution_count": null,
   "id": "comprehensive-dutch",
   "metadata": {},
   "outputs": [],
   "source": [
    "np.average(uar)"
   ]
  }
 ],
 "metadata": {
  "kernelspec": {
   "display_name": "Python 3",
   "language": "python",
   "name": "python3"
  },
  "language_info": {
   "codemirror_mode": {
    "name": "ipython",
    "version": 3
   },
   "file_extension": ".py",
   "mimetype": "text/x-python",
   "name": "python",
   "nbconvert_exporter": "python",
   "pygments_lexer": "ipython3",
   "version": "3.8.6"
  }
 },
 "nbformat": 4,
 "nbformat_minor": 5
}
