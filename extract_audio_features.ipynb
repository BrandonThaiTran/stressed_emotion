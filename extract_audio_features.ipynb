{
 "cells": [
  {
   "cell_type": "markdown",
   "id": "actual-synthetic",
   "metadata": {},
   "source": [
    "# Imports"
   ]
  },
  {
   "cell_type": "code",
   "execution_count": 2,
   "id": "systematic-factory",
   "metadata": {},
   "outputs": [],
   "source": [
    "import moviepy.editor as mp"
   ]
  },
  {
   "cell_type": "code",
   "execution_count": 3,
   "id": "assumed-mouth",
   "metadata": {},
   "outputs": [
    {
     "data": {
      "text/plain": [
       "<moviepy.video.io.VideoFileClip.VideoFileClip at 0x7f29f841d760>"
      ]
     },
     "execution_count": 3,
     "metadata": {},
     "output_type": "execute_result"
    }
   ],
   "source": [
    "clip = mp.VideoFileClip(r\"talking.mp4\")\n",
    "clip"
   ]
  },
  {
   "cell_type": "code",
   "execution_count": 4,
   "id": "interstate-lambda",
   "metadata": {},
   "outputs": [
    {
     "name": "stderr",
     "output_type": "stream",
     "text": [
      "                                                        "
     ]
    },
    {
     "name": "stdout",
     "output_type": "stream",
     "text": [
      "MoviePy - Writing audio in talking_audio.wav\n",
      "MoviePy - Done.\n"
     ]
    },
    {
     "name": "stderr",
     "output_type": "stream",
     "text": [
      "\r"
     ]
    }
   ],
   "source": [
    "clip.audio.write_audiofile(r\"talking_audio.wav\")"
   ]
  },
  {
   "cell_type": "code",
   "execution_count": 5,
   "id": "printable-protest",
   "metadata": {},
   "outputs": [
    {
     "name": "stderr",
     "output_type": "stream",
     "text": [
      "SoX could not be found!\n",
      "\n",
      "    If you do not have SoX, proceed here:\n",
      "     - - - http://sox.sourceforge.net/ - - -\n",
      "\n",
      "    If you do (or think that you should) have SoX, double-check your\n",
      "    path variables.\n",
      "    \n"
     ]
    }
   ],
   "source": [
    "import numpy as np\n",
    "import pandas as pd\n",
    "import audiofile\n",
    "import sox\n",
    "import opensmile"
   ]
  },
  {
   "cell_type": "code",
   "execution_count": 6,
   "id": "changing-table",
   "metadata": {},
   "outputs": [],
   "source": [
    "file = 'talking_audio.wav'\n",
    "signal, sampling_rate = audiofile.read(file, always_2d=True)\n",
    "signal = signal.sum(axis=0) / 2"
   ]
  },
  {
   "cell_type": "code",
   "execution_count": 7,
   "id": "northern-least",
   "metadata": {},
   "outputs": [
    {
     "data": {
      "text/plain": [
       "['F0semitoneFrom27.5Hz_sma3nz_amean',\n",
       " 'F0semitoneFrom27.5Hz_sma3nz_stddevNorm',\n",
       " 'F0semitoneFrom27.5Hz_sma3nz_percentile20.0',\n",
       " 'F0semitoneFrom27.5Hz_sma3nz_percentile50.0',\n",
       " 'F0semitoneFrom27.5Hz_sma3nz_percentile80.0',\n",
       " 'F0semitoneFrom27.5Hz_sma3nz_pctlrange0-2',\n",
       " 'F0semitoneFrom27.5Hz_sma3nz_meanRisingSlope',\n",
       " 'F0semitoneFrom27.5Hz_sma3nz_stddevRisingSlope',\n",
       " 'F0semitoneFrom27.5Hz_sma3nz_meanFallingSlope',\n",
       " 'F0semitoneFrom27.5Hz_sma3nz_stddevFallingSlope',\n",
       " 'loudness_sma3_amean',\n",
       " 'loudness_sma3_stddevNorm',\n",
       " 'loudness_sma3_percentile20.0',\n",
       " 'loudness_sma3_percentile50.0',\n",
       " 'loudness_sma3_percentile80.0',\n",
       " 'loudness_sma3_pctlrange0-2',\n",
       " 'loudness_sma3_meanRisingSlope',\n",
       " 'loudness_sma3_stddevRisingSlope',\n",
       " 'loudness_sma3_meanFallingSlope',\n",
       " 'loudness_sma3_stddevFallingSlope',\n",
       " 'spectralFlux_sma3_amean',\n",
       " 'spectralFlux_sma3_stddevNorm',\n",
       " 'mfcc1_sma3_amean',\n",
       " 'mfcc1_sma3_stddevNorm',\n",
       " 'mfcc2_sma3_amean',\n",
       " 'mfcc2_sma3_stddevNorm',\n",
       " 'mfcc3_sma3_amean',\n",
       " 'mfcc3_sma3_stddevNorm',\n",
       " 'mfcc4_sma3_amean',\n",
       " 'mfcc4_sma3_stddevNorm',\n",
       " 'jitterLocal_sma3nz_amean',\n",
       " 'jitterLocal_sma3nz_stddevNorm',\n",
       " 'shimmerLocaldB_sma3nz_amean',\n",
       " 'shimmerLocaldB_sma3nz_stddevNorm',\n",
       " 'HNRdBACF_sma3nz_amean',\n",
       " 'HNRdBACF_sma3nz_stddevNorm',\n",
       " 'logRelF0-H1-H2_sma3nz_amean',\n",
       " 'logRelF0-H1-H2_sma3nz_stddevNorm',\n",
       " 'logRelF0-H1-A3_sma3nz_amean',\n",
       " 'logRelF0-H1-A3_sma3nz_stddevNorm',\n",
       " 'F1frequency_sma3nz_amean',\n",
       " 'F1frequency_sma3nz_stddevNorm',\n",
       " 'F1bandwidth_sma3nz_amean',\n",
       " 'F1bandwidth_sma3nz_stddevNorm',\n",
       " 'F1amplitudeLogRelF0_sma3nz_amean',\n",
       " 'F1amplitudeLogRelF0_sma3nz_stddevNorm',\n",
       " 'F2frequency_sma3nz_amean',\n",
       " 'F2frequency_sma3nz_stddevNorm',\n",
       " 'F2bandwidth_sma3nz_amean',\n",
       " 'F2bandwidth_sma3nz_stddevNorm',\n",
       " 'F2amplitudeLogRelF0_sma3nz_amean',\n",
       " 'F2amplitudeLogRelF0_sma3nz_stddevNorm',\n",
       " 'F3frequency_sma3nz_amean',\n",
       " 'F3frequency_sma3nz_stddevNorm',\n",
       " 'F3bandwidth_sma3nz_amean',\n",
       " 'F3bandwidth_sma3nz_stddevNorm',\n",
       " 'F3amplitudeLogRelF0_sma3nz_amean',\n",
       " 'F3amplitudeLogRelF0_sma3nz_stddevNorm',\n",
       " 'alphaRatioV_sma3nz_amean',\n",
       " 'alphaRatioV_sma3nz_stddevNorm',\n",
       " 'hammarbergIndexV_sma3nz_amean',\n",
       " 'hammarbergIndexV_sma3nz_stddevNorm',\n",
       " 'slopeV0-500_sma3nz_amean',\n",
       " 'slopeV0-500_sma3nz_stddevNorm',\n",
       " 'slopeV500-1500_sma3nz_amean',\n",
       " 'slopeV500-1500_sma3nz_stddevNorm',\n",
       " 'spectralFluxV_sma3nz_amean',\n",
       " 'spectralFluxV_sma3nz_stddevNorm',\n",
       " 'mfcc1V_sma3nz_amean',\n",
       " 'mfcc1V_sma3nz_stddevNorm',\n",
       " 'mfcc2V_sma3nz_amean',\n",
       " 'mfcc2V_sma3nz_stddevNorm',\n",
       " 'mfcc3V_sma3nz_amean',\n",
       " 'mfcc3V_sma3nz_stddevNorm',\n",
       " 'mfcc4V_sma3nz_amean',\n",
       " 'mfcc4V_sma3nz_stddevNorm',\n",
       " 'alphaRatioUV_sma3nz_amean',\n",
       " 'hammarbergIndexUV_sma3nz_amean',\n",
       " 'slopeUV0-500_sma3nz_amean',\n",
       " 'slopeUV500-1500_sma3nz_amean',\n",
       " 'spectralFluxUV_sma3nz_amean',\n",
       " 'loudnessPeaksPerSec',\n",
       " 'VoicedSegmentsPerSec',\n",
       " 'MeanVoicedSegmentLengthSec',\n",
       " 'StddevVoicedSegmentLengthSec',\n",
       " 'MeanUnvoicedSegmentLength',\n",
       " 'StddevUnvoicedSegmentLength',\n",
       " 'equivalentSoundLevel_dBp']"
      ]
     },
     "execution_count": 7,
     "metadata": {},
     "output_type": "execute_result"
    }
   ],
   "source": [
    "smile = opensmile.Smile(\n",
    "    feature_set=opensmile.FeatureSet.eGeMAPSv02,\n",
    "    feature_level=opensmile.FeatureLevel.Functionals\n",
    ")\n",
    "smile.feature_names"
   ]
  },
  {
   "cell_type": "code",
   "execution_count": 8,
   "id": "helpful-setting",
   "metadata": {},
   "outputs": [
    {
     "data": {
      "text/html": [
       "<div>\n",
       "<style scoped>\n",
       "    .dataframe tbody tr th:only-of-type {\n",
       "        vertical-align: middle;\n",
       "    }\n",
       "\n",
       "    .dataframe tbody tr th {\n",
       "        vertical-align: top;\n",
       "    }\n",
       "\n",
       "    .dataframe thead th {\n",
       "        text-align: right;\n",
       "    }\n",
       "</style>\n",
       "<table border=\"1\" class=\"dataframe\">\n",
       "  <thead>\n",
       "    <tr style=\"text-align: right;\">\n",
       "      <th></th>\n",
       "      <th></th>\n",
       "      <th>F0semitoneFrom27.5Hz_sma3nz_amean</th>\n",
       "      <th>F0semitoneFrom27.5Hz_sma3nz_stddevNorm</th>\n",
       "      <th>F0semitoneFrom27.5Hz_sma3nz_percentile20.0</th>\n",
       "      <th>F0semitoneFrom27.5Hz_sma3nz_percentile50.0</th>\n",
       "      <th>F0semitoneFrom27.5Hz_sma3nz_percentile80.0</th>\n",
       "      <th>F0semitoneFrom27.5Hz_sma3nz_pctlrange0-2</th>\n",
       "      <th>F0semitoneFrom27.5Hz_sma3nz_meanRisingSlope</th>\n",
       "      <th>F0semitoneFrom27.5Hz_sma3nz_stddevRisingSlope</th>\n",
       "      <th>F0semitoneFrom27.5Hz_sma3nz_meanFallingSlope</th>\n",
       "      <th>F0semitoneFrom27.5Hz_sma3nz_stddevFallingSlope</th>\n",
       "      <th>...</th>\n",
       "      <th>slopeUV0-500_sma3nz_amean</th>\n",
       "      <th>slopeUV500-1500_sma3nz_amean</th>\n",
       "      <th>spectralFluxUV_sma3nz_amean</th>\n",
       "      <th>loudnessPeaksPerSec</th>\n",
       "      <th>VoicedSegmentsPerSec</th>\n",
       "      <th>MeanVoicedSegmentLengthSec</th>\n",
       "      <th>StddevVoicedSegmentLengthSec</th>\n",
       "      <th>MeanUnvoicedSegmentLength</th>\n",
       "      <th>StddevUnvoicedSegmentLength</th>\n",
       "      <th>equivalentSoundLevel_dBp</th>\n",
       "    </tr>\n",
       "    <tr>\n",
       "      <th>start</th>\n",
       "      <th>end</th>\n",
       "      <th></th>\n",
       "      <th></th>\n",
       "      <th></th>\n",
       "      <th></th>\n",
       "      <th></th>\n",
       "      <th></th>\n",
       "      <th></th>\n",
       "      <th></th>\n",
       "      <th></th>\n",
       "      <th></th>\n",
       "      <th></th>\n",
       "      <th></th>\n",
       "      <th></th>\n",
       "      <th></th>\n",
       "      <th></th>\n",
       "      <th></th>\n",
       "      <th></th>\n",
       "      <th></th>\n",
       "      <th></th>\n",
       "      <th></th>\n",
       "      <th></th>\n",
       "    </tr>\n",
       "  </thead>\n",
       "  <tbody>\n",
       "    <tr>\n",
       "      <th>0 days</th>\n",
       "      <th>0 days 00:00:07.660000</th>\n",
       "      <td>31.579668</td>\n",
       "      <td>0.250791</td>\n",
       "      <td>21.158659</td>\n",
       "      <td>34.745209</td>\n",
       "      <td>38.096592</td>\n",
       "      <td>16.937933</td>\n",
       "      <td>234.15416</td>\n",
       "      <td>141.386093</td>\n",
       "      <td>102.387245</td>\n",
       "      <td>64.986214</td>\n",
       "      <td>...</td>\n",
       "      <td>-0.009173</td>\n",
       "      <td>-0.025208</td>\n",
       "      <td>2.444235</td>\n",
       "      <td>4.444445</td>\n",
       "      <td>0.791557</td>\n",
       "      <td>1.203333</td>\n",
       "      <td>0.861272</td>\n",
       "      <td>0.076667</td>\n",
       "      <td>0.028674</td>\n",
       "      <td>-14.161787</td>\n",
       "    </tr>\n",
       "  </tbody>\n",
       "</table>\n",
       "<p>1 rows × 88 columns</p>\n",
       "</div>"
      ],
      "text/plain": [
       "                               F0semitoneFrom27.5Hz_sma3nz_amean  \\\n",
       "start  end                                                         \n",
       "0 days 0 days 00:00:07.660000                          31.579668   \n",
       "\n",
       "                               F0semitoneFrom27.5Hz_sma3nz_stddevNorm  \\\n",
       "start  end                                                              \n",
       "0 days 0 days 00:00:07.660000                                0.250791   \n",
       "\n",
       "                               F0semitoneFrom27.5Hz_sma3nz_percentile20.0  \\\n",
       "start  end                                                                  \n",
       "0 days 0 days 00:00:07.660000                                   21.158659   \n",
       "\n",
       "                               F0semitoneFrom27.5Hz_sma3nz_percentile50.0  \\\n",
       "start  end                                                                  \n",
       "0 days 0 days 00:00:07.660000                                   34.745209   \n",
       "\n",
       "                               F0semitoneFrom27.5Hz_sma3nz_percentile80.0  \\\n",
       "start  end                                                                  \n",
       "0 days 0 days 00:00:07.660000                                   38.096592   \n",
       "\n",
       "                               F0semitoneFrom27.5Hz_sma3nz_pctlrange0-2  \\\n",
       "start  end                                                                \n",
       "0 days 0 days 00:00:07.660000                                 16.937933   \n",
       "\n",
       "                               F0semitoneFrom27.5Hz_sma3nz_meanRisingSlope  \\\n",
       "start  end                                                                   \n",
       "0 days 0 days 00:00:07.660000                                    234.15416   \n",
       "\n",
       "                               F0semitoneFrom27.5Hz_sma3nz_stddevRisingSlope  \\\n",
       "start  end                                                                     \n",
       "0 days 0 days 00:00:07.660000                                     141.386093   \n",
       "\n",
       "                               F0semitoneFrom27.5Hz_sma3nz_meanFallingSlope  \\\n",
       "start  end                                                                    \n",
       "0 days 0 days 00:00:07.660000                                    102.387245   \n",
       "\n",
       "                               F0semitoneFrom27.5Hz_sma3nz_stddevFallingSlope  \\\n",
       "start  end                                                                      \n",
       "0 days 0 days 00:00:07.660000                                       64.986214   \n",
       "\n",
       "                               ...  slopeUV0-500_sma3nz_amean  \\\n",
       "start  end                     ...                              \n",
       "0 days 0 days 00:00:07.660000  ...                  -0.009173   \n",
       "\n",
       "                               slopeUV500-1500_sma3nz_amean  \\\n",
       "start  end                                                    \n",
       "0 days 0 days 00:00:07.660000                     -0.025208   \n",
       "\n",
       "                               spectralFluxUV_sma3nz_amean  \\\n",
       "start  end                                                   \n",
       "0 days 0 days 00:00:07.660000                     2.444235   \n",
       "\n",
       "                               loudnessPeaksPerSec  VoicedSegmentsPerSec  \\\n",
       "start  end                                                                 \n",
       "0 days 0 days 00:00:07.660000             4.444445              0.791557   \n",
       "\n",
       "                               MeanVoicedSegmentLengthSec  \\\n",
       "start  end                                                  \n",
       "0 days 0 days 00:00:07.660000                    1.203333   \n",
       "\n",
       "                               StddevVoicedSegmentLengthSec  \\\n",
       "start  end                                                    \n",
       "0 days 0 days 00:00:07.660000                      0.861272   \n",
       "\n",
       "                               MeanUnvoicedSegmentLength  \\\n",
       "start  end                                                 \n",
       "0 days 0 days 00:00:07.660000                   0.076667   \n",
       "\n",
       "                               StddevUnvoicedSegmentLength  \\\n",
       "start  end                                                   \n",
       "0 days 0 days 00:00:07.660000                     0.028674   \n",
       "\n",
       "                               equivalentSoundLevel_dBp  \n",
       "start  end                                               \n",
       "0 days 0 days 00:00:07.660000                -14.161787  \n",
       "\n",
       "[1 rows x 88 columns]"
      ]
     },
     "execution_count": 8,
     "metadata": {},
     "output_type": "execute_result"
    }
   ],
   "source": [
    "smile.process_signal(signal, sampling_rate)"
   ]
  },
  {
   "cell_type": "code",
   "execution_count": 9,
   "id": "informal-marina",
   "metadata": {},
   "outputs": [],
   "source": [
    "features = smile.process_signal(signal, sampling_rate).values "
   ]
  },
  {
   "cell_type": "code",
   "execution_count": 10,
   "id": "measured-sheriff",
   "metadata": {},
   "outputs": [
    {
     "name": "stdout",
     "output_type": "stream",
     "text": [
      "[[ 3.15796680e+01  2.50791073e-01  2.11586590e+01  3.47452087e+01\n",
      "   3.80965919e+01  1.69379330e+01  2.34154160e+02  1.41386093e+02\n",
      "   1.02387245e+02  6.49862137e+01  2.88079166e+00  6.45313084e-01\n",
      "   1.33869958e+00  2.43577266e+00  4.08047342e+00  2.74177384e+00\n",
      "   4.20082703e+01  2.43715153e+01  2.99710236e+01  1.69870892e+01\n",
      "   2.62574053e+00  8.34305942e-01  2.20853863e+01  4.86702830e-01\n",
      "  -1.50551486e+00 -1.18269215e+01  1.97512341e+01  9.01396215e-01\n",
      "  -1.07003756e+01 -1.74209857e+00  8.29122216e-02  1.70896626e+00\n",
      "   1.29141319e+00  6.57065630e-01  3.41545200e+00  1.39157939e+00\n",
      "   4.27747011e+00  5.02716398e+00  9.20070171e+00  2.21117377e+00\n",
      "   4.68368378e+02  3.77923638e-01  1.14993799e+03  2.19540715e-01\n",
      "  -1.94071159e+01 -2.27629614e+00  1.55281006e+03  1.38313174e-01\n",
      "   8.65991150e+02  5.15632212e-01 -2.51853065e+01 -1.38584673e+00\n",
      "   2.54014868e+03  8.97291079e-02  9.15007324e+02  5.31669259e-01\n",
      "  -2.35159187e+01 -1.50657225e+00 -9.90354633e+00 -6.86786115e-01\n",
      "   1.66136036e+01  5.19073844e-01  6.44455524e-03  4.56778002e+00\n",
      "  -2.48327013e-02 -5.42638540e-01  2.63749576e+00  8.47310722e-01\n",
      "   2.25771446e+01  4.43972439e-01 -1.51850832e+00 -1.18219090e+01\n",
      "   1.98724003e+01  8.94860208e-01 -1.13891783e+01 -1.64445245e+00\n",
      "  -1.23251164e+00  7.08331251e+00 -9.17304400e-03 -2.52081156e-02\n",
      "   2.44423461e+00  4.44444466e+00  7.91556716e-01  1.20333338e+00\n",
      "   8.61271620e-01  7.66666606e-02  2.86744181e-02 -1.41617870e+01]]\n"
     ]
    }
   ],
   "source": [
    "print(features)"
   ]
  },
  {
   "cell_type": "code",
   "execution_count": null,
   "id": "exciting-scope",
   "metadata": {},
   "outputs": [],
   "source": []
  }
 ],
 "metadata": {
  "kernelspec": {
   "display_name": "Python 3",
   "language": "python",
   "name": "python3"
  },
  "language_info": {
   "codemirror_mode": {
    "name": "ipython",
    "version": 3
   },
   "file_extension": ".py",
   "mimetype": "text/x-python",
   "name": "python",
   "nbconvert_exporter": "python",
   "pygments_lexer": "ipython3",
   "version": "3.8.6"
  }
 },
 "nbformat": 4,
 "nbformat_minor": 5
}
